{
 "cells": [
  {
   "cell_type": "markdown",
   "metadata": {},
   "source": [
    "# <center>Eksploracja zbioru danych `Asian Religions Data` </center>"
   ]
  },
  {
   "cell_type": "code",
   "execution_count": 1,
   "metadata": {},
   "outputs": [],
   "source": [
    "# Pakiety\n",
    "import pandas as pd\n",
    "import numpy as np\n",
    "import sklearn\n",
    "import seaborn as sns\n",
    "from sklearn.preprocessing import StandardScaler\n",
    "from scipy import stats\n",
    "from collections import Counter \n",
    "import matplotlib.pyplot as plt\n",
    "import re\n",
    "plt.rcParams[\"figure.figsize\"] = (20,10)\n",
    "# Ustawienie ziarna, pozwala zachować reprodukowalność wyników\n",
    "np.random.seed(123)"
   ]
  },
  {
   "cell_type": "code",
   "execution_count": 2,
   "metadata": {},
   "outputs": [],
   "source": [
    "# Wczytanie danych\n",
    "data = pd.read_csv(\"./AsianReligionsData/AllBooks_baseline_DTM_Labelled.csv\")\n",
    "data.rename(columns={'Unnamed: 0':'Text'}, inplace=True)"
   ]
  },
  {
   "cell_type": "markdown",
   "metadata": {},
   "source": [
    "Większość tekstów w tym zbiorze danych zebrano z projektu Gutenberg. W zbiorze uwzględnioro się 8 ksiąg religijnych, w badaniu rozważono 8265 słów."
   ]
  },
  {
   "cell_type": "code",
   "execution_count": 3,
   "metadata": {},
   "outputs": [
    {
     "name": "stdout",
     "output_type": "stream",
     "text": [
      "\u001b[1mAsian Religions Data:\u001b[0m\n",
      "<class 'pandas.core.frame.DataFrame'>\n",
      "RangeIndex: 590 entries, 0 to 589\n",
      "Columns: 8267 entries, Text to explains\n",
      "dtypes: int64(8266), object(1)\n",
      "memory usage: 37.2+ MB\n"
     ]
    }
   ],
   "source": [
    "# Sprawdzenie wymiarów zbioru oraz obecnych w nim typów danych.\n",
    "print('\\033[1m' + 'Asian Religions Data:' + '\\033[0m')\n",
    "data.info()"
   ]
  },
  {
   "cell_type": "markdown",
   "metadata": {},
   "source": [
    "Poza pierwszym artybutem, tożsamym z nazwą/rozdziałem księgi, wszystkie zmienne objaśniające mają charakter liczbowy."
   ]
  },
  {
   "cell_type": "code",
   "execution_count": 4,
   "metadata": {},
   "outputs": [
    {
     "data": {
      "text/plain": [
       "False"
      ]
     },
     "execution_count": 4,
     "metadata": {},
     "output_type": "execute_result"
    }
   ],
   "source": [
    "# Sprawdzenie zbioru pod kątem obecności braków danych.\n",
    "data.isnull().values.any()"
   ]
  },
  {
   "cell_type": "markdown",
   "metadata": {},
   "source": [
    "W zbiorze nie występują braki danych. Dane nie wymagają czyszczenia."
   ]
  },
  {
   "cell_type": "code",
   "execution_count": 5,
   "metadata": {},
   "outputs": [],
   "source": [
    "def scaller(df):\n",
    "    # Skalowanie danych numerycznych\n",
    "    num = df.select_dtypes(include=['float64', 'int64']).columns\n",
    "    df2 = df.copy()\n",
    "    scaler = StandardScaler()\n",
    "    df2[num] = scaler.fit_transform(df2[num])\n",
    "    return(df2)"
   ]
  },
  {
   "cell_type": "code",
   "execution_count": 6,
   "metadata": {},
   "outputs": [],
   "source": [
    "def correlated_pairs(df):\n",
    "    df2 = scaller(df)\n",
    "    # Bezwzględne korelacje zmiennych\n",
    "    corr=df2.iloc[:, 1:].corr().abs()\n",
    "    # Z powodu symetrii macierzy wybieramy podmacierz trójkątną górną bez diagonali\n",
    "    upper = corr.where(np.triu(np.ones(corr.shape), k=1).astype(np.bool))\n",
    "    triu = upper.unstack().sort_values(ascending=False)\n",
    "    # Wybór najsilniej skorelowanych par zmiennych\n",
    "    result = triu[triu >= 0.8]\n",
    "    return result\n",
    "\n",
    "result = correlated_pairs(data)"
   ]
  },
  {
   "cell_type": "code",
   "execution_count": 7,
   "metadata": {},
   "outputs": [
    {
     "data": {
      "text/plain": [
       "breathes      neitherpainfulnorpleasant    1.000000\n",
       "smoulder      blaze                        1.000000\n",
       "extend        thoroughbreds                1.000000\n",
       "establisheth  resisteth                    1.000000\n",
       "secondly      colt                         1.000000\n",
       "                                             ...   \n",
       "extent        disposed                     0.800131\n",
       "              apprentice                   0.800131\n",
       "apprentice    tendons                      0.800131\n",
       "mindful       culmination                  0.800095\n",
       "internal      winds                        0.800008\n",
       "Length: 35328, dtype: float64"
      ]
     },
     "execution_count": 7,
     "metadata": {},
     "output_type": "execute_result"
    }
   ],
   "source": [
    "result"
   ]
  },
  {
   "cell_type": "code",
   "execution_count": 8,
   "metadata": {},
   "outputs": [
    {
     "data": {
      "text/plain": [
       "count    35328.000000\n",
       "mean         0.966030\n",
       "std          0.061034\n",
       "min          0.800008\n",
       "25%          0.948630\n",
       "50%          1.000000\n",
       "75%          1.000000\n",
       "max          1.000000\n",
       "dtype: float64"
      ]
     },
     "execution_count": 8,
     "metadata": {},
     "output_type": "execute_result"
    }
   ],
   "source": [
    "result.describe()"
   ]
  },
  {
   "cell_type": "markdown",
   "metadata": {},
   "source": [
    "Niektóre pary wyrazów są bardzo silnie skorelowane."
   ]
  },
  {
   "cell_type": "code",
   "execution_count": 9,
   "metadata": {},
   "outputs": [],
   "source": [
    "# Przekształcenie kolumn na wektory\n",
    "# Funkcja przyjmuje na wejściu ramkę danych,\n",
    "# na wyjściu zwraca słownik o strukturze: klucz - słowo, wartość - wektor\n",
    "def to_embedding_dict(data):\n",
    "    data1 = scaller(data)\n",
    "    # Tworzenie słownika\n",
    "    embeddings_dict = {}\n",
    "    for col in data1.columns:\n",
    "        if col == data1.columns[0]:\n",
    "            continue\n",
    "        word = col.lower()\n",
    "        vector = np.asarray(data1.loc[:, [col]])\n",
    "        embeddings_dict[word] = vector\n",
    "    return(embeddings_dict)"
   ]
  },
  {
   "cell_type": "code",
   "execution_count": 10,
   "metadata": {},
   "outputs": [],
   "source": [
    "embedding_dict = to_embedding_dict(data)"
   ]
  },
  {
   "cell_type": "code",
   "execution_count": 11,
   "metadata": {},
   "outputs": [],
   "source": [
    "# Funkcja znajdująca tablicę najbliższych sąsiadów (kluczy) najbliższych sąsiadów klucza \n",
    "# podanego na wejściu. Czyli w efekcie słów, które występują równie często, co słowo\n",
    "# podane na wejściu. Pozwala też sprawdzić czy dane słowo w ogóle występuje w słowniku.\n",
    "def nearest_neigh(key):\n",
    "    # Sprawdzenie czy w słowniku znajduje się wprowadzony klucz\n",
    "    if not key in list(embedding_dict.keys()):\n",
    "        return None\n",
    "    # Zmienne pomocnicze\n",
    "    min_dist = float('inf')\n",
    "    nearest = []\n",
    "    # Szukanie najbliższego klucza\n",
    "    for k in list(embedding_dict.keys()):\n",
    "        if k == key:\n",
    "            continue\n",
    "        dist = np.linalg.norm(embedding_dict.get(k)-embedding_dict.get(key))\n",
    "        if dist < min_dist:\n",
    "            min_dist = dist\n",
    "            nearest = []\n",
    "            nearest.append(k)\n",
    "        # Przypadek gdy mamy kilka \"równoodległych\" kluczy\n",
    "        elif dist == min_dist:\n",
    "            nearest.append(k)\n",
    "    return nearest"
   ]
  },
  {
   "cell_type": "code",
   "execution_count": 12,
   "metadata": {},
   "outputs": [
    {
     "name": "stdout",
     "output_type": "stream",
     "text": [
      "['fear']\n",
      "['hath']\n",
      "['riotous', 'perfections', 'praying', 'borrowing', 'tempteth', 'repaying', 'assuage', 'pebble', 'concertation']\n",
      "['bibles', 'bethhoron', 'protested', 'beset', 'caleb', 'josue', 'lords', 'floweth', 'jos', 'samuel', 'jephone', 'successor', 'withholding', 'shoe', 'tyrians', 'thundered', 'appeasing', 'stopped', 'resisted', 'assaulted']\n",
      "['dispensed', 'dealeth', 'scarcely', 'replenisheth', 'charge', 'concert', 'emerald', 'elder', 'acquitted', 'valour', 'carbuncle']\n",
      "['good']\n",
      "['dieth']\n"
     ]
    }
   ],
   "source": [
    "# Sprawdzenie rzeczowników wymienionych wśród najczęściej występujących w Biblii\n",
    "print(nearest_neigh('lord'))\n",
    "print(nearest_neigh('god'))\n",
    "print(nearest_neigh('mercy'))\n",
    "print(nearest_neigh('jesus'))\n",
    "print(nearest_neigh('faith'))\n",
    "print(nearest_neigh('evil'))\n",
    "print(nearest_neigh('spirit'))"
   ]
  },
  {
   "cell_type": "code",
   "execution_count": 13,
   "metadata": {},
   "outputs": [],
   "source": [
    "# Najczęściej występujące w ramce słowa \n",
    "def most_frequent_words(data,n=10):\n",
    "    words = data.columns\n",
    "    words = np.delete(words,0)\n",
    "    words_counter = np.array([0]*8266)\n",
    "    for i in range(len(data.iloc[:,1])):\n",
    "        row = np.array(data.iloc[i,:])\n",
    "\n",
    "        row = np.delete(row,0)\n",
    "        words_counter= words_counter+row \n",
    "    out = dict(zip(words,words_counter))\n",
    "    out = Counter(out)\n",
    "    return dict(out.most_common(n))\n",
    "    "
   ]
  },
  {
   "cell_type": "code",
   "execution_count": 14,
   "metadata": {},
   "outputs": [
    {
     "data": {
      "image/png": "[encoded data removed]",
      "text/plain": [
       "<Figure size 1440x720 with 1 Axes>"
      ]
     },
     "metadata": {
      "needs_background": "light"
     },
     "output_type": "display_data"
    }
   ],
   "source": [
    "most = most_frequent_words(data,n =15 )\n",
    "\n",
    "\n",
    "fig = plt.figure()\n",
    "ax = fig.add_axes([0,0,1,1])\n",
    "langs = list(most.values())\n",
    "students = most.keys()\n",
    "ax.tick_params(axis='both', which='major', labelsize=20)\n",
    "ax.bar(students,langs)\n",
    "plt.show()"
   ]
  },
  {
   "cell_type": "markdown",
   "metadata": {},
   "source": [
    "Nie wchodząc na razie w szczegóły warto zauważyć że nie pojawiły się słowa takie jak 'and' albo 'is' co może świadczyć o ich braku. Zbiór prawdopodobnie został wyczyszczony (choć nie koniecznie)."
   ]
  },
  {
   "cell_type": "code",
   "execution_count": 15,
   "metadata": {},
   "outputs": [
    {
     "name": "stdout",
     "output_type": "stream",
     "text": [
      "None\n",
      "None\n",
      "None\n",
      "None\n"
     ]
    }
   ],
   "source": [
    "# Sprawdźmy czy faktycznie w zbiorze nie ma słow 'and' i 'is'\n",
    "print(nearest_neigh('and'))\n",
    "print(nearest_neigh('is'))\n",
    "print(nearest_neigh('of'))\n",
    "print(nearest_neigh('to'))"
   ]
  },
  {
   "cell_type": "markdown",
   "metadata": {},
   "source": [
    "Ramka danych jest pozbawiona typowych angielskich wyrazów. Choć nie wszystkich:"
   ]
  },
  {
   "cell_type": "code",
   "execution_count": 16,
   "metadata": {},
   "outputs": [
    {
     "name": "stdout",
     "output_type": "stream",
     "text": [
      "['inaudible', 'unwinding', 'description', 'clue', 'indeterminable']\n"
     ]
    }
   ],
   "source": [
    "print(nearest_neigh('the'))"
   ]
  },
  {
   "cell_type": "code",
   "execution_count": 17,
   "metadata": {},
   "outputs": [
    {
     "name": "stdout",
     "output_type": "stream",
     "text": [
      "Index(['godvision', 'godly', 'godenlightened', 'god', 'godliness', 'godward',\n",
      "       'gods', 'godlike'],\n",
      "      dtype='object')\n"
     ]
    }
   ],
   "source": [
    "# Sprawdzę czy zostały usuniete różne formy poszczegółnych słow spodziewam się że tak dla tego wykonam tylko \n",
    "# kilka testów \n",
    "def test(word):\n",
    "    import re\n",
    "    index = [False]*8267\n",
    "    for i in range(len(data.columns)):\n",
    "        o =re.match(word,data.columns[i])\n",
    "\n",
    "        if o!=None:\n",
    "            index[i]=True\n",
    "    return data.columns[index] \n",
    "print(test('god'))\n",
    "# Słowa takie jak gods czy godly budzą wątpliwości czy hipoteza była słuszna i byc może trzeba będzie zastosować\n",
    "# jakiś sposób aby połączyć je w jedno "
   ]
  },
  {
   "cell_type": "code",
   "execution_count": 18,
   "metadata": {},
   "outputs": [
    {
     "name": "stdout",
     "output_type": "stream",
     "text": [
      "Index([], dtype='object')\n",
      "Index(['manifested', 'manifold', 'mansions', 'manifestly', 'mankind',\n",
      "       'manifestations', 'manhood', 'manner', 'manna', 'managing', 'mantram',\n",
      "       'manages', 'many', 'manycoloured', 'manifesting', 'manners', 'manacles',\n",
      "       'manifestation', 'managed', 'manifests', 'manes', 'manifest', 'man',\n",
      "       'mansion', 'manageable'],\n",
      "      dtype='object')\n"
     ]
    }
   ],
   "source": [
    "# Sprawdzę jescze inne słowa \n",
    "print(test('and')) # brak \n",
    "print(test('man')) # potwierdza to co pokazuje 'god'"
   ]
  },
  {
   "cell_type": "markdown",
   "metadata": {},
   "source": [
    "Możliwe, że pomocne przy klasteryzacji okaże się zastosowanie odległości Levenshteina i przetworzenie danych tak aby słowa 'god' 'godes' były liczone razem ale biorąc pod uwagę naturę tekstów (religine) drobne różnice mogą mieć duże znaczenie, więc na razie pozostaje to tylko hipotezą. "
   ]
  },
  {
   "cell_type": "code",
   "execution_count": 19,
   "metadata": {},
   "outputs": [],
   "source": [
    "# W zbiorze mamy księgi podzielone na rozdziały sprawdzę różnicę w częstości słow dla poszczególnych ksiąg \n",
    "data_books = data.copy()\n",
    "# Generowanie tytułów ksiąg\n",
    "names = []\n",
    "for i in range (len(data)):\n",
    "    \n",
    "    names.append(re.findall('([^_]+)',data_books.iloc[i,0])[0])\n",
    "names = np.unique(names)\n",
    "\n",
    "\n",
    "# index for selected book \n",
    "def index_selected_book(book):\n",
    "    index = [False] * 590\n",
    "    for i in range(len(data)):\n",
    "        \n",
    "        if book == re.findall('([^_]+)',data_books.iloc[i,0])[0]:\n",
    "            index[i] = True \n",
    "    index_number = [ ]\n",
    "    j = 0 \n",
    "    for i in index:\n",
    "        if i:\n",
    "            index_number.append(j)\n",
    "        j+=1 \n",
    "    return index_number\n",
    "\n",
    "# Generowanie ramki z informacjami\n",
    "def information_most_frequent(data,names):\n",
    "    \n",
    "    result = []\n",
    "    \n",
    "    for i in names:\n",
    "        w = most_frequent_words(data.iloc[index_selected_book(i),:])\n",
    "        result.append([i,w])\n",
    "    \n",
    "    return result"
   ]
  },
  {
   "cell_type": "code",
   "execution_count": 20,
   "metadata": {},
   "outputs": [
    {
     "data": {
      "text/plain": [
       "[['BookOfEccleasiasticus',\n",
       "  {'shall': 508,\n",
       "   'thy': 330,\n",
       "   'man': 232,\n",
       "   'thou': 230,\n",
       "   'god': 193,\n",
       "   'hath': 189,\n",
       "   'thee': 170,\n",
       "   'lord': 152,\n",
       "   'things': 120,\n",
       "   'upon': 115}],\n",
       " ['BookOfEcclesiastes',\n",
       "  {'shall': 89,\n",
       "   'man': 71,\n",
       "   'hath': 46,\n",
       "   'things': 46,\n",
       "   'god': 46,\n",
       "   'thy': 43,\n",
       "   'time': 42,\n",
       "   'sun': 36,\n",
       "   'also': 31,\n",
       "   'vanity': 29}],\n",
       " ['BookOfProverb',\n",
       "  {'shall': 389,\n",
       "   'man': 176,\n",
       "   'thy': 165,\n",
       "   'thou': 93,\n",
       "   'wicked': 92,\n",
       "   'lord': 85,\n",
       "   'wise': 71,\n",
       "   'hath': 65,\n",
       "   'heart': 64,\n",
       "   'thee': 59}],\n",
       " ['BookOfWisdom',\n",
       "  {'shall': 120,\n",
       "   'things': 89,\n",
       "   'thy': 86,\n",
       "   'god': 67,\n",
       "   'thou': 61,\n",
       "   'wisdom': 38,\n",
       "   'man': 38,\n",
       "   'upon': 37,\n",
       "   'made': 35,\n",
       "   'hath': 32}],\n",
       " ['Buddhism',\n",
       "  {'right': 128,\n",
       "   'feeling': 85,\n",
       "   'one': 75,\n",
       "   'stress': 74,\n",
       "   'body': 73,\n",
       "   'monk': 72,\n",
       "   'mind': 71,\n",
       "   'remains': 63,\n",
       "   'cessation': 62,\n",
       "   'called': 62}],\n",
       " ['TaoTeChing',\n",
       "  {'tao': 84,\n",
       "   'things': 56,\n",
       "   'one': 51,\n",
       "   'men': 45,\n",
       "   'great': 42,\n",
       "   'therefore': 40,\n",
       "   'heaven': 38,\n",
       "   'would': 36,\n",
       "   'thus': 33,\n",
       "   'people': 32}],\n",
       " ['Upanishad',\n",
       "  {'one': 100,\n",
       "   'self': 79,\n",
       "   'mind': 71,\n",
       "   'brahman': 68,\n",
       "   'man': 63,\n",
       "   'death': 56,\n",
       "   'knowledge': 51,\n",
       "   'know': 50,\n",
       "   'must': 46,\n",
       "   'nachiketas': 43}],\n",
       " ['YogaSutra',\n",
       "  {'spiritual': 300,\n",
       "   'man': 239,\n",
       "   'life': 148,\n",
       "   'consciousness': 122,\n",
       "   'power': 112,\n",
       "   'one': 108,\n",
       "   'mind': 98,\n",
       "   'soul': 94,\n",
       "   'things': 88,\n",
       "   'self': 81}]]"
      ]
     },
     "execution_count": 20,
     "metadata": {},
     "output_type": "execute_result"
    }
   ],
   "source": [
    "information_most_frequent(data,names)"
   ]
  },
  {
   "cell_type": "markdown",
   "metadata": {},
   "source": [
    "Widać wyrażne różnice po między różnymi tekstami choć wydaje się że słowa takie jak 'one','man','god','shall' powtarzają się częściej niż inne, choć dla poszczególnych ksiąg wcale nie muszą występować najczęściej."
   ]
  },
  {
   "cell_type": "markdown",
   "metadata": {},
   "source": [
    "W sprawie grupowania podobnych słów: nie wiem, na ile to legalne, ale proponowałbym pobrać jakiś zbiór możliwie bazowych form słów w języku angielskim. Następnie wyszukać te formy wśród naszych słów i po ich wyznaczeniu zgrupować je z ich odmianami (słowami spoza takiej bazy). Odpowiednim regeksem typu \"^\"+słowo, od najdłuższego takiego podstawowego słowa, żeby nie uznano odmiany _manifest_ jako pochodzącej od _man_. Nie wiem jeszcze, jak oddzielić _man_ od *many*, a jednocześnie _manifest_ od _manifestation_.\n",
    "\n",
    "Na ten moment zaimplementuję trochę inny, bardziej _intuicyjny_ algorytm:"
   ]
  },
  {
   "cell_type": "code",
   "execution_count": 3,
   "metadata": {
    "scrolled": true
   },
   "outputs": [
    {
     "data": {
      "text/plain": [
       "[['FALSE'],\n",
       " ['TRUE'],\n",
       " ['aaron'],\n",
       " ['abandon', 'abandoned', 'abandoning', 'abandons'],\n",
       " ['abase', 'abasement'],\n",
       " ['abashed'],\n",
       " ['abasing'],\n",
       " ['abated'],\n",
       " ['abates'],\n",
       " ['abateth'],\n",
       " ['aberrant'],\n",
       " ['abhor', 'abhorred', 'abhorreth'],\n",
       " ['abide', 'abides', 'abideth'],\n",
       " ['abiding', 'abidingplace'],\n",
       " ['abilities'],\n",
       " ['ability'],\n",
       " ['abiron'],\n",
       " ['able'],\n",
       " ['abnormal'],\n",
       " ['abode', 'abodes'],\n",
       " ['abolish', 'abolished'],\n",
       " ['abominable'],\n",
       " ['abomination', 'abominations'],\n",
       " ['abound', 'abounded', 'aboundeth'],\n",
       " ['abraham'],\n",
       " ['abroad'],\n",
       " ['absence'],\n",
       " ['absent'],\n",
       " ['absolute', 'absolutely'],\n",
       " ['absorbed'],\n",
       " ['absorbing'],\n",
       " ['absorption'],\n",
       " ['abstain', 'abstaineth', 'abstaining', 'abstains'],\n",
       " ['abstinence', 'abstinences'],\n",
       " ['abstract'],\n",
       " ['abundance'],\n",
       " ['abundant', 'abundantly'],\n",
       " ['abuse'],\n",
       " ['abusive'],\n",
       " ['abysmal'],\n",
       " ['abyss'],\n",
       " ['accept', 'acceptable', 'acceptance', 'accepted', 'accepts'],\n",
       " ['accessary'],\n",
       " ['accidental'],\n",
       " ['accidents'],\n",
       " ['acclimatization'],\n",
       " ['accompanied'],\n",
       " ['accomplish', 'accomplished', 'accomplishment'],\n",
       " ['accord', 'accordance', 'according'],\n",
       " ['account', 'accounts']]"
      ]
     },
     "execution_count": 3,
     "metadata": {},
     "output_type": "execute_result"
    }
   ],
   "source": [
    "# spis kolumn\n",
    "kolumny = data.columns[1:]\n",
    "COLS = kolumny.sort_values()\n",
    "\n",
    "# grupy słów (niżej wytłumaczenie działania)\n",
    "def groups(words):\n",
    "    groupsL = []\n",
    "    i = 0\n",
    "    j = 0\n",
    "    mainword = []\n",
    "    while j < 8266:\n",
    "        if not re.findall('^' + words[i], words[j]) == []:\n",
    "            mainword.append(words[j])\n",
    "            j = j + 1\n",
    "        else:\n",
    "            groupsL.append(mainword)\n",
    "            mainword = []\n",
    "            i = j\n",
    "    return groupsL\n",
    "groups(COLS)[:50]"
   ]
  },
  {
   "cell_type": "code",
   "execution_count": 22,
   "metadata": {},
   "outputs": [
    {
     "data": {
      "text/plain": [
       "2703"
      ]
     },
     "execution_count": 22,
     "metadata": {},
     "output_type": "execute_result"
    }
   ],
   "source": [
    "len(groups(COLS))"
   ]
  },
  {
   "cell_type": "markdown",
   "metadata": {},
   "source": [
    "Słowa zostały uporządkowane alfabetycznie i zgrupowane w taki sposób, żeby pierwsze słowo w każdej grupie zaczynało wszystkie następne. W większości przypadków wygląda to sensownie, ale problem sprawiają przypadki typu \"add/address/adds\" i \"man/manifest/mankind\". Planujemy to dopracować.\n",
    "\n",
    "Tymczasem, o co chodzi z kolumnami TRUE i FALSE?"
   ]
  },
  {
   "cell_type": "code",
   "execution_count": 4,
   "metadata": {},
   "outputs": [
    {
     "data": {
      "text/plain": [
       "count    590.000000\n",
       "mean       0.142373\n",
       "std        0.440020\n",
       "min        0.000000\n",
       "25%        0.000000\n",
       "50%        0.000000\n",
       "75%        0.000000\n",
       "max        3.000000\n",
       "Name: TRUE, dtype: float64"
      ]
     },
     "execution_count": 4,
     "metadata": {},
     "output_type": "execute_result"
    }
   ],
   "source": [
    "dtrue = data.TRUE\n",
    "dtrue.describe()"
   ]
  },
  {
   "cell_type": "code",
   "execution_count": 5,
   "metadata": {},
   "outputs": [
    {
     "data": {
      "text/plain": [
       "count    590.000000\n",
       "mean       0.030508\n",
       "std        0.199536\n",
       "min        0.000000\n",
       "25%        0.000000\n",
       "50%        0.000000\n",
       "75%        0.000000\n",
       "max        2.000000\n",
       "Name: FALSE, dtype: float64"
      ]
     },
     "execution_count": 5,
     "metadata": {},
     "output_type": "execute_result"
    }
   ],
   "source": [
    "dfalse = data.FALSE\n",
    "dfalse.describe()"
   ]
  },
  {
   "cell_type": "code",
   "execution_count": 25,
   "metadata": {},
   "outputs": [
    {
     "data": {
      "text/plain": [
       "<matplotlib.axes._subplots.AxesSubplot at 0x7f2531b90d50>"
      ]
     },
     "execution_count": 25,
     "metadata": {},
     "output_type": "execute_result"
    },
    {
     "data": {
      "image/png": "[encoded data removed]",
      "text/plain": [
       "<Figure size 1440x720 with 1 Axes>"
      ]
     },
     "metadata": {
      "needs_background": "light"
     },
     "output_type": "display_data"
    }
   ],
   "source": [
    "dtrue.plot(kind=\"hist\", bins=4)"
   ]
  },
  {
   "cell_type": "code",
   "execution_count": 7,
   "metadata": {},
   "outputs": [
    {
     "data": {
      "text/plain": [
       "<matplotlib.axes._subplots.AxesSubplot at 0x1a27ee9e5c0>"
      ]
     },
     "execution_count": 7,
     "metadata": {},
     "output_type": "execute_result"
    },
    {
     "data": {
      "image/png": "[encoded data removed]",
      "text/plain": [
       "<Figure size 1440x720 with 1 Axes>"
      ]
     },
     "metadata": {
      "needs_background": "light"
     },
     "output_type": "display_data"
    }
   ],
   "source": [
    "dfalse.plot(kind=\"hist\", bins=3)"
   ]
  },
  {
   "cell_type": "code",
   "execution_count": 27,
   "metadata": {
    "scrolled": true
   },
   "outputs": [
    {
     "data": {
      "text/plain": [
       "[['BookOfEccleasiasticus', {'FALSE': 5}],\n",
       " ['BookOfEcclesiastes', {'FALSE': 0}],\n",
       " ['BookOfProverb', {'FALSE': 3}],\n",
       " ['BookOfWisdom', {'FALSE': 0}],\n",
       " ['Buddhism', {'FALSE': 2}],\n",
       " ['TaoTeChing', {'FALSE': 1}],\n",
       " ['Upanishad', {'FALSE': 0}],\n",
       " ['YogaSutra', {'FALSE': 7}]]"
      ]
     },
     "execution_count": 27,
     "metadata": {},
     "output_type": "execute_result"
    }
   ],
   "source": [
    "trufals = pd.concat([dtrue.reset_index(drop=True), dfalse], axis=1)\n",
    "information_most_frequent(trufals, names)"
   ]
  },
  {
   "cell_type": "markdown",
   "metadata": {},
   "source": [
    "Takich słów nie udało mi się znaleźć w oryginalnym tekście, w związku z czym sugeruje się ich usunięcie."
   ]
  }
 ],
 "metadata": {
  "kernelspec": {
   "display_name": "Python 3",
   "language": "python",
   "name": "python3"
  },
  "language_info": {
   "codemirror_mode": {
    "name": "ipython",
    "version": 3
   },
   "file_extension": ".py",
   "mimetype": "text/x-python",
   "name": "python",
   "nbconvert_exporter": "python",
   "pygments_lexer": "ipython3",
   "version": "3.7.1"
  }
 },
 "nbformat": 4,
 "nbformat_minor": 4
}
