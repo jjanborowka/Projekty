{
 "cells": [
  {
   "cell_type": "markdown",
   "metadata": {},
   "source": [
    "# Feature engineering & first models"
   ]
  },
  {
   "cell_type": "code",
   "execution_count": 1,
   "metadata": {},
   "outputs": [
    {
     "data": {
      "text/html": [
       "<div>\n",
       "<style scoped>\n",
       "    .dataframe tbody tr th:only-of-type {\n",
       "        vertical-align: middle;\n",
       "    }\n",
       "\n",
       "    .dataframe tbody tr th {\n",
       "        vertical-align: top;\n",
       "    }\n",
       "\n",
       "    .dataframe thead th {\n",
       "        text-align: right;\n",
       "    }\n",
       "</style>\n",
       "<table border=\"1\" class=\"dataframe\">\n",
       "  <thead>\n",
       "    <tr style=\"text-align: right;\">\n",
       "      <th></th>\n",
       "      <th>checking_account_status</th>\n",
       "      <th>duration</th>\n",
       "      <th>credit_history</th>\n",
       "      <th>purpose</th>\n",
       "      <th>credit_amount</th>\n",
       "      <th>savings</th>\n",
       "      <th>present_employment</th>\n",
       "      <th>installment_rate</th>\n",
       "      <th>personal</th>\n",
       "      <th>other_debtors</th>\n",
       "      <th>...</th>\n",
       "      <th>property</th>\n",
       "      <th>age</th>\n",
       "      <th>other_installment_plans</th>\n",
       "      <th>housing</th>\n",
       "      <th>existing_credits</th>\n",
       "      <th>job</th>\n",
       "      <th>dependents</th>\n",
       "      <th>telephone</th>\n",
       "      <th>foreign_worker</th>\n",
       "      <th>customer_type</th>\n",
       "    </tr>\n",
       "  </thead>\n",
       "  <tbody>\n",
       "    <tr>\n",
       "      <th>0</th>\n",
       "      <td>A11</td>\n",
       "      <td>6</td>\n",
       "      <td>A34</td>\n",
       "      <td>A43</td>\n",
       "      <td>1169.0</td>\n",
       "      <td>A65</td>\n",
       "      <td>A75</td>\n",
       "      <td>4.0</td>\n",
       "      <td>A93</td>\n",
       "      <td>A101</td>\n",
       "      <td>...</td>\n",
       "      <td>A121</td>\n",
       "      <td>67.0</td>\n",
       "      <td>A143</td>\n",
       "      <td>A152</td>\n",
       "      <td>2.0</td>\n",
       "      <td>A173</td>\n",
       "      <td>1</td>\n",
       "      <td>A192</td>\n",
       "      <td>A201</td>\n",
       "      <td>1</td>\n",
       "    </tr>\n",
       "    <tr>\n",
       "      <th>1</th>\n",
       "      <td>A12</td>\n",
       "      <td>48</td>\n",
       "      <td>A32</td>\n",
       "      <td>A43</td>\n",
       "      <td>5951.0</td>\n",
       "      <td>A61</td>\n",
       "      <td>A73</td>\n",
       "      <td>2.0</td>\n",
       "      <td>A92</td>\n",
       "      <td>A101</td>\n",
       "      <td>...</td>\n",
       "      <td>A121</td>\n",
       "      <td>22.0</td>\n",
       "      <td>A143</td>\n",
       "      <td>A152</td>\n",
       "      <td>1.0</td>\n",
       "      <td>A173</td>\n",
       "      <td>1</td>\n",
       "      <td>A191</td>\n",
       "      <td>A201</td>\n",
       "      <td>2</td>\n",
       "    </tr>\n",
       "    <tr>\n",
       "      <th>2</th>\n",
       "      <td>A14</td>\n",
       "      <td>12</td>\n",
       "      <td>A34</td>\n",
       "      <td>A46</td>\n",
       "      <td>2096.0</td>\n",
       "      <td>A61</td>\n",
       "      <td>A74</td>\n",
       "      <td>2.0</td>\n",
       "      <td>A93</td>\n",
       "      <td>A101</td>\n",
       "      <td>...</td>\n",
       "      <td>A121</td>\n",
       "      <td>49.0</td>\n",
       "      <td>A143</td>\n",
       "      <td>A152</td>\n",
       "      <td>1.0</td>\n",
       "      <td>A172</td>\n",
       "      <td>2</td>\n",
       "      <td>A191</td>\n",
       "      <td>A201</td>\n",
       "      <td>1</td>\n",
       "    </tr>\n",
       "    <tr>\n",
       "      <th>3</th>\n",
       "      <td>A11</td>\n",
       "      <td>42</td>\n",
       "      <td>A32</td>\n",
       "      <td>A42</td>\n",
       "      <td>7882.0</td>\n",
       "      <td>A61</td>\n",
       "      <td>A74</td>\n",
       "      <td>2.0</td>\n",
       "      <td>A93</td>\n",
       "      <td>A103</td>\n",
       "      <td>...</td>\n",
       "      <td>A122</td>\n",
       "      <td>45.0</td>\n",
       "      <td>A143</td>\n",
       "      <td>A153</td>\n",
       "      <td>1.0</td>\n",
       "      <td>A173</td>\n",
       "      <td>2</td>\n",
       "      <td>A191</td>\n",
       "      <td>A201</td>\n",
       "      <td>1</td>\n",
       "    </tr>\n",
       "    <tr>\n",
       "      <th>4</th>\n",
       "      <td>A11</td>\n",
       "      <td>24</td>\n",
       "      <td>A33</td>\n",
       "      <td>A40</td>\n",
       "      <td>4870.0</td>\n",
       "      <td>A61</td>\n",
       "      <td>A73</td>\n",
       "      <td>3.0</td>\n",
       "      <td>A93</td>\n",
       "      <td>A101</td>\n",
       "      <td>...</td>\n",
       "      <td>A124</td>\n",
       "      <td>53.0</td>\n",
       "      <td>A143</td>\n",
       "      <td>A153</td>\n",
       "      <td>2.0</td>\n",
       "      <td>A173</td>\n",
       "      <td>2</td>\n",
       "      <td>A191</td>\n",
       "      <td>A201</td>\n",
       "      <td>2</td>\n",
       "    </tr>\n",
       "  </tbody>\n",
       "</table>\n",
       "<p>5 rows × 21 columns</p>\n",
       "</div>"
      ],
      "text/plain": [
       "  checking_account_status  duration credit_history purpose  credit_amount  \\\n",
       "0                     A11         6            A34     A43         1169.0   \n",
       "1                     A12        48            A32     A43         5951.0   \n",
       "2                     A14        12            A34     A46         2096.0   \n",
       "3                     A11        42            A32     A42         7882.0   \n",
       "4                     A11        24            A33     A40         4870.0   \n",
       "\n",
       "  savings present_employment  installment_rate personal other_debtors  ...  \\\n",
       "0     A65                A75               4.0      A93          A101  ...   \n",
       "1     A61                A73               2.0      A92          A101  ...   \n",
       "2     A61                A74               2.0      A93          A101  ...   \n",
       "3     A61                A74               2.0      A93          A103  ...   \n",
       "4     A61                A73               3.0      A93          A101  ...   \n",
       "\n",
       "   property   age  other_installment_plans housing existing_credits   job  \\\n",
       "0      A121  67.0                     A143    A152              2.0  A173   \n",
       "1      A121  22.0                     A143    A152              1.0  A173   \n",
       "2      A121  49.0                     A143    A152              1.0  A172   \n",
       "3      A122  45.0                     A143    A153              1.0  A173   \n",
       "4      A124  53.0                     A143    A153              2.0  A173   \n",
       "\n",
       "  dependents  telephone foreign_worker customer_type  \n",
       "0          1       A192           A201             1  \n",
       "1          1       A191           A201             2  \n",
       "2          2       A191           A201             1  \n",
       "3          2       A191           A201             1  \n",
       "4          2       A191           A201             2  \n",
       "\n",
       "[5 rows x 21 columns]"
      ]
     },
     "execution_count": 1,
     "metadata": {},
     "output_type": "execute_result"
    }
   ],
   "source": [
    "# Packages\n",
    "import pandas as pd \n",
    "import numpy as np\n",
    "import category_encoders as ce\n",
    "import matplotlib.pyplot as plt\n",
    "from sklearn.ensemble import RandomForestClassifier\n",
    "from sklearn.model_selection import GridSearchCV, train_test_split\n",
    "from sklearn.metrics import recall_score\n",
    "from sklearn.pipeline import Pipeline\n",
    "from sklearn.metrics import precision_score\n",
    "from sklearn import preprocessing \n",
    "from sklearn import metrics\n",
    "import random\n",
    "import warnings \n",
    "warnings.filterwarnings('ignore')\n",
    "\n",
    "# Grain setting guarantees the reproductibility of results\n",
    "np.random.seed(123) \n",
    "\n",
    "# Loading data\n",
    "data = pd.read_csv('german_credit_data_dataset.csv')\n",
    "data = pd.DataFrame(data)\n",
    "data.head()"
   ]
  },
  {
   "cell_type": "markdown",
   "metadata": {},
   "source": [
    "## James-Stein Encoding"
   ]
  },
  {
   "cell_type": "code",
   "execution_count": 2,
   "metadata": {},
   "outputs": [],
   "source": [
    "# Unlike other encoding methods (such as one-hot encoding), this method uses knowledge of the target. \n",
    "# It is important if you use this method to encode after splitting into training and testing sets. \n",
    "\n",
    "# Training and test sets split\n",
    "# 80% of observations belong to the training set the rest to the test\n",
    "X_train, X_test, Y_train, Y_test = train_test_split(data.drop('customer_type', axis=1), data['customer_type'])"
   ]
  },
  {
   "cell_type": "code",
   "execution_count": 3,
   "metadata": {},
   "outputs": [
    {
     "name": "stdout",
     "output_type": "stream",
     "text": [
      "JamesSteinEncoder(cols=array(['checking_account_status', 'credit_history', 'purpose', 'savings',\n",
      "       'present_employment', 'personal', 'other_debtors', 'property',\n",
      "       'other_installment_plans', 'housing', 'job', 'telephone',\n",
      "       'foreign_worker'], dtype=object),\n",
      "                  drop_invariant=False, handle_missing='value',\n",
      "                  handle_unknown='value', model='independent',\n",
      "                  random_state=None, randomized=False, return_df=True,\n",
      "                  sigma=0.05, verbose=0)\n"
     ]
    }
   ],
   "source": [
    "# Selection of columns to be encoded\n",
    "cols = data.select_dtypes(include = 'object').columns.values \n",
    "\n",
    "# Building the encoder\n",
    "encoder = ce.JamesSteinEncoder(cols = cols)\n",
    "print(encoder)"
   ]
  },
  {
   "cell_type": "markdown",
   "metadata": {},
   "source": [
    "## Target encoding"
   ]
  },
  {
   "cell_type": "code",
   "execution_count": 4,
   "metadata": {},
   "outputs": [
    {
     "name": "stdout",
     "output_type": "stream",
     "text": [
      "TargetEncoder(cols=array(['checking_account_status', 'credit_history', 'purpose', 'savings',\n",
      "       'present_employment', 'personal', 'other_debtors', 'property',\n",
      "       'other_installment_plans', 'housing', 'job', 'telephone',\n",
      "       'foreign_worker'], dtype=object),\n",
      "              drop_invariant=False, handle_missing='value',\n",
      "              handle_unknown='value', min_samples_leaf=1, return_df=True,\n",
      "              smoothing=1.0,\n",
      "              v...\n",
      "..        ...   ...                      ...     ...              ...   ...   \n",
      "995      A121  31.0                     A143    A152              1.0  A172   \n",
      "996      A122  40.0                     A143    A152              1.0  A174   \n",
      "997      A123  38.0                     A143    A152              1.0  A173   \n",
      "998      A124  23.0                     A143    A153              1.0  A173   \n",
      "999      A123  27.0                     A143    A152              1.0  A173   \n",
      "\n",
      "    dependents  telephone foreign_worker customer_type  \n",
      "0            1       A192           A201             1  \n",
      "1            1       A191           A201             2  \n",
      "2            2       A191           A201             1  \n",
      "3            2       A191           A201             1  \n",
      "4            2       A191           A201             2  \n",
      "..         ...        ...            ...           ...  \n",
      "995          1       A191           A201             1  \n",
      "996          1       A192           A201             1  \n",
      "997          1       A191           A201             1  \n",
      "998          1       A192           A201             2  \n",
      "999          1       A191           A201             1  \n",
      "\n",
      "[1000 rows x 21 columns])\n"
     ]
    }
   ],
   "source": [
    "# Building the encoder\n",
    "target_encoder = ce.target_encoder.TargetEncoder(data, cols = cols)\n",
    "print(target_encoder)"
   ]
  },
  {
   "cell_type": "markdown",
   "metadata": {},
   "source": [
    "## One-Hot Encoding"
   ]
  },
  {
   "cell_type": "code",
   "execution_count": 5,
   "metadata": {},
   "outputs": [
    {
     "name": "stdout",
     "output_type": "stream",
     "text": [
      "OneHotEncoder(cols=array(['checking_account_status', 'credit_history', 'purpose', 'savings',\n",
      "       'present_employment', 'personal', 'other_debtors', 'property',\n",
      "       'other_installment_plans', 'housing', 'job', 'telephone',\n",
      "       'foreign_worker'], dtype=object),\n",
      "              drop_invariant=False, handle_missing='value',\n",
      "              handle_unknown='value', return_df=True, use_cat_names=False,\n",
      "              verbose=    checki...\n",
      "..        ...   ...                      ...     ...              ...   ...   \n",
      "995      A121  31.0                     A143    A152              1.0  A172   \n",
      "996      A122  40.0                     A143    A152              1.0  A174   \n",
      "997      A123  38.0                     A143    A152              1.0  A173   \n",
      "998      A124  23.0                     A143    A153              1.0  A173   \n",
      "999      A123  27.0                     A143    A152              1.0  A173   \n",
      "\n",
      "    dependents  telephone foreign_worker customer_type  \n",
      "0            1       A192           A201             1  \n",
      "1            1       A191           A201             2  \n",
      "2            2       A191           A201             1  \n",
      "3            2       A191           A201             1  \n",
      "4            2       A191           A201             2  \n",
      "..         ...        ...            ...           ...  \n",
      "995          1       A191           A201             1  \n",
      "996          1       A192           A201             1  \n",
      "997          1       A191           A201             1  \n",
      "998          1       A192           A201             2  \n",
      "999          1       A191           A201             1  \n",
      "\n",
      "[1000 rows x 21 columns])\n"
     ]
    }
   ],
   "source": [
    "# Building the encoder\n",
    "oh_encoder = ce.one_hot.OneHotEncoder(data, cols = cols)\n",
    "print(oh_encoder)"
   ]
  },
  {
   "cell_type": "code",
   "execution_count": 6,
   "metadata": {},
   "outputs": [],
   "source": [
    "# Encoding\n",
    "encoded = oh_encoder.fit_transform(data)\n",
    "\n",
    "# Training and test sets split\n",
    "# 80% of observations belong to the training set the rest to the test\n",
    "X_train3, X_test3, Y_train3, Y_test3 = train_test_split(encoded.drop('customer_type', axis=1), encoded['customer_type'])"
   ]
  },
  {
   "cell_type": "markdown",
   "metadata": {},
   "source": [
    "## Random Forest"
   ]
  },
  {
   "cell_type": "markdown",
   "metadata": {},
   "source": [
    "Hiperparametry:  \n",
    "\n",
    "**n_estimators** - ilość drzew składowych (int, domyślnie 100)  \n",
    "**criterion** - funkcja miary jakości podziału (string, domyślnie gini)  \n",
    "**max_depth** - maksymalna głębokość drzewa (int, domyślnie None)   \n",
    "**min_samples_split** - minimalna liczba obserwacji wymagana do podziału węzła wewnętrznego (int/float, domyślnie 2)  \n",
    "**min_samples_leaf** - minimalna liczba obserwacji wymagana względem liścia (int, domyślnie 1)  \n",
    "**min_weight_fraction_leaf** - minimalna frakcja wag wymagana względem liścia (domyślnie 0)  \n",
    "**max_features** - ilość cech branych pod uwagę podczas poszukiwania najlepszego podziału (string). Jeśli “sqrt”, to max_features=sqrt(n_features), jeśli “log2”, to max_features=log2(n_features).  \n",
    "**max_leaf_nodes** - maksymalna liczba liści (int, domyślnie None)  \n",
    "**min_impurity_decrease** - węzeł zostanie podzielony, jeśli podział ten spowoduje zmniejszenie miary impurity większe lub równe tej wartości. (float, domyślnie 0)  \n",
    "**min_impurity_split** - Próg zatrzymania wzrostu drzew. Węzeł rozdzieli się, jeśli jego impurity przekroczy próg, w przeciwnym razie będzie liściem. (float, default 1e-7)  \n",
    "**bootstrap** - stosowanie bootstrap (bool, domyślnie True)  \n",
    "**oob_score** - Gdy zestaw treningowy dla bieżącego drzewa jest rysowany przez próbkowanie z wymianą, około jedna trzecia przypadków jest pomijana. Te dane OOB są używane do uzyskania bezstronnego oszacowania błędu klasyfikacji (bool, domyślnie False)  \n",
    "**oob_score** - liczba powtórzeń instukcji fit, predict, ect.  \n",
    "**random_state** - kontroluje losowość procedury bootstrap   \n",
    "**verbose** - int, domyślnie 0 - im wyższa liczba tym więcej informacji uzyskami na temat procedur fit i predict  \n",
    "**warm_start** - Po ustawieniu wartości True ponownie użyje bieżącego rozwiązania, aby dopasować i dodać więcej estymatorów do zestawu, w przeciwnym razie po prostu zmieni cały nowy las. (bool, domyślnie False)  \n",
    "**ccp_alpha** - dotyczy przycinania, zostanie wybrane poddrzewo o największym koszcie, który jest mniejszy niż ccp_alpha. Domyślnie 0.0, czyli przycinanie nie jest wykonywane.  \n",
    "**max_samples** - dotyczy procedury bootstrap (domyślnie None)"
   ]
  },
  {
   "cell_type": "markdown",
   "metadata": {},
   "source": [
    "## Random Forest for James Stein Encoding"
   ]
  },
  {
   "cell_type": "code",
   "execution_count": 7,
   "metadata": {},
   "outputs": [
    {
     "data": {
      "text/plain": [
       "GridSearchCV(cv=5, error_score=nan,\n",
       "             estimator=Pipeline(memory=None,\n",
       "                                steps=[('encode_categorical',\n",
       "                                        JamesSteinEncoder(cols=array(['checking_account_status', 'credit_history', 'purpose', 'savings',\n",
       "       'present_employment', 'personal', 'other_debtors', 'property',\n",
       "       'other_installment_plans', 'housing', 'job', 'telephone',\n",
       "       'foreign_worker'], dtype=object),\n",
       "                                                          drop_invariant=Fal...\n",
       "                                                               random_state=None,\n",
       "                                                               verbose=0,\n",
       "                                                               warm_start=False))],\n",
       "                                verbose=False),\n",
       "             iid='deprecated', n_jobs=None,\n",
       "             param_grid={'classifier__criterion': ['gini', 'entropy'],\n",
       "                         'classifier__max_depth': [4, 5, 6, 7, 8],\n",
       "                         'classifier__max_features': ['sqrt', 'log2'],\n",
       "                         'classifier__n_estimators': [50, 100, 200, 500]},\n",
       "             pre_dispatch='2*n_jobs', refit=True, return_train_score=False,\n",
       "             scoring=None, verbose=0)"
      ]
     },
     "execution_count": 7,
     "metadata": {},
     "output_type": "execute_result"
    }
   ],
   "source": [
    "# Build the model, including the encoder\n",
    "\n",
    "model1 = Pipeline([\n",
    "  ('encode_categorical', encoder),\n",
    "  ('classifier', RandomForestClassifier())\n",
    "])\n",
    "\n",
    "# Exhaustive search over specified parameter values for an estimator.\n",
    "param_grid = { \n",
    "    'classifier__n_estimators': [50, 100, 200, 500],# the number of trees in the forest.\n",
    "    'classifier__max_features': ['sqrt', 'log2'], # the number of features to consider when looking for the \n",
    "                                                  # best split:\n",
    "                                                      ## if “sqrt”, then max_features=sqrt(n_features)\n",
    "                                                      ## if “log2”, then max_features=log2(n_features).\n",
    "    \n",
    "    'classifier__max_depth' : [4,5,6,7,8],\n",
    "    'classifier__criterion' :['gini', 'entropy'] # the function to measure the quality of a split. \n",
    "                                                 # Supported criteria are “gini” for the Gini impurity \n",
    "                                                 # and “entropy” for the information gain\n",
    "}\n",
    "\n",
    "grid_search1 = GridSearchCV(model1, param_grid = param_grid, cv = 5)\n",
    "grid_search1.fit(X_train, Y_train)"
   ]
  },
  {
   "cell_type": "code",
   "execution_count": 8,
   "metadata": {},
   "outputs": [
    {
     "data": {
      "text/plain": [
       "{'classifier__criterion': 'entropy',\n",
       " 'classifier__max_depth': 8,\n",
       " 'classifier__max_features': 'sqrt',\n",
       " 'classifier__n_estimators': 50}"
      ]
     },
     "execution_count": 8,
     "metadata": {},
     "output_type": "execute_result"
    }
   ],
   "source": [
    "grid_search1.best_params_"
   ]
  },
  {
   "cell_type": "code",
   "execution_count": 9,
   "metadata": {},
   "outputs": [
    {
     "data": {
      "text/plain": [
       "Pipeline(memory=None,\n",
       "         steps=[('encode_categorical',\n",
       "                 JamesSteinEncoder(cols=['checking_account_status',\n",
       "                                         'credit_history', 'purpose', 'savings',\n",
       "                                         'present_employment', 'personal',\n",
       "                                         'other_debtors', 'property',\n",
       "                                         'other_installment_plans', 'housing',\n",
       "                                         'job', 'telephone', 'foreign_worker'],\n",
       "                                   drop_invariant=False, handle_missing='value',\n",
       "                                   handle_unknown='value', model='independ...\n",
       "                 RandomForestClassifier(bootstrap=True, ccp_alpha=0.0,\n",
       "                                        class_weight=None, criterion='gini',\n",
       "                                        max_depth=8, max_features='sqrt',\n",
       "                                        max_leaf_nodes=None, max_samples=None,\n",
       "                                        min_impurity_decrease=0.0,\n",
       "                                        min_impurity_split=None,\n",
       "                                        min_samples_leaf=1, min_samples_split=2,\n",
       "                                        min_weight_fraction_leaf=0.0,\n",
       "                                        n_estimators=50, n_jobs=None,\n",
       "                                        oob_score=False, random_state=None,\n",
       "                                        verbose=0, warm_start=False))],\n",
       "         verbose=False)"
      ]
     },
     "execution_count": 9,
     "metadata": {},
     "output_type": "execute_result"
    }
   ],
   "source": [
    "model1 = Pipeline([\n",
    "  ('encode_categorical', encoder),\n",
    "  ('classifier', RandomForestClassifier(n_estimators = 50, max_depth = 8, criterion = 'gini', max_features='sqrt'))\n",
    "  ])\n",
    "\n",
    "model1.fit(X_train, Y_train)"
   ]
  },
  {
   "cell_type": "code",
   "execution_count": 10,
   "metadata": {},
   "outputs": [],
   "source": [
    "predict_class1 = model1.predict(X_test)\n",
    "predict_proba1 = model1.predict_proba(X_test)[:, 1]"
   ]
  },
  {
   "cell_type": "markdown",
   "metadata": {},
   "source": [
    "## Random forest for Target Encoding"
   ]
  },
  {
   "cell_type": "code",
   "execution_count": 11,
   "metadata": {},
   "outputs": [
    {
     "data": {
      "text/plain": [
       "GridSearchCV(cv=5, error_score=nan,\n",
       "             estimator=Pipeline(memory=None,\n",
       "                                steps=[('encode_categorical',\n",
       "                                        TargetEncoder(cols=array(['checking_account_status', 'credit_history', 'purpose', 'savings',\n",
       "       'present_employment', 'personal', 'other_debtors', 'property',\n",
       "       'other_installment_plans', 'housing', 'job', 'telephone',\n",
       "       'foreign_worker'], dtype=object),\n",
       "                                                      drop_invariant=False,\n",
       "                                                      h...\n",
       "                                                               random_state=None,\n",
       "                                                               verbose=0,\n",
       "                                                               warm_start=False))],\n",
       "                                verbose=False),\n",
       "             iid='deprecated', n_jobs=None,\n",
       "             param_grid={'classifier__criterion': ['gini', 'entropy'],\n",
       "                         'classifier__max_depth': [4, 5, 6, 7, 8],\n",
       "                         'classifier__max_features': ['sqrt', 'log2'],\n",
       "                         'classifier__n_estimators': [50, 100, 200, 500]},\n",
       "             pre_dispatch='2*n_jobs', refit=True, return_train_score=False,\n",
       "             scoring=None, verbose=0)"
      ]
     },
     "execution_count": 11,
     "metadata": {},
     "output_type": "execute_result"
    }
   ],
   "source": [
    "model2 = Pipeline([\n",
    "  ('encode_categorical', target_encoder),\n",
    "  ('classifier', RandomForestClassifier())\n",
    "])\n",
    "\n",
    "grid_search2 = GridSearchCV(model2, param_grid = param_grid, cv = 5)\n",
    "grid_search2.fit(X_train, Y_train)"
   ]
  },
  {
   "cell_type": "code",
   "execution_count": 12,
   "metadata": {},
   "outputs": [
    {
     "data": {
      "text/plain": [
       "{'classifier__criterion': 'gini',\n",
       " 'classifier__max_depth': 8,\n",
       " 'classifier__max_features': 'sqrt',\n",
       " 'classifier__n_estimators': 50}"
      ]
     },
     "execution_count": 12,
     "metadata": {},
     "output_type": "execute_result"
    }
   ],
   "source": [
    "grid_search2.best_params_"
   ]
  },
  {
   "cell_type": "code",
   "execution_count": 13,
   "metadata": {},
   "outputs": [
    {
     "data": {
      "text/plain": [
       "Pipeline(memory=None,\n",
       "         steps=[('encode_categorical',\n",
       "                 TargetEncoder(cols=['checking_account_status',\n",
       "                                     'credit_history', 'purpose', 'savings',\n",
       "                                     'present_employment', 'personal',\n",
       "                                     'other_debtors', 'property',\n",
       "                                     'other_installment_plans', 'housing',\n",
       "                                     'job', 'telephone', 'foreign_worker'],\n",
       "                               drop_invariant=False, handle_missing='value',\n",
       "                               handle_unknown='value', min_samples_leaf=1,...\n",
       "                 RandomForestClassifier(bootstrap=True, ccp_alpha=0.0,\n",
       "                                        class_weight=None, criterion='gini',\n",
       "                                        max_depth=8, max_features='log2',\n",
       "                                        max_leaf_nodes=None, max_samples=None,\n",
       "                                        min_impurity_decrease=0.0,\n",
       "                                        min_impurity_split=None,\n",
       "                                        min_samples_leaf=1, min_samples_split=2,\n",
       "                                        min_weight_fraction_leaf=0.0,\n",
       "                                        n_estimators=200, n_jobs=None,\n",
       "                                        oob_score=False, random_state=None,\n",
       "                                        verbose=0, warm_start=False))],\n",
       "         verbose=False)"
      ]
     },
     "execution_count": 13,
     "metadata": {},
     "output_type": "execute_result"
    }
   ],
   "source": [
    "model2 = Pipeline([\n",
    "  ('encode_categorical', target_encoder),\n",
    "  ('classifier', RandomForestClassifier(n_estimators = 200, max_depth = 8, criterion = 'gini', max_features='log2'))\n",
    "  ])\n",
    "\n",
    "model2.fit(X_train, Y_train)"
   ]
  },
  {
   "cell_type": "code",
   "execution_count": 14,
   "metadata": {},
   "outputs": [],
   "source": [
    "predict_class2 = model2.predict(X_test)\n",
    "predict_proba2 = model2.predict_proba(X_test)[:, 1]"
   ]
  },
  {
   "cell_type": "markdown",
   "metadata": {},
   "source": [
    "## Random forest for One-Hot Encoding"
   ]
  },
  {
   "cell_type": "code",
   "execution_count": 15,
   "metadata": {},
   "outputs": [
    {
     "data": {
      "text/plain": [
       "GridSearchCV(cv=5, error_score=nan,\n",
       "             estimator=RandomForestClassifier(bootstrap=True, ccp_alpha=0.0,\n",
       "                                              class_weight=None,\n",
       "                                              criterion='gini', max_depth=None,\n",
       "                                              max_features='auto',\n",
       "                                              max_leaf_nodes=None,\n",
       "                                              max_samples=None,\n",
       "                                              min_impurity_decrease=0.0,\n",
       "                                              min_impurity_split=None,\n",
       "                                              min_samples_leaf=1,\n",
       "                                              min_samples_split=2,\n",
       "                                              min_weight_fraction_leaf=0.0,\n",
       "                                              n_estimators=100, n_jobs=None,\n",
       "                                              oob_score=False,\n",
       "                                              random_state=None, verbose=0,\n",
       "                                              warm_start=False),\n",
       "             iid='deprecated', n_jobs=None,\n",
       "             param_grid={'criterion': ['gini', 'entropy'],\n",
       "                         'max_depth': [4, 5, 6, 7, 8],\n",
       "                         'max_features': ['sqrt', 'log2'],\n",
       "                         'n_estimators': [50, 100, 200, 500]},\n",
       "             pre_dispatch='2*n_jobs', refit=True, return_train_score=False,\n",
       "             scoring=None, verbose=0)"
      ]
     },
     "execution_count": 15,
     "metadata": {},
     "output_type": "execute_result"
    }
   ],
   "source": [
    "model3 = RandomForestClassifier()\n",
    "\n",
    "param_grid3 = { \n",
    "    'n_estimators': [50, 100, 200, 500],# the number of trees in the forest.\n",
    "    'max_features': ['sqrt', 'log2'],   # the number of features to consider when looking for the \n",
    "                                                  # best split:\n",
    "                                                      ## if “sqrt”, then max_features=sqrt(n_features)\n",
    "                                                      ## if “log2”, then max_features=log2(n_features).\n",
    "    \n",
    "    'max_depth' : [4,5,6,7,8],\n",
    "    'criterion' :['gini', 'entropy']    # the function to measure the quality of a split. \n",
    "                                                 # Supported criteria are “gini” for the Gini impurity \n",
    "                                                 # and “entropy” for the information gain\n",
    "}\n",
    "\n",
    "grid_search3 = GridSearchCV(model3, param_grid=param_grid3, cv = 5)\n",
    "grid_search3.fit(X_train3, Y_train3)"
   ]
  },
  {
   "cell_type": "code",
   "execution_count": 16,
   "metadata": {},
   "outputs": [
    {
     "data": {
      "text/plain": [
       "{'criterion': 'entropy',\n",
       " 'max_depth': 8,\n",
       " 'max_features': 'sqrt',\n",
       " 'n_estimators': 50}"
      ]
     },
     "execution_count": 16,
     "metadata": {},
     "output_type": "execute_result"
    }
   ],
   "source": [
    "grid_search3.best_params_"
   ]
  },
  {
   "cell_type": "code",
   "execution_count": 17,
   "metadata": {},
   "outputs": [
    {
     "data": {
      "text/plain": [
       "RandomForestClassifier(bootstrap=True, ccp_alpha=0.0, class_weight=None,\n",
       "                       criterion='entropy', max_depth=8, max_features='log2',\n",
       "                       max_leaf_nodes=None, max_samples=None,\n",
       "                       min_impurity_decrease=0.0, min_impurity_split=None,\n",
       "                       min_samples_leaf=1, min_samples_split=2,\n",
       "                       min_weight_fraction_leaf=0.0, n_estimators=500,\n",
       "                       n_jobs=None, oob_score=False, random_state=None,\n",
       "                       verbose=0, warm_start=False)"
      ]
     },
     "execution_count": 17,
     "metadata": {},
     "output_type": "execute_result"
    }
   ],
   "source": [
    "model3 = RandomForestClassifier(criterion='entropy', max_depth=8, max_features='log2', n_estimators=500)\n",
    "model3.fit(X_train3, Y_train3)"
   ]
  },
  {
   "cell_type": "code",
   "execution_count": 18,
   "metadata": {},
   "outputs": [],
   "source": [
    "predict_class3 = model3.predict(X_test3)\n",
    "predict_proba3 = model3.predict_proba(X_test3)[:, 1]"
   ]
  },
  {
   "cell_type": "markdown",
   "metadata": {},
   "source": [
    "## Zestawienie rezultatów"
   ]
  },
  {
   "cell_type": "markdown",
   "metadata": {},
   "source": [
    "### Dla predykcji klasy"
   ]
  },
  {
   "cell_type": "code",
   "execution_count": 19,
   "metadata": {},
   "outputs": [
    {
     "data": {
      "text/html": [
       "<div>\n",
       "<style scoped>\n",
       "    .dataframe tbody tr th:only-of-type {\n",
       "        vertical-align: middle;\n",
       "    }\n",
       "\n",
       "    .dataframe tbody tr th {\n",
       "        vertical-align: top;\n",
       "    }\n",
       "\n",
       "    .dataframe thead th {\n",
       "        text-align: right;\n",
       "    }\n",
       "</style>\n",
       "<table border=\"1\" class=\"dataframe\">\n",
       "  <thead>\n",
       "    <tr style=\"text-align: right;\">\n",
       "      <th></th>\n",
       "      <th>Encoder</th>\n",
       "      <th>Precision</th>\n",
       "      <th>Recall</th>\n",
       "    </tr>\n",
       "  </thead>\n",
       "  <tbody>\n",
       "    <tr>\n",
       "      <th>0</th>\n",
       "      <td>Target Encoding</td>\n",
       "      <td>0.731012</td>\n",
       "      <td>0.934524</td>\n",
       "    </tr>\n",
       "    <tr>\n",
       "      <th>1</th>\n",
       "      <td>James Stein Encoding</td>\n",
       "      <td>0.751190</td>\n",
       "      <td>0.940476</td>\n",
       "    </tr>\n",
       "    <tr>\n",
       "      <th>2</th>\n",
       "      <td>One-Hot Encoding</td>\n",
       "      <td>0.726138</td>\n",
       "      <td>0.965714</td>\n",
       "    </tr>\n",
       "  </tbody>\n",
       "</table>\n",
       "</div>"
      ],
      "text/plain": [
       "                Encoder  Precision    Recall\n",
       "0       Target Encoding   0.731012  0.934524\n",
       "1  James Stein Encoding   0.751190  0.940476\n",
       "2      One-Hot Encoding   0.726138  0.965714"
      ]
     },
     "execution_count": 19,
     "metadata": {},
     "output_type": "execute_result"
    }
   ],
   "source": [
    "pd.DataFrame({\"Encoder\" : [\"Target Encoding\", \"James Stein Encoding\", \"One-Hot Encoding\"],\n",
    "             \"Precision\": [precision_score(Y_test, predict_class1, average='macro'), precision_score(Y_test, predict_class2, average='macro'), precision_score(Y_test3, predict_class3, average='macro')],\n",
    "             \"Recall\": [recall_score(Y_test, predict_class1), recall_score(Y_test, predict_class2), recall_score(Y_test3, predict_class3)]})"
   ]
  },
  {
   "cell_type": "code",
   "execution_count": 20,
   "metadata": {},
   "outputs": [
    {
     "data": {
      "text/plain": [
       "Text(0.5, 1.0, 'Precision-Recall curve for One-Hot Encoding')"
      ]
     },
     "execution_count": 20,
     "metadata": {},
     "output_type": "execute_result"
    },
    {
     "data": {
      "image/png": "[encoded data removed]",
      "text/plain": [
       "<Figure size 432x288 with 1 Axes>"
      ]
     },
     "metadata": {
      "needs_background": "light"
     },
     "output_type": "display_data"
    },
    {
     "data": {
      "image/png": "[encoded data removed]",
      "text/plain": [
       "<Figure size 432x288 with 1 Axes>"
      ]
     },
     "metadata": {
      "needs_background": "light"
     },
     "output_type": "display_data"
    },
    {
     "data": {
      "image/png": "[encoded data removed]",
      "text/plain": [
       "<Figure size 432x288 with 1 Axes>"
      ]
     },
     "metadata": {
      "needs_background": "light"
     },
     "output_type": "display_data"
    }
   ],
   "source": [
    "from sklearn.metrics import precision_recall_curve\n",
    "from sklearn.metrics import plot_precision_recall_curve\n",
    "\n",
    "disp1 = plot_precision_recall_curve(model1, X_test, Y_test)\n",
    "disp1.ax_.set_title('Precision-Recall curve for James Stein Encoding')\n",
    "disp2 = plot_precision_recall_curve(model2, X_test, Y_test)\n",
    "disp2.ax_.set_title('Precision-Recall curve for Target Encoding')\n",
    "disp3 = plot_precision_recall_curve(model3, X_test3, Y_test3)\n",
    "disp3.ax_.set_title('Precision-Recall curve for One-Hot Encoding')"
   ]
  },
  {
   "cell_type": "markdown",
   "metadata": {},
   "source": [
    "### Dla predykcji prawdopodobieństwa"
   ]
  },
  {
   "cell_type": "code",
   "execution_count": 21,
   "metadata": {},
   "outputs": [
    {
     "data": {
      "text/html": [
       "<div>\n",
       "<style scoped>\n",
       "    .dataframe tbody tr th:only-of-type {\n",
       "        vertical-align: middle;\n",
       "    }\n",
       "\n",
       "    .dataframe tbody tr th {\n",
       "        vertical-align: top;\n",
       "    }\n",
       "\n",
       "    .dataframe thead th {\n",
       "        text-align: right;\n",
       "    }\n",
       "</style>\n",
       "<table border=\"1\" class=\"dataframe\">\n",
       "  <thead>\n",
       "    <tr style=\"text-align: right;\">\n",
       "      <th></th>\n",
       "      <th>Encoder</th>\n",
       "      <th>AUC</th>\n",
       "    </tr>\n",
       "  </thead>\n",
       "  <tbody>\n",
       "    <tr>\n",
       "      <th>0</th>\n",
       "      <td>James-Stein Encoding</td>\n",
       "      <td>0.806185</td>\n",
       "    </tr>\n",
       "    <tr>\n",
       "      <th>1</th>\n",
       "      <td>Target Encoding</td>\n",
       "      <td>0.833406</td>\n",
       "    </tr>\n",
       "    <tr>\n",
       "      <th>2</th>\n",
       "      <td>One-Hot Encoding</td>\n",
       "      <td>0.775543</td>\n",
       "    </tr>\n",
       "  </tbody>\n",
       "</table>\n",
       "</div>"
      ],
      "text/plain": [
       "                Encoder       AUC\n",
       "0  James-Stein Encoding  0.806185\n",
       "1       Target Encoding  0.833406\n",
       "2      One-Hot Encoding  0.775543"
      ]
     },
     "execution_count": 21,
     "metadata": {},
     "output_type": "execute_result"
    }
   ],
   "source": [
    "fpr1, tpr1, thresholds1 = metrics.roc_curve(Y_test, predict_proba1, pos_label=2) # false & true positive rates\n",
    "fpr2, tpr2, thresholds2 = metrics.roc_curve(Y_test, predict_proba2, pos_label=2) # false & true positive rates\n",
    "fpr3, tpr3, thresholds3 = metrics.roc_curve(Y_test3, predict_proba3, pos_label=2) # false & true positive rates\n",
    "\n",
    "\n",
    "pd.DataFrame({\"Encoder\" : [\"James-Stein Encoding\", \"Target Encoding\", \"One-Hot Encoding\"],\n",
    "             \"AUC\": [metrics.auc(fpr1, tpr1), metrics.auc(fpr2, tpr2), metrics.auc(fpr3, tpr3)]})"
   ]
  },
  {
   "cell_type": "code",
   "execution_count": 22,
   "metadata": {},
   "outputs": [
    {
     "data": {
      "image/png": "[encoded data removed]",
      "text/plain": [
       "<Figure size 432x288 with 1 Axes>"
      ]
     },
     "metadata": {
      "needs_background": "light"
     },
     "output_type": "display_data"
    }
   ],
   "source": [
    "# ROCR curve\n",
    "plt.figure()\n",
    "plt.plot([0, 1], [0, 1], 'k--')\n",
    "plt.plot(fpr1, tpr1, label='James-Stein Encoding')\n",
    "plt.plot(fpr2, tpr2, label='Target Encoding')\n",
    "plt.plot(fpr3, tpr3, label='One-Hot Encoding')\n",
    "plt.xlabel('False positive rate')\n",
    "plt.ylabel('True positive rate')\n",
    "plt.title('ROC curve')\n",
    "plt.legend(loc='best')\n",
    "plt.show()"
   ]
  },
  {
   "cell_type": "markdown",
   "metadata": {},
   "source": [
    "Jak widać dla algorytmu Random Forest najlepszą metodą kodowania zmiennych kategorycznych okazuje się Target Encoding. Różnice rezultatów względem rozważanych miar nie są jednak krytyczne. Nie mniej jednak z naszych rozważań wynika, że w ogólności Random Forest nie jest optymalnym klasyfikatorem niezależnie od metody kodowania. (patrz plik XGBoost)."
   ]
  }
 ],
 "metadata": {
  "kernelspec": {
   "display_name": "Python 3",
   "language": "python",
   "name": "python3"
  },
  "language_info": {
   "codemirror_mode": {
    "name": "ipython",
    "version": 3
   },
   "file_extension": ".py",
   "mimetype": "text/x-python",
   "name": "python",
   "nbconvert_exporter": "python",
   "pygments_lexer": "ipython3",
   "version": "3.7.6"
  }
 },
 "nbformat": 4,
 "nbformat_minor": 4
}
