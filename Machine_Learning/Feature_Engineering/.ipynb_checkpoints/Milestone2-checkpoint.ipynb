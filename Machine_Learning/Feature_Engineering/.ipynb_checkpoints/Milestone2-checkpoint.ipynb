{
 "cells": [
  {
   "cell_type": "markdown",
   "metadata": {},
   "source": [
    "# Feature engineering & first models"
   ]
  },
  {
   "cell_type": "code",
   "execution_count": 1,
   "metadata": {},
   "outputs": [
    {
     "data": {
      "text/html": [
       "<div>\n",
       "<style scoped>\n",
       "    .dataframe tbody tr th:only-of-type {\n",
       "        vertical-align: middle;\n",
       "    }\n",
       "\n",
       "    .dataframe tbody tr th {\n",
       "        vertical-align: top;\n",
       "    }\n",
       "\n",
       "    .dataframe thead th {\n",
       "        text-align: right;\n",
       "    }\n",
       "</style>\n",
       "<table border=\"1\" class=\"dataframe\">\n",
       "  <thead>\n",
       "    <tr style=\"text-align: right;\">\n",
       "      <th></th>\n",
       "      <th>checking_account_status</th>\n",
       "      <th>duration</th>\n",
       "      <th>credit_history</th>\n",
       "      <th>purpose</th>\n",
       "      <th>credit_amount</th>\n",
       "      <th>savings</th>\n",
       "      <th>present_employment</th>\n",
       "      <th>installment_rate</th>\n",
       "      <th>personal</th>\n",
       "      <th>other_debtors</th>\n",
       "      <th>...</th>\n",
       "      <th>property</th>\n",
       "      <th>age</th>\n",
       "      <th>other_installment_plans</th>\n",
       "      <th>housing</th>\n",
       "      <th>existing_credits</th>\n",
       "      <th>job</th>\n",
       "      <th>dependents</th>\n",
       "      <th>telephone</th>\n",
       "      <th>foreign_worker</th>\n",
       "      <th>customer_type</th>\n",
       "    </tr>\n",
       "  </thead>\n",
       "  <tbody>\n",
       "    <tr>\n",
       "      <th>0</th>\n",
       "      <td>A11</td>\n",
       "      <td>6</td>\n",
       "      <td>A34</td>\n",
       "      <td>A43</td>\n",
       "      <td>1169.0</td>\n",
       "      <td>A65</td>\n",
       "      <td>A75</td>\n",
       "      <td>4.0</td>\n",
       "      <td>A93</td>\n",
       "      <td>A101</td>\n",
       "      <td>...</td>\n",
       "      <td>A121</td>\n",
       "      <td>67.0</td>\n",
       "      <td>A143</td>\n",
       "      <td>A152</td>\n",
       "      <td>2.0</td>\n",
       "      <td>A173</td>\n",
       "      <td>1</td>\n",
       "      <td>A192</td>\n",
       "      <td>A201</td>\n",
       "      <td>1</td>\n",
       "    </tr>\n",
       "    <tr>\n",
       "      <th>1</th>\n",
       "      <td>A12</td>\n",
       "      <td>48</td>\n",
       "      <td>A32</td>\n",
       "      <td>A43</td>\n",
       "      <td>5951.0</td>\n",
       "      <td>A61</td>\n",
       "      <td>A73</td>\n",
       "      <td>2.0</td>\n",
       "      <td>A92</td>\n",
       "      <td>A101</td>\n",
       "      <td>...</td>\n",
       "      <td>A121</td>\n",
       "      <td>22.0</td>\n",
       "      <td>A143</td>\n",
       "      <td>A152</td>\n",
       "      <td>1.0</td>\n",
       "      <td>A173</td>\n",
       "      <td>1</td>\n",
       "      <td>A191</td>\n",
       "      <td>A201</td>\n",
       "      <td>2</td>\n",
       "    </tr>\n",
       "    <tr>\n",
       "      <th>2</th>\n",
       "      <td>A14</td>\n",
       "      <td>12</td>\n",
       "      <td>A34</td>\n",
       "      <td>A46</td>\n",
       "      <td>2096.0</td>\n",
       "      <td>A61</td>\n",
       "      <td>A74</td>\n",
       "      <td>2.0</td>\n",
       "      <td>A93</td>\n",
       "      <td>A101</td>\n",
       "      <td>...</td>\n",
       "      <td>A121</td>\n",
       "      <td>49.0</td>\n",
       "      <td>A143</td>\n",
       "      <td>A152</td>\n",
       "      <td>1.0</td>\n",
       "      <td>A172</td>\n",
       "      <td>2</td>\n",
       "      <td>A191</td>\n",
       "      <td>A201</td>\n",
       "      <td>1</td>\n",
       "    </tr>\n",
       "    <tr>\n",
       "      <th>3</th>\n",
       "      <td>A11</td>\n",
       "      <td>42</td>\n",
       "      <td>A32</td>\n",
       "      <td>A42</td>\n",
       "      <td>7882.0</td>\n",
       "      <td>A61</td>\n",
       "      <td>A74</td>\n",
       "      <td>2.0</td>\n",
       "      <td>A93</td>\n",
       "      <td>A103</td>\n",
       "      <td>...</td>\n",
       "      <td>A122</td>\n",
       "      <td>45.0</td>\n",
       "      <td>A143</td>\n",
       "      <td>A153</td>\n",
       "      <td>1.0</td>\n",
       "      <td>A173</td>\n",
       "      <td>2</td>\n",
       "      <td>A191</td>\n",
       "      <td>A201</td>\n",
       "      <td>1</td>\n",
       "    </tr>\n",
       "    <tr>\n",
       "      <th>4</th>\n",
       "      <td>A11</td>\n",
       "      <td>24</td>\n",
       "      <td>A33</td>\n",
       "      <td>A40</td>\n",
       "      <td>4870.0</td>\n",
       "      <td>A61</td>\n",
       "      <td>A73</td>\n",
       "      <td>3.0</td>\n",
       "      <td>A93</td>\n",
       "      <td>A101</td>\n",
       "      <td>...</td>\n",
       "      <td>A124</td>\n",
       "      <td>53.0</td>\n",
       "      <td>A143</td>\n",
       "      <td>A153</td>\n",
       "      <td>2.0</td>\n",
       "      <td>A173</td>\n",
       "      <td>2</td>\n",
       "      <td>A191</td>\n",
       "      <td>A201</td>\n",
       "      <td>2</td>\n",
       "    </tr>\n",
       "  </tbody>\n",
       "</table>\n",
       "<p>5 rows × 21 columns</p>\n",
       "</div>"
      ],
      "text/plain": [
       "  checking_account_status  duration credit_history purpose  credit_amount  \\\n",
       "0                     A11         6            A34     A43         1169.0   \n",
       "1                     A12        48            A32     A43         5951.0   \n",
       "2                     A14        12            A34     A46         2096.0   \n",
       "3                     A11        42            A32     A42         7882.0   \n",
       "4                     A11        24            A33     A40         4870.0   \n",
       "\n",
       "  savings present_employment  installment_rate personal other_debtors  ...  \\\n",
       "0     A65                A75               4.0      A93          A101  ...   \n",
       "1     A61                A73               2.0      A92          A101  ...   \n",
       "2     A61                A74               2.0      A93          A101  ...   \n",
       "3     A61                A74               2.0      A93          A103  ...   \n",
       "4     A61                A73               3.0      A93          A101  ...   \n",
       "\n",
       "   property   age  other_installment_plans housing existing_credits   job  \\\n",
       "0      A121  67.0                     A143    A152              2.0  A173   \n",
       "1      A121  22.0                     A143    A152              1.0  A173   \n",
       "2      A121  49.0                     A143    A152              1.0  A172   \n",
       "3      A122  45.0                     A143    A153              1.0  A173   \n",
       "4      A124  53.0                     A143    A153              2.0  A173   \n",
       "\n",
       "  dependents  telephone foreign_worker customer_type  \n",
       "0          1       A192           A201             1  \n",
       "1          1       A191           A201             2  \n",
       "2          2       A191           A201             1  \n",
       "3          2       A191           A201             1  \n",
       "4          2       A191           A201             2  \n",
       "\n",
       "[5 rows x 21 columns]"
      ]
     },
     "execution_count": 1,
     "metadata": {},
     "output_type": "execute_result"
    }
   ],
   "source": [
    "# Packages\n",
    "import pandas as pd \n",
    "import numpy as np\n",
    "import category_encoders as ce\n",
    "import matplotlib.pyplot as plt\n",
    "from sklearn.ensemble import RandomForestClassifier\n",
    "from sklearn.model_selection import GridSearchCV, train_test_split\n",
    "from sklearn.metrics import recall_score\n",
    "from sklearn.pipeline import Pipeline\n",
    "from sklearn.metrics import precision_score\n",
    "from sklearn import metrics\n",
    "import random\n",
    "import warnings \n",
    "warnings.filterwarnings('ignore')\n",
    "\n",
    "# Grain setting guarantees the reproductibility of results\n",
    "np.random.seed(123) \n",
    "\n",
    "# Loading data\n",
    "data = pd.read_csv('german_credit_data_dataset.csv')\n",
    "data = pd.DataFrame(data)\n",
    "data.head()"
   ]
  },
  {
   "cell_type": "markdown",
   "metadata": {},
   "source": [
    "## James Stein Encoding"
   ]
  },
  {
   "cell_type": "code",
   "execution_count": 2,
   "metadata": {},
   "outputs": [],
   "source": [
    "# Unlike other encoding methods (such as one-hot encoding), this method uses knowledge of the target. \n",
    "# It is important if you use this method to encode after splitting into training and testing sets. \n",
    "\n",
    "# Training and test sets split\n",
    "# 80% of observations belong to the training set the rest to the test\n",
    "X_train, X_test, Y_train, Y_test = train_test_split(data.drop('customer_type', axis=1), data['customer_type'])"
   ]
  },
  {
   "cell_type": "code",
   "execution_count": 3,
   "metadata": {},
   "outputs": [
    {
     "name": "stdout",
     "output_type": "stream",
     "text": [
      "JamesSteinEncoder(cols=array(['checking_account_status', 'credit_history', 'purpose', 'savings',\n",
      "       'present_employment', 'personal', 'other_debtors', 'property',\n",
      "       'other_installment_plans', 'housing', 'job', 'telephone',\n",
      "       'foreign_worker'], dtype=object),\n",
      "                  drop_invariant=False, handle_missing='value',\n",
      "                  handle_unknown='value', model='independent',\n",
      "                  random_state=None, randomized=False, return_df=True,\n",
      "                  sigma=0.05, verbose=0)\n"
     ]
    }
   ],
   "source": [
    "# Selection of columns to be encoded\n",
    "cols = data.select_dtypes(include = 'object').columns.values \n",
    "\n",
    "# Building the encoder\n",
    "encoder = ce.JamesSteinEncoder(cols = cols)\n",
    "print(encoder)"
   ]
  },
  {
   "cell_type": "markdown",
   "metadata": {},
   "source": [
    "## Target encoding"
   ]
  },
  {
   "cell_type": "code",
   "execution_count": 4,
   "metadata": {},
   "outputs": [
    {
     "name": "stdout",
     "output_type": "stream",
     "text": [
      "TargetEncoder(cols=array(['checking_account_status', 'credit_history', 'purpose', 'savings',\n",
      "       'present_employment', 'personal', 'other_debtors', 'property',\n",
      "       'other_installment_plans', 'housing', 'job', 'telephone',\n",
      "       'foreign_worker'], dtype=object),\n",
      "              drop_invariant=False, handle_missing='value',\n",
      "              handle_unknown='value', min_samples_leaf=1, return_df=True,\n",
      "              smoothing=1.0,\n",
      "              v...\n",
      "..        ...   ...                      ...     ...              ...   ...   \n",
      "995      A121  31.0                     A143    A152              1.0  A172   \n",
      "996      A122  40.0                     A143    A152              1.0  A174   \n",
      "997      A123  38.0                     A143    A152              1.0  A173   \n",
      "998      A124  23.0                     A143    A153              1.0  A173   \n",
      "999      A123  27.0                     A143    A152              1.0  A173   \n",
      "\n",
      "    dependents  telephone foreign_worker customer_type  \n",
      "0            1       A192           A201             1  \n",
      "1            1       A191           A201             2  \n",
      "2            2       A191           A201             1  \n",
      "3            2       A191           A201             1  \n",
      "4            2       A191           A201             2  \n",
      "..         ...        ...            ...           ...  \n",
      "995          1       A191           A201             1  \n",
      "996          1       A192           A201             1  \n",
      "997          1       A191           A201             1  \n",
      "998          1       A192           A201             2  \n",
      "999          1       A191           A201             1  \n",
      "\n",
      "[1000 rows x 21 columns])\n"
     ]
    }
   ],
   "source": [
    "# Building the encoder\n",
    "target_encoder = ce.target_encoder.TargetEncoder(data, cols = cols)\n",
    "print(target_encoder)"
   ]
  },
  {
   "cell_type": "markdown",
   "metadata": {},
   "source": [
    "## Random Forest for James Stein Encoding"
   ]
  },
  {
   "cell_type": "code",
   "execution_count": 5,
   "metadata": {},
   "outputs": [
    {
     "data": {
      "text/plain": [
       "GridSearchCV(cv=5, error_score=nan,\n",
       "             estimator=Pipeline(memory=None,\n",
       "                                steps=[('encode_categorical',\n",
       "                                        JamesSteinEncoder(cols=array(['checking_account_status', 'credit_history', 'purpose', 'savings',\n",
       "       'present_employment', 'personal', 'other_debtors', 'property',\n",
       "       'other_installment_plans', 'housing', 'job', 'telephone',\n",
       "       'foreign_worker'], dtype=object),\n",
       "                                                          drop_invariant=Fal...\n",
       "                                                               random_state=None,\n",
       "                                                               verbose=0,\n",
       "                                                               warm_start=False))],\n",
       "                                verbose=False),\n",
       "             iid='deprecated', n_jobs=None,\n",
       "             param_grid={'classifier__criterion': ['gini', 'entropy'],\n",
       "                         'classifier__max_depth': [4, 5, 6, 7, 8],\n",
       "                         'classifier__max_features': ['sqrt', 'log2'],\n",
       "                         'classifier__n_estimators': [50, 100, 200, 500]},\n",
       "             pre_dispatch='2*n_jobs', refit=True, return_train_score=False,\n",
       "             scoring=None, verbose=0)"
      ]
     },
     "execution_count": 5,
     "metadata": {},
     "output_type": "execute_result"
    }
   ],
   "source": [
    "# Build the model, including the encoder\n",
    "model1 = Pipeline([\n",
    "  ('encode_categorical', encoder),\n",
    "  ('classifier', RandomForestClassifier())\n",
    "])\n",
    "\n",
    "# Exhaustive search over specified parameter values for an estimator.\n",
    "param_grid = { \n",
    "    'classifier__n_estimators': [50, 100, 200, 500],# the number of trees in the forest.\n",
    "    'classifier__max_features': ['sqrt', 'log2'], # the number of features to consider when looking for the \n",
    "                                                  # best split:\n",
    "                                                      ## if “sqrt”, then max_features=sqrt(n_features)\n",
    "                                                      ## if “log2”, then max_features=log2(n_features).\n",
    "    \n",
    "    'classifier__max_depth' : [4,5,6,7,8],\n",
    "    'classifier__criterion' :['gini', 'entropy'] # the function to measure the quality of a split. \n",
    "                                                 # Supported criteria are “gini” for the Gini impurity \n",
    "                                                 # and “entropy” for the information gain\n",
    "}\n",
    "\n",
    "grid_search1 = GridSearchCV(model1, param_grid = param_grid, cv = 5)\n",
    "grid_search1.fit(X_train, Y_train)"
   ]
  },
  {
   "cell_type": "code",
   "execution_count": 6,
   "metadata": {},
   "outputs": [
    {
     "data": {
      "text/plain": [
       "{'classifier__criterion': 'gini',\n",
       " 'classifier__max_depth': 8,\n",
       " 'classifier__max_features': 'sqrt',\n",
       " 'classifier__n_estimators': 50}"
      ]
     },
     "execution_count": 6,
     "metadata": {},
     "output_type": "execute_result"
    }
   ],
   "source": [
    "grid_search1.best_params_"
   ]
  },
  {
   "cell_type": "code",
   "execution_count": 7,
   "metadata": {},
   "outputs": [
    {
     "data": {
      "text/plain": [
       "Pipeline(memory=None,\n",
       "         steps=[('encode_categorical',\n",
       "                 JamesSteinEncoder(cols=['checking_account_status',\n",
       "                                         'credit_history', 'purpose', 'savings',\n",
       "                                         'present_employment', 'personal',\n",
       "                                         'other_debtors', 'property',\n",
       "                                         'other_installment_plans', 'housing',\n",
       "                                         'job', 'telephone', 'foreign_worker'],\n",
       "                                   drop_invariant=False, handle_missing='value',\n",
       "                                   handle_unknown='value', model='independ...\n",
       "                 RandomForestClassifier(bootstrap=True, ccp_alpha=0.0,\n",
       "                                        class_weight=None, criterion='gini',\n",
       "                                        max_depth=8, max_features='sqrt',\n",
       "                                        max_leaf_nodes=None, max_samples=None,\n",
       "                                        min_impurity_decrease=0.0,\n",
       "                                        min_impurity_split=None,\n",
       "                                        min_samples_leaf=1, min_samples_split=2,\n",
       "                                        min_weight_fraction_leaf=0.0,\n",
       "                                        n_estimators=50, n_jobs=None,\n",
       "                                        oob_score=False, random_state=None,\n",
       "                                        verbose=0, warm_start=False))],\n",
       "         verbose=False)"
      ]
     },
     "execution_count": 7,
     "metadata": {},
     "output_type": "execute_result"
    }
   ],
   "source": [
    "model1 = Pipeline([\n",
    "  ('encode_categorical', encoder),\n",
    "  ('classifier', RandomForestClassifier(n_estimators = 50, max_depth = 8, criterion = 'gini', max_features='sqrt'))\n",
    "  ])\n",
    "\n",
    "model1.fit(X_train, Y_train)"
   ]
  },
  {
   "cell_type": "code",
   "execution_count": 8,
   "metadata": {},
   "outputs": [],
   "source": [
    "predict_class1 = model1.predict(X_test)\n",
    "predict_proba1 = model1.predict_proba(X_test)[:, 1]"
   ]
  },
  {
   "cell_type": "code",
   "execution_count": 9,
   "metadata": {},
   "outputs": [
    {
     "name": "stdout",
     "output_type": "stream",
     "text": [
      "Recall on the test set is 0.9226190476190477\n",
      "Precision on the test set is 0.667619825708061\n"
     ]
    }
   ],
   "source": [
    "print(f\"Recall on the test set is {recall_score(Y_test, predict_class1)}\")\n",
    "print(f\"Precision on the test set is {precision_score(Y_test, predict_class1, average='macro')}\")"
   ]
  },
  {
   "cell_type": "code",
   "execution_count": 10,
   "metadata": {},
   "outputs": [
    {
     "data": {
      "text/plain": [
       "Text(0.5, 1.0, 'Precision-Recall curve')"
      ]
     },
     "execution_count": 10,
     "metadata": {},
     "output_type": "execute_result"
    },
    {
     "data": {
      "image/png": "[encoded data removed]",
      "text/plain": [
       "<Figure size 432x288 with 1 Axes>"
      ]
     },
     "metadata": {
      "needs_background": "light"
     },
     "output_type": "display_data"
    }
   ],
   "source": [
    "from sklearn.metrics import precision_recall_curve\n",
    "from sklearn.metrics import plot_precision_recall_curve\n",
    "\n",
    "disp1 = plot_precision_recall_curve(model1, X_test, Y_test)\n",
    "disp1.ax_.set_title('Precision-Recall curve')"
   ]
  },
  {
   "cell_type": "code",
   "execution_count": 11,
   "metadata": {},
   "outputs": [
    {
     "data": {
      "image/png": "[encoded data removed]",
      "text/plain": [
       "<Figure size 432x288 with 1 Axes>"
      ]
     },
     "metadata": {
      "needs_background": "light"
     },
     "output_type": "display_data"
    }
   ],
   "source": [
    "# ROCR curve\n",
    "fpr1, tpr1, thresholds1 = metrics.roc_curve(Y_test, predict_proba1, pos_label=2) # false & true positive rates\n",
    "plt.figure()\n",
    "plt.plot([0, 1], [0, 1], 'k--')\n",
    "plt.plot(fpr1, tpr1, label='Random Forest')\n",
    "plt.xlabel('False positive rate')\n",
    "plt.ylabel('True positive rate')\n",
    "plt.title('ROC curve')\n",
    "plt.legend(loc='best')\n",
    "plt.show()"
   ]
  },
  {
   "cell_type": "code",
   "execution_count": 12,
   "metadata": {},
   "outputs": [
    {
     "data": {
      "text/plain": [
       "0.8223722415795587"
      ]
     },
     "execution_count": 12,
     "metadata": {},
     "output_type": "execute_result"
    }
   ],
   "source": [
    "# AUC metric\n",
    "metrics.auc(fpr1, tpr1)"
   ]
  },
  {
   "cell_type": "markdown",
   "metadata": {},
   "source": [
    "## Random forest for Target Encoding"
   ]
  },
  {
   "cell_type": "code",
   "execution_count": 13,
   "metadata": {},
   "outputs": [
    {
     "data": {
      "text/plain": [
       "GridSearchCV(cv=5, error_score=nan,\n",
       "             estimator=Pipeline(memory=None,\n",
       "                                steps=[('encode_categorical',\n",
       "                                        TargetEncoder(cols=array(['checking_account_status', 'credit_history', 'purpose', 'savings',\n",
       "       'present_employment', 'personal', 'other_debtors', 'property',\n",
       "       'other_installment_plans', 'housing', 'job', 'telephone',\n",
       "       'foreign_worker'], dtype=object),\n",
       "                                                      drop_invariant=False,\n",
       "                                                      h...\n",
       "                                                               random_state=None,\n",
       "                                                               verbose=0,\n",
       "                                                               warm_start=False))],\n",
       "                                verbose=False),\n",
       "             iid='deprecated', n_jobs=None,\n",
       "             param_grid={'classifier__criterion': ['gini', 'entropy'],\n",
       "                         'classifier__max_depth': [4, 5, 6, 7, 8],\n",
       "                         'classifier__max_features': ['sqrt', 'log2'],\n",
       "                         'classifier__n_estimators': [50, 100, 200, 500]},\n",
       "             pre_dispatch='2*n_jobs', refit=True, return_train_score=False,\n",
       "             scoring=None, verbose=0)"
      ]
     },
     "execution_count": 13,
     "metadata": {},
     "output_type": "execute_result"
    }
   ],
   "source": [
    "model2 = Pipeline([\n",
    "  ('encode_categorical', target_encoder),\n",
    "  ('classifier', RandomForestClassifier())\n",
    "])\n",
    "\n",
    "grid_search2 = GridSearchCV(model2, param_grid = param_grid, cv = 5)\n",
    "grid_search2.fit(X_train, Y_train)"
   ]
  },
  {
   "cell_type": "code",
   "execution_count": 14,
   "metadata": {},
   "outputs": [
    {
     "data": {
      "text/plain": [
       "{'classifier__criterion': 'gini',\n",
       " 'classifier__max_depth': 8,\n",
       " 'classifier__max_features': 'log2',\n",
       " 'classifier__n_estimators': 200}"
      ]
     },
     "execution_count": 14,
     "metadata": {},
     "output_type": "execute_result"
    }
   ],
   "source": [
    "grid_search2.best_params_"
   ]
  },
  {
   "cell_type": "code",
   "execution_count": 15,
   "metadata": {},
   "outputs": [
    {
     "data": {
      "text/plain": [
       "Pipeline(memory=None,\n",
       "         steps=[('encode_categorical',\n",
       "                 TargetEncoder(cols=['checking_account_status',\n",
       "                                     'credit_history', 'purpose', 'savings',\n",
       "                                     'present_employment', 'personal',\n",
       "                                     'other_debtors', 'property',\n",
       "                                     'other_installment_plans', 'housing',\n",
       "                                     'job', 'telephone', 'foreign_worker'],\n",
       "                               drop_invariant=False, handle_missing='value',\n",
       "                               handle_unknown='value', min_samples_leaf=1,...\n",
       "                 RandomForestClassifier(bootstrap=True, ccp_alpha=0.0,\n",
       "                                        class_weight=None, criterion='gini',\n",
       "                                        max_depth=8, max_features='log2',\n",
       "                                        max_leaf_nodes=None, max_samples=None,\n",
       "                                        min_impurity_decrease=0.0,\n",
       "                                        min_impurity_split=None,\n",
       "                                        min_samples_leaf=1, min_samples_split=2,\n",
       "                                        min_weight_fraction_leaf=0.0,\n",
       "                                        n_estimators=200, n_jobs=None,\n",
       "                                        oob_score=False, random_state=None,\n",
       "                                        verbose=0, warm_start=False))],\n",
       "         verbose=False)"
      ]
     },
     "execution_count": 15,
     "metadata": {},
     "output_type": "execute_result"
    }
   ],
   "source": [
    "model2 = Pipeline([\n",
    "  ('encode_categorical', target_encoder),\n",
    "  ('classifier', RandomForestClassifier(n_estimators = 200, max_depth = 8, criterion = 'gini', max_features='log2'))\n",
    "  ])\n",
    "\n",
    "model2.fit(X_train, Y_train)"
   ]
  },
  {
   "cell_type": "code",
   "execution_count": 16,
   "metadata": {},
   "outputs": [],
   "source": [
    "predict_class2 = model2.predict(X_test)\n",
    "predict_proba2 = model2.predict_proba(X_test)[:, 1]"
   ]
  },
  {
   "cell_type": "code",
   "execution_count": 17,
   "metadata": {},
   "outputs": [
    {
     "name": "stdout",
     "output_type": "stream",
     "text": [
      "Recall on the test set is 0.9345238095238095\n",
      "Precision on the test set is 0.7198959522903186\n"
     ]
    }
   ],
   "source": [
    "print(f\"Recall on the test set is {recall_score(Y_test, predict_class2)}\")\n",
    "print(f\"Precision on the test set is {precision_score(Y_test, predict_class2, average='macro')}\")"
   ]
  },
  {
   "cell_type": "code",
   "execution_count": 18,
   "metadata": {},
   "outputs": [
    {
     "data": {
      "text/plain": [
       "Text(0.5, 1.0, 'Precision-Recall curve')"
      ]
     },
     "execution_count": 18,
     "metadata": {},
     "output_type": "execute_result"
    },
    {
     "data": {
      "image/png": "[encoded data removed]",
      "text/plain": [
       "<Figure size 432x288 with 1 Axes>"
      ]
     },
     "metadata": {
      "needs_background": "light"
     },
     "output_type": "display_data"
    }
   ],
   "source": [
    "from sklearn.metrics import precision_recall_curve\n",
    "from sklearn.metrics import plot_precision_recall_curve\n",
    "\n",
    "disp2 = plot_precision_recall_curve(model2, X_test, Y_test)\n",
    "disp2.ax_.set_title('Precision-Recall curve')"
   ]
  },
  {
   "cell_type": "code",
   "execution_count": 19,
   "metadata": {},
   "outputs": [
    {
     "data": {
      "image/png": "[encoded data removed]",
      "text/plain": [
       "<Figure size 432x288 with 1 Axes>"
      ]
     },
     "metadata": {
      "needs_background": "light"
     },
     "output_type": "display_data"
    }
   ],
   "source": [
    "# ROCR curve\n",
    "fpr2, tpr2, thresholds2 = metrics.roc_curve(Y_test, predict_proba2, pos_label=2) # false & true positive rates\n",
    "plt.figure()\n",
    "plt.plot([0, 1], [0, 1], 'k--')\n",
    "plt.plot(fpr2, tpr2, label='Random Forest')\n",
    "plt.xlabel('False positive rate')\n",
    "plt.ylabel('True positive rate')\n",
    "plt.title('ROC curve')\n",
    "plt.legend(loc='best')\n",
    "plt.show()"
   ]
  },
  {
   "cell_type": "code",
   "execution_count": 20,
   "metadata": {},
   "outputs": [
    {
     "data": {
      "text/plain": [
       "0.8223722415795587"
      ]
     },
     "execution_count": 20,
     "metadata": {},
     "output_type": "execute_result"
    }
   ],
   "source": [
    "# AUC metric\n",
    "metrics.auc(fpr2, tpr2)"
   ]
  },
  {
   "cell_type": "code",
   "execution_count": 21,
   "metadata": {},
   "outputs": [],
   "source": [
    "# Zastanawiam się dlaczego AUC wyszło w obydwu przypadkach takie samo, przychodzi wam do głowy jakieś uzasadnienie?"
   ]
  }
 ],
 "metadata": {
  "kernelspec": {
   "display_name": "Python 3",
   "language": "python",
   "name": "python3"
  },
  "language_info": {
   "codemirror_mode": {
    "name": "ipython",
    "version": 3
   },
   "file_extension": ".py",
   "mimetype": "text/x-python",
   "name": "python",
   "nbconvert_exporter": "python",
   "pygments_lexer": "ipython3",
   "version": "3.7.4"
  }
 },
 "nbformat": 4,
 "nbformat_minor": 4
}
