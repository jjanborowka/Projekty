{
 "cells": [
  {
   "cell_type": "markdown",
   "metadata": {},
   "source": [
    "## 1. Załadowanie danych i bibliotek"
   ]
  },
  {
   "cell_type": "code",
   "execution_count": 1,
   "metadata": {},
   "outputs": [
    {
     "data": {
      "text/html": [
       "<div>\n",
       "<style scoped>\n",
       "    .dataframe tbody tr th:only-of-type {\n",
       "        vertical-align: middle;\n",
       "    }\n",
       "\n",
       "    .dataframe tbody tr th {\n",
       "        vertical-align: top;\n",
       "    }\n",
       "\n",
       "    .dataframe thead th {\n",
       "        text-align: right;\n",
       "    }\n",
       "</style>\n",
       "<table border=\"1\" class=\"dataframe\">\n",
       "  <thead>\n",
       "    <tr style=\"text-align: right;\">\n",
       "      <th></th>\n",
       "      <th>checking_account_status</th>\n",
       "      <th>duration</th>\n",
       "      <th>credit_history</th>\n",
       "      <th>purpose</th>\n",
       "      <th>credit_amount</th>\n",
       "      <th>savings</th>\n",
       "      <th>present_employment</th>\n",
       "      <th>installment_rate</th>\n",
       "      <th>personal</th>\n",
       "      <th>other_debtors</th>\n",
       "      <th>present_residence</th>\n",
       "      <th>property</th>\n",
       "      <th>age</th>\n",
       "      <th>other_installment_plans</th>\n",
       "      <th>housing</th>\n",
       "      <th>existing_credits</th>\n",
       "      <th>job</th>\n",
       "      <th>dependents</th>\n",
       "      <th>telephone</th>\n",
       "      <th>foreign_worker</th>\n",
       "      <th>customer_type</th>\n",
       "    </tr>\n",
       "  </thead>\n",
       "  <tbody>\n",
       "    <tr>\n",
       "      <th>0</th>\n",
       "      <td>A11</td>\n",
       "      <td>6</td>\n",
       "      <td>A34</td>\n",
       "      <td>A43</td>\n",
       "      <td>1169.0</td>\n",
       "      <td>A65</td>\n",
       "      <td>A75</td>\n",
       "      <td>4.0</td>\n",
       "      <td>A93</td>\n",
       "      <td>A101</td>\n",
       "      <td>4.0</td>\n",
       "      <td>A121</td>\n",
       "      <td>67.0</td>\n",
       "      <td>A143</td>\n",
       "      <td>A152</td>\n",
       "      <td>2.0</td>\n",
       "      <td>A173</td>\n",
       "      <td>1</td>\n",
       "      <td>A192</td>\n",
       "      <td>A201</td>\n",
       "      <td>1</td>\n",
       "    </tr>\n",
       "    <tr>\n",
       "      <th>1</th>\n",
       "      <td>A12</td>\n",
       "      <td>48</td>\n",
       "      <td>A32</td>\n",
       "      <td>A43</td>\n",
       "      <td>5951.0</td>\n",
       "      <td>A61</td>\n",
       "      <td>A73</td>\n",
       "      <td>2.0</td>\n",
       "      <td>A92</td>\n",
       "      <td>A101</td>\n",
       "      <td>2.0</td>\n",
       "      <td>A121</td>\n",
       "      <td>22.0</td>\n",
       "      <td>A143</td>\n",
       "      <td>A152</td>\n",
       "      <td>1.0</td>\n",
       "      <td>A173</td>\n",
       "      <td>1</td>\n",
       "      <td>A191</td>\n",
       "      <td>A201</td>\n",
       "      <td>2</td>\n",
       "    </tr>\n",
       "    <tr>\n",
       "      <th>2</th>\n",
       "      <td>A14</td>\n",
       "      <td>12</td>\n",
       "      <td>A34</td>\n",
       "      <td>A46</td>\n",
       "      <td>2096.0</td>\n",
       "      <td>A61</td>\n",
       "      <td>A74</td>\n",
       "      <td>2.0</td>\n",
       "      <td>A93</td>\n",
       "      <td>A101</td>\n",
       "      <td>3.0</td>\n",
       "      <td>A121</td>\n",
       "      <td>49.0</td>\n",
       "      <td>A143</td>\n",
       "      <td>A152</td>\n",
       "      <td>1.0</td>\n",
       "      <td>A172</td>\n",
       "      <td>2</td>\n",
       "      <td>A191</td>\n",
       "      <td>A201</td>\n",
       "      <td>1</td>\n",
       "    </tr>\n",
       "    <tr>\n",
       "      <th>3</th>\n",
       "      <td>A11</td>\n",
       "      <td>42</td>\n",
       "      <td>A32</td>\n",
       "      <td>A42</td>\n",
       "      <td>7882.0</td>\n",
       "      <td>A61</td>\n",
       "      <td>A74</td>\n",
       "      <td>2.0</td>\n",
       "      <td>A93</td>\n",
       "      <td>A103</td>\n",
       "      <td>4.0</td>\n",
       "      <td>A122</td>\n",
       "      <td>45.0</td>\n",
       "      <td>A143</td>\n",
       "      <td>A153</td>\n",
       "      <td>1.0</td>\n",
       "      <td>A173</td>\n",
       "      <td>2</td>\n",
       "      <td>A191</td>\n",
       "      <td>A201</td>\n",
       "      <td>1</td>\n",
       "    </tr>\n",
       "    <tr>\n",
       "      <th>4</th>\n",
       "      <td>A11</td>\n",
       "      <td>24</td>\n",
       "      <td>A33</td>\n",
       "      <td>A40</td>\n",
       "      <td>4870.0</td>\n",
       "      <td>A61</td>\n",
       "      <td>A73</td>\n",
       "      <td>3.0</td>\n",
       "      <td>A93</td>\n",
       "      <td>A101</td>\n",
       "      <td>4.0</td>\n",
       "      <td>A124</td>\n",
       "      <td>53.0</td>\n",
       "      <td>A143</td>\n",
       "      <td>A153</td>\n",
       "      <td>2.0</td>\n",
       "      <td>A173</td>\n",
       "      <td>2</td>\n",
       "      <td>A191</td>\n",
       "      <td>A201</td>\n",
       "      <td>2</td>\n",
       "    </tr>\n",
       "  </tbody>\n",
       "</table>\n",
       "</div>"
      ],
      "text/plain": [
       "  checking_account_status  duration credit_history purpose  credit_amount  \\\n",
       "0                     A11         6            A34     A43         1169.0   \n",
       "1                     A12        48            A32     A43         5951.0   \n",
       "2                     A14        12            A34     A46         2096.0   \n",
       "3                     A11        42            A32     A42         7882.0   \n",
       "4                     A11        24            A33     A40         4870.0   \n",
       "\n",
       "  savings present_employment  installment_rate personal other_debtors  \\\n",
       "0     A65                A75               4.0      A93          A101   \n",
       "1     A61                A73               2.0      A92          A101   \n",
       "2     A61                A74               2.0      A93          A101   \n",
       "3     A61                A74               2.0      A93          A103   \n",
       "4     A61                A73               3.0      A93          A101   \n",
       "\n",
       "   present_residence property   age other_installment_plans housing  \\\n",
       "0                4.0     A121  67.0                    A143    A152   \n",
       "1                2.0     A121  22.0                    A143    A152   \n",
       "2                3.0     A121  49.0                    A143    A152   \n",
       "3                4.0     A122  45.0                    A143    A153   \n",
       "4                4.0     A124  53.0                    A143    A153   \n",
       "\n",
       "   existing_credits   job  dependents telephone foreign_worker  customer_type  \n",
       "0               2.0  A173           1      A192           A201              1  \n",
       "1               1.0  A173           1      A191           A201              2  \n",
       "2               1.0  A172           2      A191           A201              1  \n",
       "3               1.0  A173           2      A191           A201              1  \n",
       "4               2.0  A173           2      A191           A201              2  "
      ]
     },
     "execution_count": 1,
     "metadata": {},
     "output_type": "execute_result"
    }
   ],
   "source": [
    "# Packages\n",
    "import pandas as pd \n",
    "import numpy as np\n",
    "import category_encoders as ce\n",
    "import matplotlib.pyplot as plt\n",
    "from sklearn.ensemble import RandomForestClassifier\n",
    "from sklearn.model_selection import GridSearchCV, train_test_split\n",
    "from sklearn.metrics import recall_score\n",
    "from sklearn.pipeline import Pipeline\n",
    "from sklearn.metrics import precision_score\n",
    "from sklearn import preprocessing \n",
    "from sklearn import metrics\n",
    "import random\n",
    "import warnings\n",
    "import xgboost as xgb\n",
    "warnings.filterwarnings('ignore')\n",
    "\n",
    "# Grain setting guarantees the reproductibility of results\n",
    "np.random.seed(123)\n",
    "# Showing all columns in DataFrame preview\n",
    "pd.set_option('display.max_columns', None)\n",
    "\n",
    "# Loading data\n",
    "data = pd.read_csv('german_credit_data_dataset.csv')\n",
    "data = pd.DataFrame(data)\n",
    "data.head()"
   ]
  },
  {
   "cell_type": "code",
   "execution_count": 2,
   "metadata": {},
   "outputs": [],
   "source": [
    "# Training and test sets split\n",
    "# 80% of observations belong to the training set the rest to the test\n",
    "X_train, X_test, Y_train, Y_test = train_test_split(data.drop('customer_type', axis=1), data['customer_type'])"
   ]
  },
  {
   "cell_type": "markdown",
   "metadata": {},
   "source": [
    "## 2. XGBoost for James-Stein Encoding"
   ]
  },
  {
   "cell_type": "code",
   "execution_count": 3,
   "metadata": {},
   "outputs": [],
   "source": [
    "#train dataframe\n",
    "dtrain = pd.concat([X_train,Y_train], axis=1)\n",
    "\n",
    "#test dataframe\n",
    "dtest = pd.concat([X_test,Y_test], axis=1)\n",
    "\n",
    "target = \"customer_type\"\n",
    "\n",
    "# Selection of columns to be encoded\n",
    "cols = data.select_dtypes(include = 'object').columns.values \n",
    "\n",
    "# Building the encoder\n",
    "encoder = ce.JamesSteinEncoder(cols = cols)\n",
    "\n",
    "#encoding train dataframe\n",
    "dtrain = encoder.fit_transform(X = dtrain, y = dtrain[target])\n",
    "#changing target labels to binary labels for binary xboost algorithm 1 -> 1 (good customer), 2 -> 0 (bad customer) \n",
    "dtrain[target] = dtrain[target].map({1:1, 2:0})\n",
    "\n",
    "#encoding test dataframe\n",
    "dtest = encoder.transform(X = dtest)\n",
    "#changing target labels to binary labels for binary xboost algorithm 1 -> 1 (good customer), 2 -> 0 (bad customer) \n",
    "dtest[target] = dtest[target].map({1:1, 2:0})\n",
    "\n",
    "predictors = [x for x in dtrain.columns if x not in [target]]"
   ]
  },
  {
   "cell_type": "code",
   "execution_count": 4,
   "metadata": {},
   "outputs": [],
   "source": [
    "# Function which finds the optimum number of trees (n_estimators parameter) using cv function of xgboost\n",
    "# for given learning_rate and changes the alg parameter accrodingly\n",
    "def modelfit(alg, dtrain, predictors, cv_folds = 5, early_stopping_rounds = 50):\n",
    "    xgb_param = alg.get_xgb_params()\n",
    "    xgtrain = xgb.DMatrix(dtrain[predictors].values, label=dtrain[target].values)\n",
    "    cvresult = xgb.cv(xgb_param, xgtrain, num_boost_round = alg.get_params()['n_estimators'],\n",
    "                      nfold=cv_folds, metrics='auc', early_stopping_rounds = early_stopping_rounds)\n",
    "    alg.set_params(n_estimators = cvresult.shape[0])"
   ]
  },
  {
   "cell_type": "code",
   "execution_count": 5,
   "metadata": {},
   "outputs": [],
   "source": [
    "# Our default calssifier, whose parameters will be tuned in grid_search_cv\n",
    "xgb1 = xgb.XGBClassifier(\n",
    " learning_rate = 0.1,\n",
    " n_estimators = 1000,\n",
    " max_depth = 5,\n",
    " min_child_weight = 1,\n",
    " gamma = 0,\n",
    " subsample = 0.8,\n",
    " colsample_bytree = 0.8,\n",
    " objective = 'binary:logistic',\n",
    " nthread = 4,\n",
    " scale_pos_weight = 1,\n",
    " seed = 27)\n",
    "\n",
    "# Firstly let's assume fixed learning_rate = 0.1 and find optimum n_estiamtors parameter value for it\n",
    "modelfit(xgb1, dtrain, predictors)"
   ]
  },
  {
   "cell_type": "markdown",
   "metadata": {},
   "source": [
    "### 2.1. Tune max_depth and min_child_weight"
   ]
  },
  {
   "cell_type": "code",
   "execution_count": 6,
   "metadata": {},
   "outputs": [
    {
     "data": {
      "text/plain": [
       "{'classifier__max_depth': 8, 'classifier__min_child_weight': 5}"
      ]
     },
     "execution_count": 6,
     "metadata": {},
     "output_type": "execute_result"
    }
   ],
   "source": [
    "model1 = Pipeline([\n",
    "  ('classifier', xgb1)\n",
    "])\n",
    "\n",
    "# Parametred which will be tested in grid_search_cv\n",
    "parameters = {\n",
    "    'classifier__max_depth': range (2, 10, 1),\n",
    "    'classifier__min_child_weight': range(1,10,1)\n",
    "}\n",
    "\n",
    "gsearch1 = GridSearchCV(model1, param_grid = parameters, cv = 5)\n",
    "gsearch1.fit(dtrain[predictors], dtrain[target])\n",
    "gsearch1.best_params_"
   ]
  },
  {
   "cell_type": "code",
   "execution_count": 7,
   "metadata": {},
   "outputs": [],
   "source": [
    "# let's replace our estimator with the best one\n",
    "xgb2 = gsearch1.best_estimator_.steps[0][1]\n",
    "# find the optimum n_estimators parameter\n",
    "modelfit(xgb2, dtrain, predictors)"
   ]
  },
  {
   "cell_type": "markdown",
   "metadata": {},
   "source": [
    "### 2.2. Tune gamma"
   ]
  },
  {
   "cell_type": "code",
   "execution_count": 8,
   "metadata": {},
   "outputs": [
    {
     "data": {
      "text/plain": [
       "{'classifier__gamma': 0.0}"
      ]
     },
     "execution_count": 8,
     "metadata": {},
     "output_type": "execute_result"
    }
   ],
   "source": [
    "model2 = gsearch1.best_estimator_\n",
    "\n",
    "# Parametred which will be tested in grid_search_cv\n",
    "parameters = {\n",
    "    'classifier__gamma': [i/10.0 for i in range(0,5)],\n",
    "}\n",
    "\n",
    "gsearch2 = GridSearchCV(model2, param_grid = parameters, cv = 5)\n",
    "gsearch2.fit(dtrain[predictors], dtrain[target])\n",
    "gsearch2.best_params_"
   ]
  },
  {
   "cell_type": "code",
   "execution_count": 9,
   "metadata": {},
   "outputs": [],
   "source": [
    "# let's replace our estimator with the best one\n",
    "xgb3 = gsearch2.best_estimator_.steps[0][1]\n",
    "# find the optimum n_estimators parameter\n",
    "modelfit(xgb3, dtrain, predictors)"
   ]
  },
  {
   "cell_type": "markdown",
   "metadata": {},
   "source": [
    "### 2.3. Tune subsample and colsample_bytree"
   ]
  },
  {
   "cell_type": "code",
   "execution_count": 10,
   "metadata": {},
   "outputs": [
    {
     "data": {
      "text/plain": [
       "{'classifier__colsample_bytree': 0.85, 'classifier__subsample': 0.55}"
      ]
     },
     "execution_count": 10,
     "metadata": {},
     "output_type": "execute_result"
    }
   ],
   "source": [
    "model3 = gsearch2.best_estimator_\n",
    "\n",
    "# Parametred which will be tested in grid_search_cv\n",
    "parameters = {\n",
    "    'classifier__subsample':[i/100.0 for i in range(50,100,5)],\n",
    "    'classifier__colsample_bytree':[i/100.0 for i in range(50,100,5)]\n",
    "}\n",
    "\n",
    "gsearch3 = GridSearchCV(model3, param_grid = parameters, cv = 5)\n",
    "gsearch3.fit(dtrain[predictors], dtrain[target])\n",
    "gsearch3.best_params_"
   ]
  },
  {
   "cell_type": "markdown",
   "metadata": {},
   "source": [
    "### 2.4. Tune learning_rate"
   ]
  },
  {
   "cell_type": "code",
   "execution_count": 11,
   "metadata": {},
   "outputs": [],
   "source": [
    "# let's replace our estimator with the best one and lower learning rate to get more trees \n",
    "xgb4 = gsearch3.best_estimator_.steps[0][1]\n",
    "xgb4.set_params(learning_rate = 0.01)\n",
    "# We also have to increase n_estimators so that number of trees wouldn't limit learning rate\n",
    "xgb4.set_params(n_estimators = 5000)\n",
    "# After all just find the optimum n_estimators parameter for changed learning_rate\n",
    "modelfit(xgb3, dtrain, predictors)\n",
    "#final model\n",
    "model4 = Pipeline([\n",
    "  ('classifier', xgb4)\n",
    "])"
   ]
  },
  {
   "cell_type": "markdown",
   "metadata": {},
   "source": [
    "### 2.5. Final James-Stein encoding model"
   ]
  },
  {
   "cell_type": "code",
   "execution_count": 12,
   "metadata": {},
   "outputs": [],
   "source": [
    "model4.fit(dtest[predictors], dtest[target])\n",
    "\n",
    "predict_class1 = model4.predict(dtest[predictors])\n",
    "predict_proba1 = model4.predict_proba(dtest[predictors])[:, 1]\n"
   ]
  },
  {
   "cell_type": "markdown",
   "metadata": {},
   "source": [
    "## 3. XGBoost for One Hot Encoding"
   ]
  },
  {
   "cell_type": "code",
   "execution_count": 13,
   "metadata": {},
   "outputs": [],
   "source": [
    "#train dataframe\n",
    "dtrain = pd.concat([X_train,Y_train], axis=1)\n",
    "\n",
    "#test dataframe\n",
    "dtest = pd.concat([X_test,Y_test], axis=1)\n",
    "\n",
    "# Building the encoder\n",
    "onehot_encoder = ce.OneHotEncoder(data, cols = cols)\n",
    "\n",
    "#encoding train dataframe\n",
    "dtrain = onehot_encoder.fit_transform(X = dtrain, y = dtrain[\"customer_type\"])\n",
    "#changing target labels to binary labels for binary xboost algorithm 1 -> 1 (good customer), 2 -> 0 (bad customer) \n",
    "dtrain[\"customer_type\"] = dtrain[\"customer_type\"].map({1:1, 2:0})\n",
    "\n",
    "#encoding test dataframe\n",
    "dtest = onehot_encoder.transform(X = dtest)\n",
    "#changing target labels to binary labels for binary xboost algorithm 1 -> 1 (good customer), 2 -> 0 (bad customer) \n",
    "dtest[\"customer_type\"] = dtest[\"customer_type\"].map({1:1, 2:0})\n",
    "\n",
    "predictors = [x for x in dtrain.columns if x not in [target]]"
   ]
  },
  {
   "cell_type": "code",
   "execution_count": 14,
   "metadata": {},
   "outputs": [],
   "source": [
    "# Our default calssifier, whose parameters will be tuned in grid_search_cv\n",
    "xgb1 = xgb.XGBClassifier(\n",
    " learning_rate = 0.1,\n",
    " n_estimators = 1000,\n",
    " max_depth = 5,\n",
    " min_child_weight = 1,\n",
    " gamma = 0,\n",
    " subsample = 0.8,\n",
    " colsample_bytree = 0.8,\n",
    " objective = 'binary:logistic',\n",
    " nthread = 4,\n",
    " scale_pos_weight = 1,\n",
    " seed = 27)\n",
    "\n",
    "# Firstly let's assume fixed learning_rate = 0.1 and find optimum n_estiamtors\n",
    "# parameter value for it\n",
    "modelfit(xgb1, dtrain, predictors)"
   ]
  },
  {
   "cell_type": "markdown",
   "metadata": {},
   "source": [
    "### 3.1. Tune max_depth and min_child_weight"
   ]
  },
  {
   "cell_type": "code",
   "execution_count": 15,
   "metadata": {},
   "outputs": [
    {
     "data": {
      "text/plain": [
       "{'classifier__max_depth': 2, 'classifier__min_child_weight': 4}"
      ]
     },
     "execution_count": 15,
     "metadata": {},
     "output_type": "execute_result"
    }
   ],
   "source": [
    "model1 = Pipeline([\n",
    "  ('classifier', xgb1)\n",
    "])\n",
    "\n",
    "# Parametred which will be tested in grid_search_cv\n",
    "parameters = {\n",
    "    'classifier__max_depth': range (2, 10, 1),\n",
    "    'classifier__min_child_weight': range(1,10,1)\n",
    "}\n",
    "\n",
    "gsearch1 = GridSearchCV(model1, param_grid = parameters, cv = 5)\n",
    "gsearch1.fit(dtrain[predictors], dtrain[target])\n",
    "gsearch1.best_params_"
   ]
  },
  {
   "cell_type": "code",
   "execution_count": 16,
   "metadata": {},
   "outputs": [],
   "source": [
    "# let's replace our estimator with the best one\n",
    "xgb2 = gsearch1.best_estimator_.steps[0][1]\n",
    "# find the optimum n_estimators parameter\n",
    "modelfit(xgb2, dtrain, predictors)"
   ]
  },
  {
   "cell_type": "markdown",
   "metadata": {},
   "source": [
    "### 3.2. Tune gamma\n"
   ]
  },
  {
   "cell_type": "code",
   "execution_count": 17,
   "metadata": {},
   "outputs": [
    {
     "data": {
      "text/plain": [
       "{'classifier__gamma': 0.0}"
      ]
     },
     "execution_count": 17,
     "metadata": {},
     "output_type": "execute_result"
    }
   ],
   "source": [
    "model2 = gsearch1.best_estimator_\n",
    "\n",
    "# Parametred which will be tested in grid_search_cv\n",
    "parameters = {\n",
    "    'classifier__gamma': [i/10.0 for i in range(0,5)],\n",
    "}\n",
    "\n",
    "gsearch2 = GridSearchCV(model2, param_grid = parameters, cv = 5)\n",
    "gsearch2.fit(dtrain[predictors], dtrain[target])\n",
    "gsearch2.best_params_"
   ]
  },
  {
   "cell_type": "code",
   "execution_count": 18,
   "metadata": {},
   "outputs": [],
   "source": [
    "# let's replace our estimator with the best one\n",
    "xgb3 = gsearch2.best_estimator_.steps[0][1]\n",
    "# find the optimum n_estimators parameter\n",
    "modelfit(xgb3, dtrain, predictors)"
   ]
  },
  {
   "cell_type": "markdown",
   "metadata": {},
   "source": [
    "### 3.3. Tune subsample and colsample_bytree\n"
   ]
  },
  {
   "cell_type": "code",
   "execution_count": 19,
   "metadata": {},
   "outputs": [
    {
     "data": {
      "text/plain": [
       "{'classifier__colsample_bytree': 0.65, 'classifier__subsample': 0.85}"
      ]
     },
     "execution_count": 19,
     "metadata": {},
     "output_type": "execute_result"
    }
   ],
   "source": [
    "model3 = gsearch2.best_estimator_\n",
    "\n",
    "# Parametred which will be tested in grid_search_cv\n",
    "parameters = {\n",
    "    'classifier__subsample':[i/100.0 for i in range(50,100,5)],\n",
    "    'classifier__colsample_bytree':[i/100.0 for i in range(50,100,5)]\n",
    "}\n",
    "\n",
    "gsearch3 = GridSearchCV(model3, param_grid = parameters, cv = 5)\n",
    "gsearch3.fit(dtrain[predictors], dtrain[target])\n",
    "gsearch3.best_params_"
   ]
  },
  {
   "cell_type": "markdown",
   "metadata": {},
   "source": [
    "### 3.4. Tune learning_rate"
   ]
  },
  {
   "cell_type": "code",
   "execution_count": 20,
   "metadata": {},
   "outputs": [],
   "source": [
    "# let's replace our estimator with the best one and lower learning rate to get more trees \n",
    "xgb4 = gsearch3.best_estimator_.steps[0][1]\n",
    "xgb4.set_params(learning_rate = 0.01)\n",
    "# We also have to increase n_estimators so that number of trees wouldn't limit learning rate\n",
    "xgb4.set_params(n_estimators = 5000)\n",
    "# After all just find the optimum n_estimators parameter for changed learning_rate\n",
    "modelfit(xgb3, dtrain, predictors)\n",
    "#final model\n",
    "model4 = Pipeline([\n",
    "  ('classifier', xgb4)\n",
    "])"
   ]
  },
  {
   "cell_type": "code",
   "execution_count": 21,
   "metadata": {},
   "outputs": [],
   "source": [
    "model4.fit(dtest[predictors], dtest[target])\n",
    "\n",
    "predict_class2 = model4.predict(dtest[predictors])\n",
    "predict_proba2 = model4.predict_proba(dtest[predictors])[:, 1]\n"
   ]
  },
  {
   "cell_type": "markdown",
   "metadata": {},
   "source": [
    "## 4. Wyniki"
   ]
  },
  {
   "cell_type": "code",
   "execution_count": 25,
   "metadata": {},
   "outputs": [
    {
     "data": {
      "text/html": [
       "<div>\n",
       "<style scoped>\n",
       "    .dataframe tbody tr th:only-of-type {\n",
       "        vertical-align: middle;\n",
       "    }\n",
       "\n",
       "    .dataframe tbody tr th {\n",
       "        vertical-align: top;\n",
       "    }\n",
       "\n",
       "    .dataframe thead th {\n",
       "        text-align: right;\n",
       "    }\n",
       "</style>\n",
       "<table border=\"1\" class=\"dataframe\">\n",
       "  <thead>\n",
       "    <tr style=\"text-align: right;\">\n",
       "      <th></th>\n",
       "      <th>Encoder</th>\n",
       "      <th>AUC</th>\n",
       "    </tr>\n",
       "  </thead>\n",
       "  <tbody>\n",
       "    <tr>\n",
       "      <th>0</th>\n",
       "      <td>James-Stein Encoding</td>\n",
       "      <td>0.972488</td>\n",
       "    </tr>\n",
       "    <tr>\n",
       "      <th>1</th>\n",
       "      <td>One Hot Encoding</td>\n",
       "      <td>0.996008</td>\n",
       "    </tr>\n",
       "  </tbody>\n",
       "</table>\n",
       "</div>"
      ],
      "text/plain": [
       "                Encoder       AUC\n",
       "0  James-Stein Encoding  0.972488\n",
       "1      One Hot Encoding  0.996008"
      ]
     },
     "execution_count": 25,
     "metadata": {},
     "output_type": "execute_result"
    }
   ],
   "source": [
    "Y_test = Y_test.map({1:1, 2:0})\n",
    "\n",
    "fpr1, tpr1, thresholds1 = metrics.roc_curve(Y_test, predict_proba1) # false & true positive rates\n",
    "fpr2, tpr2, thresholds2 = metrics.roc_curve(Y_test, predict_proba2) # false & true positive rates\n",
    "\n",
    "pd.DataFrame({\"Encoder\" : [\"James-Stein Encoding\", \"One Hot Encoding\"],\n",
    "             \"AUC\": [metrics.auc(fpr1, tpr1), metrics.auc(fpr2, tpr2)]})"
   ]
  },
  {
   "cell_type": "code",
   "execution_count": 26,
   "metadata": {},
   "outputs": [
    {
     "data": {
      "text/html": [
       "<div>\n",
       "<style scoped>\n",
       "    .dataframe tbody tr th:only-of-type {\n",
       "        vertical-align: middle;\n",
       "    }\n",
       "\n",
       "    .dataframe tbody tr th {\n",
       "        vertical-align: top;\n",
       "    }\n",
       "\n",
       "    .dataframe thead th {\n",
       "        text-align: right;\n",
       "    }\n",
       "</style>\n",
       "<table border=\"1\" class=\"dataframe\">\n",
       "  <thead>\n",
       "    <tr style=\"text-align: right;\">\n",
       "      <th></th>\n",
       "      <th>Encoder</th>\n",
       "      <th>Precision</th>\n",
       "      <th>Recall</th>\n",
       "    </tr>\n",
       "  </thead>\n",
       "  <tbody>\n",
       "    <tr>\n",
       "      <th>0</th>\n",
       "      <td>James Stein Encoding</td>\n",
       "      <td>0.900491</td>\n",
       "      <td>0.952381</td>\n",
       "    </tr>\n",
       "    <tr>\n",
       "      <th>1</th>\n",
       "      <td>One Hot Encoding</td>\n",
       "      <td>0.969738</td>\n",
       "      <td>0.988095</td>\n",
       "    </tr>\n",
       "  </tbody>\n",
       "</table>\n",
       "</div>"
      ],
      "text/plain": [
       "                Encoder  Precision    Recall\n",
       "0  James Stein Encoding   0.900491  0.952381\n",
       "1      One Hot Encoding   0.969738  0.988095"
      ]
     },
     "execution_count": 26,
     "metadata": {},
     "output_type": "execute_result"
    }
   ],
   "source": [
    "pd.DataFrame({\"Encoder\" : [\"James Stein Encoding\", \"One Hot Encoding\"],\n",
    "             \"Precision\": [precision_score(Y_test, predict_class1, average='macro'), precision_score(Y_test, predict_class2, average='macro')],\n",
    "             \"Recall\": [recall_score(Y_test, predict_class1), recall_score(Y_test, predict_class2)]})"
   ]
  },
  {
   "cell_type": "code",
   "execution_count": 27,
   "metadata": {},
   "outputs": [
    {
     "data": {
      "image/png": "[encoded data removed]",
      "text/plain": [
       "<Figure size 432x288 with 1 Axes>"
      ]
     },
     "metadata": {
      "needs_background": "light"
     },
     "output_type": "display_data"
    }
   ],
   "source": [
    "# ROCR curve\n",
    "plt.figure()\n",
    "plt.plot([0, 1], [0, 1], 'k--')\n",
    "plt.plot(fpr1, tpr1, label='James Stein Encoding')\n",
    "plt.plot(fpr2, tpr2, label='One Hot Encoding')\n",
    "plt.xlabel('False positive rate')\n",
    "plt.ylabel('True positive rate')\n",
    "plt.title('ROC curve')\n",
    "plt.legend(loc='best')\n",
    "plt.show()"
   ]
  },
  {
   "cell_type": "code",
   "execution_count": null,
   "metadata": {},
   "outputs": [],
   "source": []
  }
 ],
 "metadata": {
  "kernelspec": {
   "display_name": "Python 3",
   "language": "python",
   "name": "python3"
  },
  "language_info": {
   "codemirror_mode": {
    "name": "ipython",
    "version": 3
   },
   "file_extension": ".py",
   "mimetype": "text/x-python",
   "name": "python",
   "nbconvert_exporter": "python",
   "pygments_lexer": "ipython3",
   "version": "3.7.6"
  }
 },
 "nbformat": 4,
 "nbformat_minor": 4
}
