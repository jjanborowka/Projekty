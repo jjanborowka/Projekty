{
 "cells": [
  {
   "cell_type": "code",
   "execution_count": 1,
   "metadata": {},
   "outputs": [
    {
     "data": {
      "text/html": [
       "<div>\n",
       "<style scoped>\n",
       "    .dataframe tbody tr th:only-of-type {\n",
       "        vertical-align: middle;\n",
       "    }\n",
       "\n",
       "    .dataframe tbody tr th {\n",
       "        vertical-align: top;\n",
       "    }\n",
       "\n",
       "    .dataframe thead th {\n",
       "        text-align: right;\n",
       "    }\n",
       "</style>\n",
       "<table border=\"1\" class=\"dataframe\">\n",
       "  <thead>\n",
       "    <tr style=\"text-align: right;\">\n",
       "      <th></th>\n",
       "      <th>checking_account_status</th>\n",
       "      <th>duration</th>\n",
       "      <th>credit_history</th>\n",
       "      <th>purpose</th>\n",
       "      <th>credit_amount</th>\n",
       "      <th>savings</th>\n",
       "      <th>present_employment</th>\n",
       "      <th>installment_rate</th>\n",
       "      <th>personal</th>\n",
       "      <th>other_debtors</th>\n",
       "      <th>...</th>\n",
       "      <th>property</th>\n",
       "      <th>age</th>\n",
       "      <th>other_installment_plans</th>\n",
       "      <th>housing</th>\n",
       "      <th>existing_credits</th>\n",
       "      <th>job</th>\n",
       "      <th>dependents</th>\n",
       "      <th>telephone</th>\n",
       "      <th>foreign_worker</th>\n",
       "      <th>customer_type</th>\n",
       "    </tr>\n",
       "  </thead>\n",
       "  <tbody>\n",
       "    <tr>\n",
       "      <th>0</th>\n",
       "      <td>A11</td>\n",
       "      <td>6</td>\n",
       "      <td>A34</td>\n",
       "      <td>A43</td>\n",
       "      <td>1169.0</td>\n",
       "      <td>A65</td>\n",
       "      <td>A75</td>\n",
       "      <td>4.0</td>\n",
       "      <td>A93</td>\n",
       "      <td>A101</td>\n",
       "      <td>...</td>\n",
       "      <td>A121</td>\n",
       "      <td>67.0</td>\n",
       "      <td>A143</td>\n",
       "      <td>A152</td>\n",
       "      <td>2.0</td>\n",
       "      <td>A173</td>\n",
       "      <td>1</td>\n",
       "      <td>A192</td>\n",
       "      <td>A201</td>\n",
       "      <td>1</td>\n",
       "    </tr>\n",
       "    <tr>\n",
       "      <th>1</th>\n",
       "      <td>A12</td>\n",
       "      <td>48</td>\n",
       "      <td>A32</td>\n",
       "      <td>A43</td>\n",
       "      <td>5951.0</td>\n",
       "      <td>A61</td>\n",
       "      <td>A73</td>\n",
       "      <td>2.0</td>\n",
       "      <td>A92</td>\n",
       "      <td>A101</td>\n",
       "      <td>...</td>\n",
       "      <td>A121</td>\n",
       "      <td>22.0</td>\n",
       "      <td>A143</td>\n",
       "      <td>A152</td>\n",
       "      <td>1.0</td>\n",
       "      <td>A173</td>\n",
       "      <td>1</td>\n",
       "      <td>A191</td>\n",
       "      <td>A201</td>\n",
       "      <td>2</td>\n",
       "    </tr>\n",
       "    <tr>\n",
       "      <th>2</th>\n",
       "      <td>A14</td>\n",
       "      <td>12</td>\n",
       "      <td>A34</td>\n",
       "      <td>A46</td>\n",
       "      <td>2096.0</td>\n",
       "      <td>A61</td>\n",
       "      <td>A74</td>\n",
       "      <td>2.0</td>\n",
       "      <td>A93</td>\n",
       "      <td>A101</td>\n",
       "      <td>...</td>\n",
       "      <td>A121</td>\n",
       "      <td>49.0</td>\n",
       "      <td>A143</td>\n",
       "      <td>A152</td>\n",
       "      <td>1.0</td>\n",
       "      <td>A172</td>\n",
       "      <td>2</td>\n",
       "      <td>A191</td>\n",
       "      <td>A201</td>\n",
       "      <td>1</td>\n",
       "    </tr>\n",
       "    <tr>\n",
       "      <th>3</th>\n",
       "      <td>A11</td>\n",
       "      <td>42</td>\n",
       "      <td>A32</td>\n",
       "      <td>A42</td>\n",
       "      <td>7882.0</td>\n",
       "      <td>A61</td>\n",
       "      <td>A74</td>\n",
       "      <td>2.0</td>\n",
       "      <td>A93</td>\n",
       "      <td>A103</td>\n",
       "      <td>...</td>\n",
       "      <td>A122</td>\n",
       "      <td>45.0</td>\n",
       "      <td>A143</td>\n",
       "      <td>A153</td>\n",
       "      <td>1.0</td>\n",
       "      <td>A173</td>\n",
       "      <td>2</td>\n",
       "      <td>A191</td>\n",
       "      <td>A201</td>\n",
       "      <td>1</td>\n",
       "    </tr>\n",
       "    <tr>\n",
       "      <th>4</th>\n",
       "      <td>A11</td>\n",
       "      <td>24</td>\n",
       "      <td>A33</td>\n",
       "      <td>A40</td>\n",
       "      <td>4870.0</td>\n",
       "      <td>A61</td>\n",
       "      <td>A73</td>\n",
       "      <td>3.0</td>\n",
       "      <td>A93</td>\n",
       "      <td>A101</td>\n",
       "      <td>...</td>\n",
       "      <td>A124</td>\n",
       "      <td>53.0</td>\n",
       "      <td>A143</td>\n",
       "      <td>A153</td>\n",
       "      <td>2.0</td>\n",
       "      <td>A173</td>\n",
       "      <td>2</td>\n",
       "      <td>A191</td>\n",
       "      <td>A201</td>\n",
       "      <td>2</td>\n",
       "    </tr>\n",
       "  </tbody>\n",
       "</table>\n",
       "<p>5 rows × 21 columns</p>\n",
       "</div>"
      ],
      "text/plain": [
       "  checking_account_status  duration credit_history purpose  credit_amount  \\\n",
       "0                     A11         6            A34     A43         1169.0   \n",
       "1                     A12        48            A32     A43         5951.0   \n",
       "2                     A14        12            A34     A46         2096.0   \n",
       "3                     A11        42            A32     A42         7882.0   \n",
       "4                     A11        24            A33     A40         4870.0   \n",
       "\n",
       "  savings present_employment  installment_rate personal other_debtors  ...  \\\n",
       "0     A65                A75               4.0      A93          A101  ...   \n",
       "1     A61                A73               2.0      A92          A101  ...   \n",
       "2     A61                A74               2.0      A93          A101  ...   \n",
       "3     A61                A74               2.0      A93          A103  ...   \n",
       "4     A61                A73               3.0      A93          A101  ...   \n",
       "\n",
       "   property   age  other_installment_plans housing existing_credits   job  \\\n",
       "0      A121  67.0                     A143    A152              2.0  A173   \n",
       "1      A121  22.0                     A143    A152              1.0  A173   \n",
       "2      A121  49.0                     A143    A152              1.0  A172   \n",
       "3      A122  45.0                     A143    A153              1.0  A173   \n",
       "4      A124  53.0                     A143    A153              2.0  A173   \n",
       "\n",
       "  dependents  telephone foreign_worker customer_type  \n",
       "0          1       A192           A201             1  \n",
       "1          1       A191           A201             2  \n",
       "2          2       A191           A201             1  \n",
       "3          2       A191           A201             1  \n",
       "4          2       A191           A201             2  \n",
       "\n",
       "[5 rows x 21 columns]"
      ]
     },
     "execution_count": 1,
     "metadata": {},
     "output_type": "execute_result"
    }
   ],
   "source": [
    "# Packages\n",
    "import pandas as pd \n",
    "import numpy as np\n",
    "import category_encoders as ce\n",
    "import matplotlib.pyplot as plt\n",
    "import seaborn as sns \n",
    "from random import uniform\n",
    "from sklearn.model_selection import GridSearchCV, train_test_split\n",
    "from sklearn.metrics import recall_score\n",
    "from sklearn.pipeline import Pipeline\n",
    "from sklearn.linear_model import LogisticRegression\n",
    "from sklearn.metrics import precision_score\n",
    "from sklearn import preprocessing \n",
    "from sklearn import metrics\n",
    "from sklearn.preprocessing import MinMaxScaler\n",
    "from sklearn.feature_selection import SelectKBest\n",
    "from sklearn.feature_selection import f_classif\n",
    "from sklearn.feature_selection import GenericUnivariateSelect\n",
    "from sklearn.feature_selection import SelectFromModel\n",
    "from sklearn.ensemble import VotingClassifier\n",
    "from sklearn.model_selection import cross_val_score\n",
    "import random\n",
    "import warnings \n",
    "warnings.filterwarnings('ignore')\n",
    "\n",
    "# Grain setting guarantees the reproductibility of results\n",
    "np.random.seed(123) \n",
    "\n",
    "# Loading data\n",
    "data = pd.read_csv('german_credit_data_dataset.csv')\n",
    "data = pd.DataFrame(data)\n",
    "data.head()\n"
   ]
  },
  {
   "cell_type": "code",
   "execution_count": 2,
   "metadata": {},
   "outputs": [],
   "source": [
    "# We will use Logistic-Regresion\n",
    "# Splitting data to train and test set \n",
    "X_train, X_test, Y_train, Y_test = train_test_split(data.drop('customer_type', axis=1), data['customer_type'])"
   ]
  },
  {
   "cell_type": "code",
   "execution_count": 3,
   "metadata": {},
   "outputs": [],
   "source": [
    "# Scaling numeric data \n",
    "minmax =preprocessing.StandardScaler(copy=False)\n",
    "# Selecting only numeric columns \n",
    "num_cols = X_train.columns[X_train.dtypes.apply(lambda c: np.issubdtype(c, np.number))]\n",
    "\n",
    "# Fitting StandartScaler with data \n",
    "minmax.fit(X_train[num_cols]) \n",
    "# Training set scaling\n",
    "X_train[num_cols]=minmax.transform(X_train[num_cols])\n",
    "# and test set \n",
    "X_test[num_cols]=minmax.transform(X_test[num_cols])\n"
   ]
  },
  {
   "cell_type": "code",
   "execution_count": 4,
   "metadata": {},
   "outputs": [
    {
     "data": {
      "text/plain": [
       "GridSearchCV(cv=5, error_score=nan,\n",
       "             estimator=Pipeline(memory=None,\n",
       "                                steps=[('encoder',\n",
       "                                        TargetEncoder(cols=array(['checking_account_status', 'credit_history', 'purpose', 'savings',\n",
       "       'present_employment', 'personal', 'other_debtors', 'property',\n",
       "       'other_installment_plans', 'housing', 'job', 'telephone',\n",
       "       'foreign_worker'], dtype=object),\n",
       "                                                      drop_invariant=False,\n",
       "                                                      handle_missi...\n",
       "                                verbose=False),\n",
       "             iid='deprecated', n_jobs=None,\n",
       "             param_grid={'estimator__C': [0.1, 0.2, 0.3, 0.4, 0.5, 0.6, 0.7,\n",
       "                                          0.8, 0.9, 1.0, 1.1, 1.2, 1.3, 1.4,\n",
       "                                          1.5, 1.6, 1.7, 1.8, 1.9, 2.0, 2.1,\n",
       "                                          2.2, 2.3, 2.4, 2.5, 2.6, 2.7, 2.8,\n",
       "                                          2.9, 3.0, ...],\n",
       "                         'estimator__class_weight': ['balanced', None],\n",
       "                         'estimator__penalty': ['l2', 'l1']},\n",
       "             pre_dispatch='2*n_jobs', refit=True, return_train_score=False,\n",
       "             scoring=None, verbose=0)"
      ]
     },
     "execution_count": 4,
     "metadata": {},
     "output_type": "execute_result"
    }
   ],
   "source": [
    "# Encoding preparation\n",
    "# Selecting columns with categorical variables to encode \n",
    "\n",
    "\n",
    "cols = data.select_dtypes(include = 'object').columns.values \n",
    "\n",
    "encoder = ce.TargetEncoder(data,cols=cols)\n",
    "\n",
    "# Pipline preparation\n",
    "\n",
    "basic_model= Pipeline([\n",
    "   ('encoder',encoder),\n",
    "    ('estimator',LogisticRegression(max_iter=200,random_state=123,\n",
    "                                   multi_class='ovr',solver='saga'))\n",
    "])\n",
    "\n",
    "\n",
    "# Grid params search \n",
    "param_grid = {'estimator__C':[i/10 for i in range(1,51,1)],#Inverse of regularization strength\n",
    "              'estimator__penalty':['l2','l1'],# Type of loss function \n",
    "              'estimator__class_weight':['balanced',None]# Type of class weight \n",
    "                                                    # None - Every class have weight 1 \n",
    "                                                    # Auto Class weight calcultion\n",
    "              \n",
    "      }\n",
    "# Preparing and fitting grid search \n",
    "cvr = GridSearchCV(basic_model,param_grid=param_grid,cv=5)\n",
    "cvr.fit(X_train,Y_train)"
   ]
  },
  {
   "cell_type": "code",
   "execution_count": 5,
   "metadata": {},
   "outputs": [
    {
     "name": "stdout",
     "output_type": "stream",
     "text": [
      "Score: 0.7573333333333334\n"
     ]
    },
    {
     "data": {
      "text/plain": [
       "{'estimator__C': 2.0,\n",
       " 'estimator__class_weight': None,\n",
       " 'estimator__penalty': 'l2'}"
      ]
     },
     "execution_count": 5,
     "metadata": {},
     "output_type": "execute_result"
    }
   ],
   "source": [
    "# Basic model result\n",
    "print(f\"Score: {cvr.best_score_}\")\n",
    "cvr.best_params_"
   ]
  },
  {
   "cell_type": "code",
   "execution_count": 6,
   "metadata": {},
   "outputs": [],
   "source": [
    "# Not really bad but can be much better "
   ]
  },
  {
   "cell_type": "code",
   "execution_count": 7,
   "metadata": {},
   "outputs": [
    {
     "name": "stdout",
     "output_type": "stream",
     "text": [
      "Score: 0.764\n"
     ]
    },
    {
     "data": {
      "text/plain": [
       "{'estimator__C': 0.1,\n",
       " 'estimator__class_weight': None,\n",
       " 'estimator__penalty': 'l2'}"
      ]
     },
     "execution_count": 7,
     "metadata": {},
     "output_type": "execute_result"
    }
   ],
   "source": [
    "# Another type of encoder \n",
    "onehot = ce.OneHotEncoder(data,cols=cols)\n",
    "onehot_model = Pipeline([\n",
    "   ('encoder',onehot),\n",
    "    ('estimator',LogisticRegression(max_iter=200,random_state=123,\n",
    "                                   multi_class='ovr',solver='saga'))\n",
    "])\n",
    "# I will do in the same way as previous \n",
    "cvr_oh = GridSearchCV(onehot_model,param_grid=param_grid,cv=5)\n",
    "cvr_oh.fit(X_train,Y_train)\n",
    "print(f\"Score: {cvr_oh.best_score_}\")\n",
    "# Slightly better result, but looking for params takes much longer \n",
    "cvr_oh.best_params_"
   ]
  },
  {
   "cell_type": "markdown",
   "metadata": {},
   "source": [
    "For next test i will be using panlty='l2' becous its selecet by gridsearch.\n",
    "I will try use only most importent feature. "
   ]
  },
  {
   "cell_type": "code",
   "execution_count": 8,
   "metadata": {},
   "outputs": [
    {
     "name": "stdout",
     "output_type": "stream",
     "text": [
      "Score: 0.748\n"
     ]
    },
    {
     "data": {
      "text/plain": [
       "{'estimator__C': 1.9, 'k_best__max_features': 7}"
      ]
     },
     "execution_count": 8,
     "metadata": {},
     "output_type": "execute_result"
    }
   ],
   "source": [
    "# Pipline preparation\n",
    "most_imp = Pipeline([  ('encoder',encoder),\n",
    "                    ('k_best',SelectFromModel(LogisticRegression(max_iter=200,random_state=123,\n",
    "                                   multi_class='ovr',solver='saga'))),\n",
    "                    ('estimator',LogisticRegression(max_iter=200,random_state=123,\n",
    "                                   multi_class='ovr',solver='saga'))])\n",
    "\n",
    "# Grid preparation\n",
    "grid = {'estimator__C':[i/10 for i in range(1,51,3)],\n",
    "        'k_best__max_features':[i for i in range(5,22)]} #number of selected feature\n",
    "        \n",
    "# cv \n",
    "cv_k = GridSearchCV(most_imp,grid,cv=5)\n",
    "cv_k.fit(X_train,Y_train)\n",
    "\n",
    "print(f\"Score: {cv_k.best_score_}\")\n",
    "cv_k.best_params_"
   ]
  },
  {
   "cell_type": "markdown",
   "metadata": {},
   "source": [
    "As we can see it wasn't good approach. Now i will try using more thaneone logistic regression classifier."
   ]
  },
  {
   "cell_type": "code",
   "execution_count": 9,
   "metadata": {},
   "outputs": [
    {
     "name": "stdout",
     "output_type": "stream",
     "text": [
      "Score :[0.7712766  0.7712766  0.75935829 0.72192513]\n"
     ]
    }
   ],
   "source": [
    "estimators = [\n",
    "    ('1',basic_model.set_params(estimator__C=2.0)),\n",
    "    ('2',onehot_model.set_params(estimator__C=1.0)),\n",
    "    ('3',most_imp.set_params(estimator__C=1.9,k_best__max_features=7))\n",
    "]\n",
    "# CV to compute score\n",
    "final_model = VotingClassifier(estimators=estimators, voting='soft')\n",
    "print(f\"Score :{cross_val_score(final_model,X_train,Y_train,cv=4)}\")"
   ]
  },
  {
   "cell_type": "markdown",
   "metadata": {},
   "source": [
    "As we can see all classifier achieved similar result, for the next test i will use final_model. From now on I will use test set to compute metrics. "
   ]
  },
  {
   "cell_type": "code",
   "execution_count": 10,
   "metadata": {},
   "outputs": [
    {
     "data": {
      "image/png": "[encoded data removed]",
      "text/plain": [
       "<Figure size 432x288 with 1 Axes>"
      ]
     },
     "metadata": {
      "needs_background": "light"
     },
     "output_type": "display_data"
    }
   ],
   "source": [
    "# ROC Curve \n",
    "final_model.fit(X_train,Y_train)\n",
    "\n",
    "predict_proba1 = final_model.predict_proba(X_test)[:, 1]\n",
    "fpr1, tpr1, thresholds1 = metrics.roc_curve(Y_test, predict_proba1, pos_label=2) # false & true positive rates\n",
    "plt.figure()\n",
    "plt.plot([0, 1], [0, 1], 'k--')\n",
    "plt.plot(fpr1, tpr1, label='Random Forest')\n",
    "plt.xlabel('False positive rate')\n",
    "plt.ylabel('True positive rate')\n",
    "plt.title('ROC curve')\n",
    "plt.legend(loc='best')\n",
    "plt.show()"
   ]
  },
  {
   "cell_type": "code",
   "execution_count": 11,
   "metadata": {},
   "outputs": [
    {
     "data": {
      "text/plain": [
       "0.82585656213705"
      ]
     },
     "execution_count": 11,
     "metadata": {},
     "output_type": "execute_result"
    }
   ],
   "source": [
    "# AUC metric\n",
    "metrics.auc(fpr1, tpr1)"
   ]
  },
  {
   "cell_type": "code",
   "execution_count": null,
   "metadata": {},
   "outputs": [],
   "source": []
  }
 ],
 "metadata": {
  "kernelspec": {
   "display_name": "Python 3",
   "language": "python",
   "name": "python3"
  },
  "language_info": {
   "codemirror_mode": {
    "name": "ipython",
    "version": 3
   },
   "file_extension": ".py",
   "mimetype": "text/x-python",
   "name": "python",
   "nbconvert_exporter": "python",
   "pygments_lexer": "ipython3",
   "version": "3.7.5"
  }
 },
 "nbformat": 4,
 "nbformat_minor": 2
}
