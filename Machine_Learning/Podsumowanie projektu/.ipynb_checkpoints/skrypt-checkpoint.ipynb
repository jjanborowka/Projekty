{
 "cells": [
  {
   "cell_type": "markdown",
   "metadata": {},
   "source": [
    "# Feature Importance & Skalowanie & Kodowanie & Strojenie hiperparametrów modeli"
   ]
  },
  {
   "cell_type": "markdown",
   "metadata": {},
   "source": [
    "## 1. Ładowanie danych oraz potrzebnych bibliotek"
   ]
  },
  {
   "cell_type": "code",
   "execution_count": 1,
   "metadata": {
    "pycharm": {
     "name": "#%%\n"
    }
   },
   "outputs": [
    {
     "name": "stderr",
     "output_type": "stream",
     "text": [
      "/home/elzbieta/.local/lib/python3.7/site-packages/sklearn/externals/joblib/__init__.py:15: FutureWarning: sklearn.externals.joblib is deprecated in 0.21 and will be removed in 0.23. Please import this functionality directly from joblib, which can be installed with: pip install joblib. If this warning is raised when loading pickled models, you may need to re-serialize those models with scikit-learn 0.21+.\n",
      "  warnings.warn(msg, category=FutureWarning)\n"
     ]
    }
   ],
   "source": [
    "# Pakiety\n",
    "import pandas as pd \n",
    "import numpy as np\n",
    "\n",
    "import category_encoders as ce\n",
    "from sklearn.ensemble import RandomForestClassifier\n",
    "import xgboost as xgb\n",
    "from sklearn.model_selection import GridSearchCV, train_test_split, RandomizedSearchCV\n",
    "from datetime import datetime\n",
    "import matplotlib.pyplot as plt\n",
    "from sklearn.externals import joblib\n",
    "from joblib import dump, load\n",
    "\n",
    "from sklearn import preprocessing \n",
    "from sklearn.preprocessing import StandardScaler, FunctionTransformer\n",
    "\n",
    "from sklearn import metrics\n",
    "from sklearn.metrics import recall_score\n",
    "from sklearn.metrics import accuracy_score\n",
    "from sklearn.pipeline import Pipeline, FeatureUnion\n",
    "from sklearn.metrics import precision_score\n",
    "\n",
    "np.random.seed(123) \n",
    "\n",
    "# Wczytywanie danych\n",
    "data = pd.read_csv('german_credit_data_dataset.csv')\n",
    "data = pd.DataFrame(data)"
   ]
  },
  {
   "cell_type": "code",
   "execution_count": 3,
   "metadata": {
    "pycharm": {
     "name": "#%%\n"
    }
   },
   "outputs": [],
   "source": [
    "# Kolumny z danymi numerycznymi\n",
    "num = data.select_dtypes(include=['float64', 'int']).drop('customer_type', axis = 1).columns\n",
    "\n",
    "# Kolumny z danymi kategorycznymi\n",
    "cat = data.select_dtypes(include=['object']).columns.tolist()"
   ]
  },
  {
   "cell_type": "markdown",
   "metadata": {},
   "source": [
    "## 2. Skalowanie danych numerycznych"
   ]
  },
  {
   "cell_type": "code",
   "execution_count": 4,
   "metadata": {
    "pycharm": {
     "name": "#%%\n"
    }
   },
   "outputs": [],
   "source": [
    "scaler = StandardScaler()\n",
    "scaled = data.copy()\n",
    "scaled[num] = scaler.fit_transform(data[num])"
   ]
  },
  {
   "cell_type": "markdown",
   "metadata": {},
   "source": [
    "## 3. Podział na zbiory trenigowe i testowe"
   ]
  },
  {
   "cell_type": "code",
   "execution_count": 5,
   "metadata": {
    "pycharm": {
     "name": "#%%\n"
    }
   },
   "outputs": [],
   "source": [
    "X_train, X_test, Y_train, Y_test = train_test_split(data.drop('customer_type', axis=1), data['customer_type'])\n",
    "scaled_X_train, scaled_X_test, scaled_Y_train, scaled_Y_test = train_test_split(scaled.drop('customer_type', axis=1), scaled['customer_type'])"
   ]
  },
  {
   "cell_type": "markdown",
   "metadata": {},
   "source": [
    "## 4. Encoding"
   ]
  },
  {
   "cell_type": "markdown",
   "metadata": {},
   "source": [
    "### 4.1. One-Hot Encoding"
   ]
  },
  {
   "cell_type": "code",
   "execution_count": 6,
   "metadata": {
    "pycharm": {
     "name": "#%%\n"
    }
   },
   "outputs": [],
   "source": [
    "ohe = ce.OneHotEncoder(data, cols = cat)\n",
    "\n",
    "# Ramka zakodowana nieskalowana\n",
    "ohe_train = ohe.fit_transform(X = X_train, y = Y_train)\n",
    "ohe_test = ohe.transform(X_test)\n",
    "\n",
    "# Ramka zakodowana, przeskalowana\n",
    "ohe_scaled_train = ohe.fit_transform(X = scaled_X_train, y = scaled_Y_train)\n",
    "ohe_scaled_test = ohe.transform(scaled_X_test)\n",
    "\n",
    "df = pd.DataFrame(ohe_train, Y_train)"
   ]
  },
  {
   "cell_type": "markdown",
   "metadata": {},
   "source": [
    "### 4.2. Target Encoding"
   ]
  },
  {
   "cell_type": "code",
   "execution_count": 7,
   "metadata": {
    "pycharm": {
     "name": "#%%\n"
    }
   },
   "outputs": [],
   "source": [
    "te = ce.TargetEncoder(cols = cat)\n",
    "\n",
    "# Ramka zakodowana nieskalowana\n",
    "te_train = te.fit_transform(X = X_train, y = Y_train)\n",
    "te_test = te.transform(X_test)\n",
    "\n",
    "# Ramka zakodowana, przeskalowana\n",
    "te_scaled_train = te.fit_transform(X = scaled_X_train, y = scaled_Y_train)\n",
    "te_scaled_test = te.transform(scaled_X_test)"
   ]
  },
  {
   "cell_type": "markdown",
   "metadata": {},
   "source": [
    "### 4.3. James Stein Encoding"
   ]
  },
  {
   "cell_type": "code",
   "execution_count": 8,
   "metadata": {
    "pycharm": {
     "name": "#%%\n"
    }
   },
   "outputs": [],
   "source": [
    "js = ce.JamesSteinEncoder(cols = cat)\n",
    "\n",
    "# Ramka zakodowana nieskalowana\n",
    "js_train = js.fit_transform(X = X_train, y = Y_train)\n",
    "js_test = js.transform(X_test)\n",
    "\n",
    "# Ramka zakodowana, przeskalowana\n",
    "js_scaled_train = js.fit_transform(X = scaled_X_train, y = scaled_Y_train)\n",
    "js_scaled_test = js.transform(scaled_X_test)"
   ]
  },
  {
   "cell_type": "markdown",
   "metadata": {},
   "source": [
    "### 4.4. Polynomial Encoding"
   ]
  },
  {
   "cell_type": "code",
   "execution_count": 9,
   "metadata": {
    "pycharm": {
     "name": "#%%\n"
    }
   },
   "outputs": [],
   "source": [
    "pe = ce.PolynomialEncoder(cols = cat)\n",
    "\n",
    "# Ramka zakodowana nieskalowana\n",
    "pe_train = pe.fit_transform(X = X_train, y = Y_train)\n",
    "pe_test = pe.transform(X_test)\n",
    "\n",
    "# Ramka zakodowana, przeskalowana\n",
    "pe_scaled_train = pe.fit_transform(X = scaled_X_train, y = scaled_Y_train)\n",
    "pe_scaled_test = pe.transform(scaled_X_test)"
   ]
  },
  {
   "cell_type": "markdown",
   "metadata": {},
   "source": [
    "## 5. Strojenie modeli"
   ]
  },
  {
   "cell_type": "markdown",
   "metadata": {},
   "source": [
    "### 5.1. Random Forest  \n",
    "Hiperparametry:  \n",
    "\n",
    "- **n_estimators** - ilość drzew składowych (int, domyślnie 100)  \n",
    "- **criterion** - funkcja miary jakości podziału (string, domyślnie gini)  \n",
    "- **max_depth** - maksymalna głębokość drzewa (int, domyślnie None)   \n",
    "- **min_samples_split** - minimalna liczba obserwacji wymagana do podziału węzła wewnętrznego (int/float, domyślnie 2)  \n",
    "- **min_samples_leaf** - minimalna liczba obserwacji wymagana względem liścia (int, domyślnie 1)  \n",
    "- **min_weight_fraction_leaf** - minimalna frakcja wag wymagana względem liścia (domyślnie 0)  \n",
    "- **max_features** - ilość cech branych pod uwagę podczas poszukiwania najlepszego podziału (string). Jeśli “sqrt”, to max_features=sqrt(n_features), jeśli “log2”, to max_features=log2(n_features).  \n",
    "- **max_leaf_nodes** - maksymalna liczba liści (int, domyślnie None)  \n",
    "- **min_impurity_decrease** - węzeł zostanie podzielony, jeśli podział ten spowoduje zmniejszenie miary impurity większe lub równe tej wartości. (float, domyślnie 0)  \n",
    "- **min_impurity_split** - próg zatrzymania wzrostu drzew. Węzeł rozdzieli się, jeśli jego impurity przekroczy próg, w przeciwnym razie będzie liściem. (float, default 1e-7)  \n",
    "- **bootstrap** - stosowanie bootstrap (bool, domyślnie True)  \n",
    "- **oob_score** - gdy zestaw treningowy dla bieżącego drzewa jest rysowany przez próbkowanie z wymianą, około jedna trzecia przypadków jest pomijana. Te dane OOB są używane do uzyskania bezstronnego oszacowania błędu klasyfikacji (bool, domyślnie False)  \n",
    "- **oob_score** - liczba powtórzeń instukcji fit, predict, ect.  \n",
    "- **random_state** - kontroluje losowość procedury bootstrap   \n",
    "- **verbose** - int, domyślnie 0 - im wyższa liczba tym więcej informacji uzyskami na temat procedur fit i predict  \n",
    "- **warm_start** - po ustawieniu wartości True ponownie użyje bieżącego rozwiązania, aby dopasować i dodać więcej estymatorów do zestawu, w przeciwnym razie po prostu zmieni cały nowy las. (bool, domyślnie False)  \n",
    "- **ccp_alpha** - dotyczy przycinania, zostanie wybrane poddrzewo o największym koszcie, który jest mniejszy niż ccp_alpha. Domyślnie 0.0, czyli przycinanie nie jest wykonywane.  \n",
    "- **max_samples** - dotyczy procedury bootstrap (domyślnie None)"
   ]
  },
  {
   "cell_type": "code",
   "execution_count": 10,
   "metadata": {},
   "outputs": [],
   "source": [
    "# Funkcja służąca do zbudowania pipeline'a, który w kolejnych krokach będzie miał encoding, scalling oraz \n",
    "# klasyfikator - dzięki temu pozbywamy sie dataleak'u przy kroswalidacji, ponieważ dla każdego podziału \n",
    "# kroswalidacji będzie wykonywany scalling tylko na zbiorze treningowym, nie biorąc pod uwagę testowego\n",
    "\n",
    "def makePipeline(cat_indices, num_indices, classificator, encoder, scaled = False):\n",
    "    \n",
    "    if scaled == True:\n",
    "        pipeline = Pipeline(steps = [\n",
    "        ('feature_processing', FeatureUnion(transformer_list = [\n",
    "                ('categorical', FunctionTransformer(lambda data: data[cat_indices])),\n",
    "\n",
    "                #numeric\n",
    "                ('numeric', Pipeline(steps = [\n",
    "                    ('select', FunctionTransformer(lambda data: data[num_indices])),\n",
    "                    ('scale', StandardScaler())\n",
    "                            ]))\n",
    "            ])),\n",
    "        ('encoder', encoder),\n",
    "        ('classifier', classificator)\n",
    "        ]\n",
    "    )\n",
    "    else:\n",
    "        pipeline = Pipeline([\n",
    "        ('encoder', encoder),\n",
    "        ('classifier', classificator)\n",
    "        ])\n",
    "    return pipeline\n",
    "        \n",
    "\n",
    "# Funkcja, która zmierzy nam ilość czasu potrzebną na wykonanie danej funkcji\n",
    "\n",
    "def timer(start_time = None):\n",
    "    if not start_time:\n",
    "        start_time = datetime.now()\n",
    "        return start_time\n",
    "    elif start_time:\n",
    "        thour, temp_sec = divmod((datetime.now() - start_time).total_seconds(), 3600)\n",
    "        tmin, tsec = divmod(temp_sec, 60)\n",
    "        print('\\n Time taken: %i hours %i minutes and %s seconds.' % (thour, tmin, round(tsec, 2)))"
   ]
  },
  {
   "cell_type": "code",
   "execution_count": 41,
   "metadata": {
    "pycharm": {
     "name": "#%%\n"
    }
   },
   "outputs": [],
   "source": [
    "# Model\n",
    "rf_classifier = RandomForestClassifier()\n",
    "\n",
    "# Hiperparametry\n",
    "rf_param_grid =  {'classifier__bootstrap': [True, False],\n",
    "                 'classifier__max_depth': [3, 5, 6, 7, 10, 15, 20, 30, None],\n",
    "                 'classifier__max_features': ['auto', 'sqrt', 'log2'],\n",
    "                 'classifier__min_samples_leaf': [1, 2, 3, 4],\n",
    "                 'classifier__min_samples_split': [2, 3, 5, 10],\n",
    "                 'classifier__n_estimators': [50, 100, 150, 200, 250, 400, 600, 800, 1000]}"
   ]
  },
  {
   "cell_type": "code",
   "execution_count": 42,
   "metadata": {
    "pycharm": {
     "name": "#%%\n"
    }
   },
   "outputs": [
    {
     "name": "stdout",
     "output_type": "stream",
     "text": [
      "\n",
      " Time taken: 0 hours 26 minutes and 12.61 seconds.\n",
      "0.7725262853962316\n",
      "{'classifier__n_estimators': 100, 'classifier__min_samples_split': 10, 'classifier__min_samples_leaf': 2, 'classifier__max_features': 'sqrt', 'classifier__max_depth': None, 'classifier__bootstrap': True}\n"
     ]
    }
   ],
   "source": [
    "# One-Hot Encoding & Random Forest\n",
    "rf_ohe_pipeline = makePipeline(cat, num, rf_classifier, ce.OneHotEncoder(), False)\n",
    "\n",
    "rf_ohe_random_search = RandomizedSearchCV(rf_ohe_pipeline, param_distributions = rf_param_grid, n_iter = 1000,\n",
    "                                   scoring = 'roc_auc', n_jobs = -1, cv = 5, random_state = 1001 )\n",
    "\n",
    "# Here we go\n",
    "start_time = timer(None) # aktualna godzina\n",
    "rf_ohe_random_search.fit(X_train, Y_train)\n",
    "timer(start_time) # ile czasu minęło od start_time\n",
    "print(rf_ohe_random_search.best_score_)\n",
    "print(rf_ohe_random_search.best_params_)"
   ]
  },
  {
   "cell_type": "code",
   "execution_count": 43,
   "metadata": {
    "pycharm": {
     "name": "#%%\n"
    }
   },
   "outputs": [
    {
     "name": "stdout",
     "output_type": "stream",
     "text": [
      "\n",
      " Time taken: 0 hours 26 minutes and 13.05 seconds.\n",
      "0.7724704861311752\n",
      "{'classifier__n_estimators': 800, 'classifier__min_samples_split': 10, 'classifier__min_samples_leaf': 3, 'classifier__max_features': 'log2', 'classifier__max_depth': 6, 'classifier__bootstrap': True}\n"
     ]
    }
   ],
   "source": [
    "# One-Hot Encoding & Skalowanie & Random Forest\n",
    "\n",
    "rf_ohe_scaled_random_search = RandomizedSearchCV(rf_ohe_scaled_pipeline, param_distributions = rf_param_grid, n_iter = 1000,\n",
    "                                   scoring = 'roc_auc', n_jobs = -1, cv = 5, random_state = 1001 )\n",
    "\n",
    "# Here we go\n",
    "start_time = timer(None) # aktualna godzina\n",
    "rf_ohe_scaled_random_search.fit(X_train, Y_train)\n",
    "timer(start_time) # ile czasu minęło od start_time\n",
    "print(rf_ohe_scaled_random_search.best_score_)\n",
    "print(rf_ohe_scaled_random_search.best_params_)"
   ]
  },
  {
   "cell_type": "code",
   "execution_count": 44,
   "metadata": {},
   "outputs": [
    {
     "name": "stdout",
     "output_type": "stream",
     "text": [
      "\n",
      " Time taken: 0 hours 26 minutes and 58.09 seconds.\n",
      "0.7779681257299945\n",
      "{'classifier__n_estimators': 100, 'classifier__min_samples_split': 10, 'classifier__min_samples_leaf': 4, 'classifier__max_features': 'auto', 'classifier__max_depth': 7, 'classifier__bootstrap': True}\n"
     ]
    }
   ],
   "source": [
    "# Target Encoding & Random Forest\n",
    "rf_target_pipeline = makePipeline(cat, num, rf_classifier, ce.TargetEncoder(), False)\n",
    "\n",
    "rf_target_random_search = RandomizedSearchCV(rf_target_pipeline, param_distributions = rf_param_grid, n_iter = 1000,\n",
    "                                   scoring = 'roc_auc', n_jobs = -1, cv = 5, random_state = 1001 )\n",
    "\n",
    "# Here we go\n",
    "start_time = timer(None) # aktualna godzina\n",
    "rf_target_random_search.fit(X_train, Y_train)\n",
    "timer(start_time) # ile czasu minęło od start_time\n",
    "print(rf_target_random_search.best_score_)\n",
    "print(rf_target_random_search.best_params_)"
   ]
  },
  {
   "cell_type": "code",
   "execution_count": 45,
   "metadata": {},
   "outputs": [
    {
     "name": "stdout",
     "output_type": "stream",
     "text": [
      "\n",
      " Time taken: 0 hours 26 minutes and 41.99 seconds.\n",
      "0.769522808636947\n",
      "{'classifier__n_estimators': 200, 'classifier__min_samples_split': 3, 'classifier__min_samples_leaf': 3, 'classifier__max_features': 'sqrt', 'classifier__max_depth': 20, 'classifier__bootstrap': True}\n"
     ]
    }
   ],
   "source": [
    "# Target Encoding & Skalowanie & Random Forest\n",
    "rf_target_scaled_pipeline = makePipeline(cat, num, rf_classifier, ce.TargetEncoder(), True)\n",
    "\n",
    "rf_target_scaled_random_search = RandomizedSearchCV(rf_target_scaled_pipeline, param_distributions = rf_param_grid, n_iter = 1000,\n",
    "                                   scoring = 'roc_auc', n_jobs = -1, cv = 5, random_state = 1001 )\n",
    "\n",
    "# Here we go\n",
    "start_time = timer(None) # aktualna godzina\n",
    "rf_target_scaled_random_search.fit(X_train, Y_train)\n",
    "timer(start_time) # ile czasu minęło od start_time\n",
    "print(rf_target_scaled_random_search.best_score_)\n",
    "print(rf_target_scaled_random_search.best_params_)"
   ]
  },
  {
   "cell_type": "markdown",
   "metadata": {},
   "source": [
    "### 5.2. XGBoost\n",
    "\n",
    "Hiperparametry:  \n",
    "\n",
    "- **n_estimators** - ilość drzew składowych (int, domyślnie 100)\n",
    "- **max_depth** - maksymalna głebokość drzewa, im większa wartość tym bardziej skompikowany model - moze prowadzic do overfittingu (int, domyslnie 6)\n",
    "- **min_child_weight** - minimalna waga, wymagana względem węzła potomnego (domyślnie 1)\n",
    "- **gamma** - minimalna \"loss reduction\" do przeprowadzenia dalszego podziału liscia (domyślnie 0)\n",
    "- **subsample** - frakcja danych do próbkowania przed tworzeniem drzewa, tak aby uniknac overfittingu (domyslnie 1)\n",
    "- **colsample_bytree** - frakcja kolumn wzięta do towrzenia każdego z drzew (domyślnie 1)\n",
    "- **learning_rate** - im mniejsza wartość tym mniejsze kroki nauczania każdego z drzew (domyślnie 0.02)"
   ]
  },
  {
   "cell_type": "code",
   "execution_count": 25,
   "metadata": {},
   "outputs": [],
   "source": [
    "# Funkcja, która znajduje optymalną ilosć drzew (n_estimators parameter) używając funkcji cv xgboosta dla\n",
    "# danej wartosci learning_rate i zmienia wartość n_estimators odpowiednio\n",
    "\n",
    "def modelfit(alg, dtrain, predictors, cv_folds = 5, early_stopping_rounds = 50):\n",
    "    xgb_param = alg.get_xgb_params()\n",
    "    xgtrain = xgb.DMatrix(dtrain[predictors].values, label=dtrain[target].values)\n",
    "    cvresult = xgb.cv(xgb_param, xgtrain, num_boost_round = alg.get_params()['n_estimators'],\n",
    "                      nfold=cv_folds, metrics='auc', early_stopping_rounds = early_stopping_rounds)\n",
    "    alg.set_params(n_estimators = cvresult.shape[0])"
   ]
  },
  {
   "cell_type": "code",
   "execution_count": 26,
   "metadata": {},
   "outputs": [],
   "source": [
    "# Siatka parametrów do strojenia\n",
    "\n",
    "param_grid = {\n",
    "    'classifier__max_depth': range (2, 10, 1),\n",
    "    'classifier__min_child_weight': range(1,10,1),\n",
    "    'classifier__gamma': [i/10.0 for i in range(0,50,5)],\n",
    "    'classifier__subsample': [i/100.0 for i in range(50,100,5)],\n",
    "    'classifier__colsample_bytree': [i/100.0 for i in range(50,100,5)],\n",
    "    'classifier__learning_rate': [0.0001,0.01,0.1,0.2,0.3],\n",
    "    'classifier__n_estimators': [50,100,150,300,500,600,700,800,1000]\n",
    "    }\n",
    "\n",
    "# Domyślny classifier\n",
    "\n",
    "xgb_classifier = xgb.XGBClassifier(learning_rate=0.02, n_estimators=600, objective='binary:logistic',\n",
    "                    silent=True, nthread=4)\n"
   ]
  },
  {
   "cell_type": "code",
   "execution_count": 27,
   "metadata": {
    "pycharm": {
     "name": "#%%\n"
    }
   },
   "outputs": [
    {
     "name": "stdout",
     "output_type": "stream",
     "text": [
      "\n",
      " Time taken: 0 hours 46 minutes and 16.05 seconds.\n",
      "0.774461243975972\n",
      "{'classifier__subsample': 0.6, 'classifier__n_estimators': 700, 'classifier__min_child_weight': 3, 'classifier__max_depth': 2, 'classifier__learning_rate': 0.01, 'classifier__gamma': 1.0, 'classifier__colsample_bytree': 0.75}\n"
     ]
    }
   ],
   "source": [
    "# One-Hot-Encoding & Random\n",
    "xgb_ohe_pipeline = makePipeline(cat, num, xgb_classifier, ce.OneHotEncoder(), False)\n",
    "\n",
    "ohe_random_search = RandomizedSearchCV(xgb_ohe_pipeline, param_distributions = param_grid, n_iter = 1000,\n",
    "                                   scoring = 'roc_auc', n_jobs = 1, cv = 5, random_state = 1001 )\n",
    "\n",
    "# Here we go\n",
    "start_time = timer(None) # aktualna godzina\n",
    "ohe_random_search.fit(X_train, Y_train)\n",
    "timer(start_time) # ile czasu minęło od start_time\n",
    "print(ohe_random_search.best_score_)\n",
    "print(ohe_random_search.best_params_)"
   ]
  },
  {
   "cell_type": "code",
   "execution_count": 28,
   "metadata": {
    "pycharm": {
     "name": "#%%\n"
    }
   },
   "outputs": [
    {
     "name": "stdout",
     "output_type": "stream",
     "text": [
      "\n",
      " Time taken: 0 hours 43 minutes and 41.38 seconds.\n",
      "0.7750962483731816\n",
      "{'classifier__subsample': 0.6, 'classifier__n_estimators': 700, 'classifier__min_child_weight': 3, 'classifier__max_depth': 2, 'classifier__learning_rate': 0.01, 'classifier__gamma': 1.0, 'classifier__colsample_bytree': 0.75}\n"
     ]
    }
   ],
   "source": [
    "# One-Hot-Encoding & Skalowanie & Random\n",
    "xgb_ohe_scaled_pipeline = makePipeline(cat, num, xgb_classifier, ce.OneHotEncoder(), True)\n",
    "\n",
    "ohe_scaled_random_search = RandomizedSearchCV(xgb_ohe_scaled_pipeline, param_distributions = param_grid, n_iter = 1000,\n",
    "                                   scoring = 'roc_auc', n_jobs = 1, cv = 5, random_state = 1001 )\n",
    "\n",
    "# Here we go\n",
    "start_time = timer(None) # aktualna godzina\n",
    "ohe_scaled_random_search.fit(X_train, Y_train)\n",
    "timer(start_time) # ile czasu minęło od start_time\n",
    "print(ohe_scaled_random_search.best_score_)\n",
    "print(ohe_scaled_random_search.best_params_)"
   ]
  },
  {
   "cell_type": "code",
   "execution_count": 29,
   "metadata": {
    "pycharm": {
     "name": "#%%\n"
    }
   },
   "outputs": [
    {
     "name": "stdout",
     "output_type": "stream",
     "text": [
      "\n",
      " Time taken: 0 hours 31 minutes and 3.44 seconds.\n",
      "0.7811454404535072\n",
      "{'classifier__subsample': 0.6, 'classifier__n_estimators': 50, 'classifier__min_child_weight': 3, 'classifier__max_depth': 4, 'classifier__learning_rate': 0.1, 'classifier__gamma': 4.5, 'classifier__colsample_bytree': 0.9}\n"
     ]
    }
   ],
   "source": [
    "# Target Encoding & Random\n",
    "xgb_target_pipeline = makePipeline(cat, num, xgb_classifier, ce.TargetEncoder(), False)\n",
    "\n",
    "target_random_search = RandomizedSearchCV(xgb_target_pipeline, param_distributions = param_grid, n_iter = 1000,\n",
    "                                   scoring = 'roc_auc', n_jobs = 1, cv = 5, random_state = 1001 )\n",
    "\n",
    "# Here we go\n",
    "start_time = timer(None) # aktualna godzina\n",
    "target_random_search.fit(X_train, Y_train)\n",
    "timer(start_time) # ile czasu minęło od start_time\n",
    "print(target_random_search.best_score_)\n",
    "print(target_random_search.best_params_)"
   ]
  },
  {
   "cell_type": "code",
   "execution_count": 30,
   "metadata": {
    "pycharm": {
     "name": "#%%\n"
    }
   },
   "outputs": [
    {
     "name": "stdout",
     "output_type": "stream",
     "text": [
      "\n",
      " Time taken: 0 hours 33 minutes and 42.64 seconds.\n",
      "0.7711405679203901\n",
      "{'classifier__subsample': 0.95, 'classifier__n_estimators': 600, 'classifier__min_child_weight': 4, 'classifier__max_depth': 2, 'classifier__learning_rate': 0.2, 'classifier__gamma': 2.0, 'classifier__colsample_bytree': 0.75}\n"
     ]
    }
   ],
   "source": [
    "# Target Encoding & Skalowanie & Random\n",
    "xgb_target_scaled_pipeline = makePipeline(cat, num, xgb_classifier, ce.TargetEncoder(), True)\n",
    "\n",
    "target_scaled_random_search = RandomizedSearchCV(xgb_target_scaled_pipeline, param_distributions = param_grid, n_iter = 1000,\n",
    "                                   scoring = 'roc_auc', n_jobs = 1, cv = 5, random_state = 1001 )\n",
    "\n",
    "# Here we go\n",
    "start_time = timer(None) # aktualna godzina\n",
    "target_scaled_random_search.fit(X_train, Y_train)\n",
    "timer(start_time) # ile czasu minęło od start_time\n",
    "print(target_scaled_random_search.best_score_)\n",
    "print(target_scaled_random_search.best_params_)"
   ]
  },
  {
   "cell_type": "markdown",
   "metadata": {},
   "source": [
    "## 6. Ewaluacja modeli"
   ]
  },
  {
   "cell_type": "code",
   "execution_count": 24,
   "metadata": {
    "pycharm": {
     "name": "#%%\n"
    }
   },
   "outputs": [],
   "source": [
    "## Funkcja prezentująca podsumowanie modelu na danych testowych \n",
    "# za pomocą metryk - accuracy, precision, recall oraz wykresu krzywej ROC\n",
    "def evaluateModel(model, X_train, Y_train, X_test, Y_test):\n",
    "    model.fit(X_train, Y_train)\n",
    "    y_pred = model.predict(X_test)\n",
    "    y_proba = model.predict_proba(X_test)[:, 1]\n",
    "    y_true = Y_test\n",
    "    print(\"Accuracy: \" + str(accuracy_score(y_true, y_pred, normalize = True)))\n",
    "    print(\"Precision: \" + str(precision_score(y_true, y_pred, average = 'macro')))\n",
    "    print(\"Recall: \" + str(recall_score(y_true, y_pred)))\n",
    "    fpr, tpr, thresholds = metrics.roc_curve(y_true, y_proba, pos_label=2)\n",
    "    print(\"AUC: \" + str(metrics.auc(fpr, tpr)))\n",
    "#    plt.figure()\n",
    "#    plt.plot([0, 1], [0, 1], 'k--')\n",
    "#    plt.plot(fpr, tpr)\n",
    "#    plt.xlabel('False positive rate')\n",
    "#    plt.ylabel('True positive rate')\n",
    "#    plt.title('ROC curve')\n",
    "#    plt.show()\n",
    "    \n",
    "## Funkcja zwracajaca AUC dla modelu testowego\n",
    "def returnAUC(model, X_train, Y_train, X_test, Y_test):\n",
    "    model.fit(X_train, Y_train)\n",
    "    y_proba = model.predict_proba(X_test)[:, 1]\n",
    "    y_true = Y_test\n",
    "    fpr, tpr, thresholds = metrics.roc_curve(y_true, y_proba, pos_label=2)\n",
    "    return metrics.auc(fpr, tpr)"
   ]
  },
  {
   "cell_type": "code",
   "execution_count": 46,
   "metadata": {
    "pycharm": {
     "name": "#%%\n"
    }
   },
   "outputs": [
    {
     "data": {
      "text/plain": [
       "['rf_target_scaled.joblib']"
      ]
     },
     "execution_count": 46,
     "metadata": {},
     "output_type": "execute_result"
    }
   ],
   "source": [
    "# Zapisujemy modele do zewnętrznych plików, tak aby przy każdym uruchomieniu nie musieć przeprowadzać wszystkich\n",
    "# czasochłonnych operacji związanych z ich znalezieniem\n",
    "\n",
    "rf_ohe = rf_ohe_random_search.best_estimator_\n",
    "#dump(rf_ohe.steps[1], 'rf_ohe.joblib')\n",
    "\n",
    "rf_ohe_scaled = rf_ohe_scaled_random_search.best_estimator_\n",
    "#dump(rf_ohe_scaled.steps[2], 'rf_ohe_scaled.joblib') \n",
    "\n",
    "rf_target = rf_target_random_search.best_estimator_\n",
    "#dump(rf_target.steps[1], 'rf_target.joblib') \n",
    "\n",
    "rf_target_scaled = rf_target_scaled_random_search.best_estimator_\n",
    "#dump(rf_target_scaled.steps[2], 'rf_target_scaled.joblib') "
   ]
  },
  {
   "cell_type": "code",
   "execution_count": 40,
   "metadata": {
    "pycharm": {
     "name": "#%%\n"
    }
   },
   "outputs": [
    {
     "data": {
      "text/plain": [
       "['xgb_target_scaled.joblib']"
      ]
     },
     "execution_count": 40,
     "metadata": {},
     "output_type": "execute_result"
    }
   ],
   "source": [
    "xgb_ohe = ohe_random_search.best_estimator_\n",
    "#dump(xgb_ohe.steps[1], 'xgb_ohe.joblib') \n",
    "\n",
    "xgb_ohe_scaled = ohe_scaled_random_search.best_estimator_\n",
    "#dump(xgb_ohe_scaled.steps[2], 'xgb_ohe_scaled.joblib') \n",
    "\n",
    "xgb_target = target_random_search.best_estimator_\n",
    "#dump(xgb_target.steps[1], 'xgb_target.joblib') \n",
    "\n",
    "xgb_target_scaled = target_scaled_random_search.best_estimator_\n",
    "#dump(xgb_target_scaled.steps[2], 'xgb_target_scaled.joblib') "
   ]
  },
  {
   "cell_type": "code",
   "execution_count": 41,
   "metadata": {
    "pycharm": {
     "name": "#%%\n"
    }
   },
   "outputs": [
    {
     "data": {
      "text/html": [
       "<div>\n",
       "<style scoped>\n",
       "    .dataframe tbody tr th:only-of-type {\n",
       "        vertical-align: middle;\n",
       "    }\n",
       "\n",
       "    .dataframe tbody tr th {\n",
       "        vertical-align: top;\n",
       "    }\n",
       "\n",
       "    .dataframe thead th {\n",
       "        text-align: right;\n",
       "    }\n",
       "</style>\n",
       "<table border=\"1\" class=\"dataframe\">\n",
       "  <thead>\n",
       "    <tr style=\"text-align: right;\">\n",
       "      <th></th>\n",
       "      <th>Model</th>\n",
       "      <th>AUC</th>\n",
       "    </tr>\n",
       "  </thead>\n",
       "  <tbody>\n",
       "    <tr>\n",
       "      <th>0</th>\n",
       "      <td>rf_ohe</td>\n",
       "      <td>0.818452</td>\n",
       "    </tr>\n",
       "    <tr>\n",
       "      <th>1</th>\n",
       "      <td>rf_ohe_scaled</td>\n",
       "      <td>0.819614</td>\n",
       "    </tr>\n",
       "    <tr>\n",
       "      <th>2</th>\n",
       "      <td>rf_target</td>\n",
       "      <td>0.825203</td>\n",
       "    </tr>\n",
       "    <tr>\n",
       "      <th>3</th>\n",
       "      <td>rf_target_scaled</td>\n",
       "      <td>0.828978</td>\n",
       "    </tr>\n",
       "    <tr>\n",
       "      <th>4</th>\n",
       "      <td>xgb_ohe</td>\n",
       "      <td>0.812427</td>\n",
       "    </tr>\n",
       "    <tr>\n",
       "      <th>5</th>\n",
       "      <td>xgb_ohe_scaled</td>\n",
       "      <td>0.812427</td>\n",
       "    </tr>\n",
       "    <tr>\n",
       "      <th>6</th>\n",
       "      <td>xgb_target</td>\n",
       "      <td>0.816057</td>\n",
       "    </tr>\n",
       "    <tr>\n",
       "      <th>7</th>\n",
       "      <td>xgb_target_scaled</td>\n",
       "      <td>0.799724</td>\n",
       "    </tr>\n",
       "  </tbody>\n",
       "</table>\n",
       "</div>"
      ],
      "text/plain": [
       "               Model       AUC\n",
       "0             rf_ohe  0.818452\n",
       "1      rf_ohe_scaled  0.819614\n",
       "2          rf_target  0.825203\n",
       "3   rf_target_scaled  0.828978\n",
       "4            xgb_ohe  0.812427\n",
       "5     xgb_ohe_scaled  0.812427\n",
       "6         xgb_target  0.816057\n",
       "7  xgb_target_scaled  0.799724"
      ]
     },
     "execution_count": 41,
     "metadata": {},
     "output_type": "execute_result"
    }
   ],
   "source": [
    "# tworzymy tabelkę z wynikami dla poszczególnych algorytmów\n",
    "\n",
    "model = [\"rf_ohe\",\"rf_ohe_scaled\",\"rf_target\",\"rf_target_scaled\",\n",
    "        \"xgb_ohe\", \"xgb_ohe_scaled\", \"xgb_target\", \"xgb_target_scaled\"]\n",
    "auc_values = []\n",
    "\n",
    "for i in model:\n",
    "    current_model = eval(i)\n",
    "    auc_values.append(returnAUC(current_model, X_train, Y_train, X_test, Y_test))\n",
    "\n",
    "pd.DataFrame({\n",
    "    \"Model\" : model,\n",
    "    \"AUC\": auc_values\n",
    "})"
   ]
  },
  {
   "cell_type": "code",
   "execution_count": 47,
   "metadata": {
    "pycharm": {
     "name": "#%%\n"
    }
   },
   "outputs": [
    {
     "name": "stdout",
     "output_type": "stream",
     "text": [
      "Accuracy: 0.736\n",
      "Precision: 0.7214285714285714\n",
      "Recall: 0.9285714285714286\n",
      "AUC: 0.8286149825783973\n"
     ]
    }
   ],
   "source": [
    "evaluateModel(rf_target, X_train, Y_train, X_test, Y_test)"
   ]
  },
  {
   "cell_type": "code",
   "execution_count": 48,
   "metadata": {},
   "outputs": [
    {
     "name": "stdout",
     "output_type": "stream",
     "text": [
      "Accuracy: 0.772\n",
      "Precision: 0.755944055944056\n",
      "Recall: 0.9107142857142857\n",
      "AUC: 0.8160569105691057\n"
     ]
    }
   ],
   "source": [
    "evaluateModel(xgb_target, X_train, Y_train, X_test, Y_test)"
   ]
  },
  {
   "cell_type": "code",
   "execution_count": 49,
   "metadata": {},
   "outputs": [
    {
     "name": "stdout",
     "output_type": "stream",
     "text": [
      "Accuracy: 0.74\n",
      "Precision: 0.7200542005420054\n",
      "Recall: 0.9166666666666666\n",
      "AUC: 0.8344947735191638\n"
     ]
    }
   ],
   "source": [
    "evaluateModel(rf_target_scaled, X_train, Y_train, X_test, Y_test)"
   ]
  },
  {
   "cell_type": "code",
   "execution_count": 50,
   "metadata": {},
   "outputs": [
    {
     "name": "stdout",
     "output_type": "stream",
     "text": [
      "Accuracy: 0.752\n",
      "Precision: 0.7228070175438597\n",
      "Recall: 0.8809523809523809\n",
      "AUC: 0.7997241579558653\n"
     ]
    }
   ],
   "source": [
    "evaluateModel(xgb_target_scaled, X_train, Y_train, X_test, Y_test)"
   ]
  },
  {
   "cell_type": "code",
   "execution_count": 103,
   "metadata": {},
   "outputs": [],
   "source": [
    "# Funkcja rysująca wykres krzywej ROC dla podanych modeli (niestety nazwy trzeba podać ręcznie)\n",
    "\n",
    "def plotROC(X_train, Y_train, X_test, Y_test, names, *models):\n",
    "    fpr_list = []\n",
    "    trp_list = []\n",
    "    k = 0\n",
    "    for i in models:\n",
    "        i.fit(X_train, Y_train)\n",
    "        y_pred = i.predict(X_test)\n",
    "        y_proba = i.predict_proba(X_test)[:, 1]\n",
    "        y_true = Y_test\n",
    "        fpr, tpr, thresholds = metrics.roc_curve(y_true, y_proba, pos_label=2)\n",
    "        fpr_list.append(fpr)\n",
    "        trp_list.append(tpr)\n",
    "        k += 1\n",
    "    plt.figure()\n",
    "    plt.plot([0, 1], [0, 1], 'k--')\n",
    "    for i in range(len(fpr_list)):\n",
    "        plt.plot(fpr_list[i], trp_list[i], label = names[i])\n",
    "    plt.xlabel('False positive rate')\n",
    "    plt.ylabel('True positive rate')\n",
    "    plt.legend(loc='best')\n",
    "    plt.title('ROC curve')\n",
    "    plt.savefig(\"ROCboth.png\")\n",
    "    plt.show()\n",
    "    "
   ]
  },
  {
   "cell_type": "code",
   "execution_count": 104,
   "metadata": {},
   "outputs": [
    {
     "data": {
      "image/png": "[encoded data removed]",
      "text/plain": [
       "<Figure size 432x288 with 1 Axes>"
      ]
     },
     "metadata": {
      "needs_background": "light"
     },
     "output_type": "display_data"
    }
   ],
   "source": [
    "names = [\"rf_target_scaled\", \"xgb_target\"]\n",
    "plotROC(X_train, Y_train, X_test, Y_test, names, rf_target_scaled, xgb_target)"
   ]
  },
  {
   "cell_type": "markdown",
   "metadata": {},
   "source": [
    "Skoro już tyle czasu poświęciliśmy na dostrojenie parametrów, zobaczmy jaka jest róznica pomiedzy modelami niestrojonymi, a strojonymi. Tutaj również wykorzystamy do tego miarę AUC. "
   ]
  },
  {
   "cell_type": "code",
   "execution_count": 47,
   "metadata": {},
   "outputs": [],
   "source": [
    "rf_default_classifier = RandomForestClassifier()\n",
    "xgb_default_classifier = xgb.XGBClassifier()\n",
    "\n",
    "# domyślny rf\n",
    "rf_default_ohe = makePipeline(cat, num, rf_default_classifier, ce.OneHotEncoder(), False)\n",
    "rf_default_ohe_scaled = makePipeline(cat, num, rf_default_classifier, ce.OneHotEncoder(), True)\n",
    "rf_default_target = makePipeline(cat, num, rf_default_classifier, ce.TargetEncoder(), False)\n",
    "rf_default_target_scaled = makePipeline(cat, num, rf_default_classifier, ce.TargetEncoder(), True)\n",
    "\n",
    "# domyślny xgb\n",
    "xgb_default_ohe = makePipeline(cat, num, xgb_default_classifier, ce.OneHotEncoder(), False)\n",
    "xgb_default_ohe_scaled = makePipeline(cat, num, xgb_default_classifier, ce.OneHotEncoder(), True)\n",
    "xgb_default_target = makePipeline(cat, num, xgb_default_classifier, ce.TargetEncoder(), False)\n",
    "xgb_default_target_scaled = makePipeline(cat, num, xgb_default_classifier, ce.TargetEncoder(), True)\n",
    "\n",
    "# skalowany rf (wczytujemy z plikow ktore stworzylismy)\n",
    "rf_ohe = makePipeline(cat, num, load('rf_ohe.joblib')[1], ce.OneHotEncoder(), False)\n",
    "rf_ohe_scaled = makePipeline(cat, num, load('rf_ohe_scaled.joblib')[1], ce.OneHotEncoder(), True)\n",
    "rf_target = makePipeline(cat, num, load('rf_target.joblib')[1], ce.TargetEncoder(), False)\n",
    "rf_target_scaled = makePipeline(cat, num, load('rf_target_scaled.joblib')[1], ce.TargetEncoder(), True)\n",
    "\n",
    "# skalowany xgb\n",
    "xgb_ohe = makePipeline(cat, num, load('xgb_ohe.joblib')[1], ce.OneHotEncoder(), False)\n",
    "xgb_ohe_scaled = makePipeline(cat, num, load('xgb_ohe_scaled.joblib')[1], ce.OneHotEncoder(), True)\n",
    "xgb_target = makePipeline(cat, num, load('xgb_target.joblib')[1], ce.TargetEncoder(), False)\n",
    "xgb_target_scaled = makePipeline(cat, num, load('xgb_target_scaled.joblib')[1], ce.TargetEncoder(), True)"
   ]
  },
  {
   "cell_type": "code",
   "execution_count": 49,
   "metadata": {},
   "outputs": [
    {
     "data": {
      "text/html": [
       "<div>\n",
       "<style scoped>\n",
       "    .dataframe tbody tr th:only-of-type {\n",
       "        vertical-align: middle;\n",
       "    }\n",
       "\n",
       "    .dataframe tbody tr th {\n",
       "        vertical-align: top;\n",
       "    }\n",
       "\n",
       "    .dataframe thead th {\n",
       "        text-align: right;\n",
       "    }\n",
       "</style>\n",
       "<table border=\"1\" class=\"dataframe\">\n",
       "  <thead>\n",
       "    <tr style=\"text-align: right;\">\n",
       "      <th></th>\n",
       "      <th>Model</th>\n",
       "      <th>AUC_not_tuned</th>\n",
       "      <th>AUC_tuned</th>\n",
       "    </tr>\n",
       "  </thead>\n",
       "  <tbody>\n",
       "    <tr>\n",
       "      <th>0</th>\n",
       "      <td>rf_ohe</td>\n",
       "      <td>0.831119</td>\n",
       "      <td>0.831301</td>\n",
       "    </tr>\n",
       "    <tr>\n",
       "      <th>1</th>\n",
       "      <td>rf_ohe_scaled</td>\n",
       "      <td>0.834495</td>\n",
       "      <td>0.828978</td>\n",
       "    </tr>\n",
       "    <tr>\n",
       "      <th>2</th>\n",
       "      <td>rf_target</td>\n",
       "      <td>0.813879</td>\n",
       "      <td>0.820630</td>\n",
       "    </tr>\n",
       "    <tr>\n",
       "      <th>3</th>\n",
       "      <td>rf_target_scaled</td>\n",
       "      <td>0.830611</td>\n",
       "      <td>0.830430</td>\n",
       "    </tr>\n",
       "    <tr>\n",
       "      <th>4</th>\n",
       "      <td>xgb_ohe</td>\n",
       "      <td>0.799361</td>\n",
       "      <td>0.812427</td>\n",
       "    </tr>\n",
       "    <tr>\n",
       "      <th>5</th>\n",
       "      <td>xgb_ohe_scaled</td>\n",
       "      <td>0.803354</td>\n",
       "      <td>0.812427</td>\n",
       "    </tr>\n",
       "    <tr>\n",
       "      <th>6</th>\n",
       "      <td>xgb_target</td>\n",
       "      <td>0.806693</td>\n",
       "      <td>0.816057</td>\n",
       "    </tr>\n",
       "    <tr>\n",
       "      <th>7</th>\n",
       "      <td>xgb_target_scaled</td>\n",
       "      <td>0.802773</td>\n",
       "      <td>0.799724</td>\n",
       "    </tr>\n",
       "  </tbody>\n",
       "</table>\n",
       "</div>"
      ],
      "text/plain": [
       "               Model  AUC_not_tuned  AUC_tuned\n",
       "0             rf_ohe       0.831119   0.831301\n",
       "1      rf_ohe_scaled       0.834495   0.828978\n",
       "2          rf_target       0.813879   0.820630\n",
       "3   rf_target_scaled       0.830611   0.830430\n",
       "4            xgb_ohe       0.799361   0.812427\n",
       "5     xgb_ohe_scaled       0.803354   0.812427\n",
       "6         xgb_target       0.806693   0.816057\n",
       "7  xgb_target_scaled       0.802773   0.799724"
      ]
     },
     "execution_count": 49,
     "metadata": {},
     "output_type": "execute_result"
    }
   ],
   "source": [
    "models = [\"rf_ohe\",\"rf_ohe_scaled\",\"rf_target\",\"rf_target_scaled\",\n",
    "        \"xgb_ohe\", \"xgb_ohe_scaled\", \"xgb_target\", \"xgb_target_scaled\"]\n",
    "auc_values = []\n",
    "\n",
    "models_not_tuned = [\"rf_default_ohe\",\"rf_default_ohe_scaled\",\"rf_default_target\",\"rf_default_target_scaled\",\n",
    "        \"xgb_default_ohe\", \"xgb_default_ohe_scaled\", \"xgb_default_target\", \"xgb_default_target_scaled\"]\n",
    "auc_values_not_tuned = []\n",
    "\n",
    "for i in models:\n",
    "    current_model = eval(i)\n",
    "    auc_values.append(returnAUC(current_model, X_train, Y_train, X_test, Y_test))\n",
    "    \n",
    "for i in models_not_tuned:\n",
    "    current_model = eval(i)\n",
    "    auc_values_not_tuned.append(returnAUC(current_model, X_train, Y_train, X_test, Y_test))\n",
    "\n",
    "pd.DataFrame({\n",
    "    \"Model\" : models,\n",
    "    \"AUC_not_tuned\": auc_values_not_tuned,\n",
    "    \"AUC_tuned\": auc_values\n",
    "})"
   ]
  },
  {
   "cell_type": "markdown",
   "metadata": {},
   "source": [
    "Widzimy, że poza nielicznymi wyjątkami modele po strojeniu hiperparamterów poradziły sobie lepiej na danych testowych."
   ]
  },
  {
   "cell_type": "markdown",
   "metadata": {},
   "source": [
    "## 7. Feature importance\n"
   ]
  },
  {
   "cell_type": "markdown",
   "metadata": {},
   "source": [
    "Najpierw sprawdzę wage zmiennych dla xgb i RandomForest.\n",
    "\n",
    "\n"
   ]
  },
  {
   "cell_type": "code",
   "execution_count": 7,
   "metadata": {
    "pycharm": {
     "name": "#%%\n"
    }
   },
   "outputs": [
    {
     "data": {
      "text/plain": [
       "<matplotlib.axes._subplots.AxesSubplot at 0x7fd7d1592d10>"
      ]
     },
     "execution_count": 7,
     "metadata": {},
     "output_type": "execute_result"
    },
    {
     "data": {
      "image/png": "[encoded data removed]",
      "text/plain": [
       "<Figure size 1080x1080 with 1 Axes>"
      ]
     },
     "metadata": {
      "needs_background": "light"
     },
     "output_type": "display_data"
    }
   ],
   "source": [
    "# Feature importance dla xgb \n",
    "from xgboost import plot_importance\n",
    "from matplotlib import pyplot\n",
    "plt.rcParams['figure.figsize'] = [15, 15]\n",
    "\n",
    "# Targer encoding \n",
    "xgb_test = xgb.XGBClassifier()\n",
    "xgb_test.fit(te_scaled_train,scaled_Y_train)\n",
    "plot_importance(xgb_test)"
   ]
  },
  {
   "cell_type": "markdown",
   "metadata": {},
   "source": [
    "Najważniejszą zminną jest credit_ammount a zminne numeryczne wydają się mieć większą wagę niż te kategoryczne"
   ]
  },
  {
   "cell_type": "code",
   "execution_count": 8,
   "metadata": {
    "pycharm": {
     "name": "#%%\n"
    }
   },
   "outputs": [
    {
     "data": {
      "text/plain": [
       "<matplotlib.axes._subplots.AxesSubplot at 0x7fd7bc453e50>"
      ]
     },
     "execution_count": 8,
     "metadata": {},
     "output_type": "execute_result"
    },
    {
     "data": {
      "image/png": "[encoded data removed]",
      "text/plain": [
       "<Figure size 1080x1080 with 1 Axes>"
      ]
     },
     "metadata": {
      "needs_background": "light"
     },
     "output_type": "display_data"
    }
   ],
   "source": [
    "# One-Hot Encoding \n",
    "xgb_test_oh = xgb.XGBClassifier()\n",
    "xgb_test_oh.fit(ohe_scaled_train,scaled_Y_train)\n",
    "plot_importance(xgb_test_oh)"
   ]
  },
  {
   "cell_type": "markdown",
   "metadata": {},
   "source": [
    "5 najważniejszych zmiennych to zmienne numeryczne co nie dziwi ponieważ po one hocie każda kolumna zmienna kategoryczna została rozbita na kilka kolumn.\n",
    "\n",
    "Można zauważyć ,że XGB przywiązuje większą wagę do zminnych numerycznych niż kategorycznych. "
   ]
  },
  {
   "cell_type": "code",
   "execution_count": 9,
   "metadata": {
    "pycharm": {
     "name": "#%%\n"
    }
   },
   "outputs": [
    {
     "data": {
      "image/png": "[encoded data removed]",
      "text/plain": [
       "<Figure size 1080x1080 with 1 Axes>"
      ]
     },
     "metadata": {
      "needs_background": "light"
     },
     "output_type": "display_data"
    }
   ],
   "source": [
    "# Feature importance RandomForest\n",
    "\n",
    "#Target encoding\n",
    "rf_test = RandomForestClassifier()\n",
    "rf_test.fit(te_scaled_train,scaled_Y_train)\n",
    "\n",
    "\n",
    "importances = rf_test.feature_importances_\n",
    "std = np.std([tree.feature_importances_ for tree in rf_test.estimators_],\n",
    "             axis=0)\n",
    "indices = np.argsort(importances)[::-1]\n",
    "\n",
    "\n",
    "plt.figure()\n",
    "plt.title(\"Feature importance\")\n",
    "plt.bar(X_train.columns, importances[indices],\n",
    "       color=\"r\", yerr=std[indices], align=\"center\")\n",
    "plt.xticks(rotation=45)\n",
    "plt.show()"
   ]
  },
  {
   "cell_type": "markdown",
   "metadata": {},
   "source": [
    "Wyniki zupełnie inne niż w przypadku XGB tym razem najważniejsza zmienna jest kategoryczna  i jest znacznie ważniejsza niż następna w kolejności. Kolumny ważne dla XGB np.age znacznie straciły na ważności."
   ]
  },
  {
   "cell_type": "code",
   "execution_count": 10,
   "metadata": {
    "pycharm": {
     "name": "#%%\n"
    }
   },
   "outputs": [
    {
     "data": {
      "image/png": "[encoded data removed]",
      "text/plain": [
       "<Figure size 1080x1080 with 1 Axes>"
      ]
     },
     "metadata": {
      "needs_background": "light"
     },
     "output_type": "display_data"
    }
   ],
   "source": [
    "# One-Hot Encoding \n",
    "rf_test = RandomForestClassifier()\n",
    "rf_test.fit(ohe_scaled_train,scaled_Y_train)\n",
    "\n",
    "importances = rf_test.feature_importances_\n",
    "std = np.std([tree.feature_importances_ for tree in rf_test.estimators_],\n",
    "             axis=0)\n",
    "indices = np.argsort(importances)[::-1]\n",
    "\n",
    "\n",
    "plt.figure()\n",
    "plt.title(\"Feature importance\")\n",
    "plt.bar(ohe_scaled_train.columns[:20], importances[indices][:20],\n",
    "       color=\"r\", yerr=std[indices][:20], align=\"center\")\n",
    "plt.xticks(rotation=45)\n",
    "plt.show()\n"
   ]
  },
  {
   "cell_type": "markdown",
   "metadata": {},
   "source": [
    "Wykres dla 20 najważniejszych zmiennych pomijając rozbicie zmiennych kategorycznych na kolumny wykres podobny do poprzedniego"
   ]
  },
  {
   "cell_type": "code",
   "execution_count": 25,
   "metadata": {
    "pycharm": {
     "name": "#%%\n"
    }
   },
   "outputs": [
    {
     "name": "stdout",
     "output_type": "stream",
     "text": [
      "[ 1  1  1  2  7  1  4  7 12  1 11  7 10  1  3 15  9  5 14 12]\n",
      "Treschold: 1   CV_score_mean:  0.72 Cv_score_std 0.031\n",
      "Treschold: 2   CV_score_mean:  0.743 Cv_score_std 0.026\n",
      "Treschold: 3   CV_score_mean:  0.727 Cv_score_std 0.021\n",
      "Treschold: 4   CV_score_mean:  0.716 Cv_score_std 0.026\n",
      "Treschold: 5   CV_score_mean:  0.711 Cv_score_std 0.025\n",
      "Treschold: 6   CV_score_mean:  0.711 Cv_score_std 0.025\n",
      "Treschold: 7   CV_score_mean:  0.733 Cv_score_std 0.039\n",
      "Treschold: 8   CV_score_mean:  0.733 Cv_score_std 0.039\n",
      "Treschold: 9   CV_score_mean:  0.739 Cv_score_std 0.035\n",
      "Treschold: 10   CV_score_mean:  0.756 Cv_score_std 0.009\n",
      "Treschold: 11   CV_score_mean:  0.768 Cv_score_std 0.022\n",
      "Treschold: 12   CV_score_mean:  0.76 Cv_score_std 0.026\n",
      "Treschold: 13   CV_score_mean:  0.76 Cv_score_std 0.026\n",
      "Treschold: 14   CV_score_mean:  0.757 Cv_score_std 0.032\n",
      "Treschold: 15   CV_score_mean:  0.765 Cv_score_std 0.031\n"
     ]
    }
   ],
   "source": [
    "# Wybór najlepszych zmiennych przy użyciu algorytmu Boruta \n",
    "# \n",
    "# XGB target\n",
    "from boruta import BorutaPy\n",
    "from sklearn.model_selection import cross_val_score\n",
    "def test(X_train,X_test,model):\n",
    "\n",
    "    \n",
    "    \n",
    "\n",
    "    feat_selector = BorutaPy(model, n_estimators='auto',random_state=1)\n",
    "    feat_selector.fit(X_train.values,scaled_Y_train)\n",
    "\n",
    "\n",
    "    # feature ranking\n",
    "    a=feat_selector.support_\n",
    "    ranking=feat_selector.ranking_\n",
    "    print(ranking)\n",
    "\n",
    "    def checking(X_train,X_test,a,ranking,model):\n",
    "        for i in range(1,max(ranking)+1):\n",
    "    \n",
    "            data_test = ranking<=i\n",
    "            \n",
    "            cv_score=cross_val_score(model,X_train.iloc[:,data_test],scaled_Y_train,cv=5,n_jobs=-1)\n",
    "            print(f\"Treschold: {i}   CV_score_mean:  {round(np.mean(cv_score),3)} Cv_score_std {round(np.std(cv_score),3)}\")\n",
    "\n",
    "\n",
    "    checking(X_train,X_test,a,ranking,model)\n",
    "    return ranking\n",
    "rn=test(te_scaled_train,te_scaled_test,xgb.XGBClassifier())\n",
    "    "
   ]
  },
  {
   "cell_type": "markdown",
   "metadata": {},
   "source": [
    "Najlepszy rezultat jest uzyskiwany dla th=11 ale wynik jest bardzo zbliżony do wszystkich zmiennych. Najlepsze kolumny:"
   ]
  },
  {
   "cell_type": "code",
   "execution_count": 26,
   "metadata": {
    "pycharm": {
     "name": "#%%\n"
    },
    "scrolled": true
   },
   "outputs": [
    {
     "data": {
      "text/html": [
       "<div>\n",
       "<style scoped>\n",
       "    .dataframe tbody tr th:only-of-type {\n",
       "        vertical-align: middle;\n",
       "    }\n",
       "\n",
       "    .dataframe tbody tr th {\n",
       "        vertical-align: top;\n",
       "    }\n",
       "\n",
       "    .dataframe thead th {\n",
       "        text-align: right;\n",
       "    }\n",
       "</style>\n",
       "<table border=\"1\" class=\"dataframe\">\n",
       "  <thead>\n",
       "    <tr style=\"text-align: right;\">\n",
       "      <th></th>\n",
       "      <th>checking_account_status</th>\n",
       "      <th>duration</th>\n",
       "      <th>credit_history</th>\n",
       "      <th>purpose</th>\n",
       "      <th>credit_amount</th>\n",
       "      <th>savings</th>\n",
       "      <th>present_employment</th>\n",
       "      <th>installment_rate</th>\n",
       "      <th>other_debtors</th>\n",
       "      <th>present_residence</th>\n",
       "      <th>property</th>\n",
       "      <th>age</th>\n",
       "      <th>other_installment_plans</th>\n",
       "      <th>housing</th>\n",
       "      <th>job</th>\n",
       "      <th>dependents</th>\n",
       "    </tr>\n",
       "  </thead>\n",
       "  <tbody>\n",
       "    <tr>\n",
       "      <th>703</th>\n",
       "      <td>1.398936</td>\n",
       "      <td>0.754763</td>\n",
       "      <td>1.307692</td>\n",
       "      <td>1.380282</td>\n",
       "      <td>-0.272304</td>\n",
       "      <td>1.285714</td>\n",
       "      <td>1.256684</td>\n",
       "      <td>0.918477</td>\n",
       "      <td>1.304412</td>\n",
       "      <td>-0.765977</td>\n",
       "      <td>1.310734</td>\n",
       "      <td>0.479693</td>\n",
       "      <td>1.382353</td>\n",
       "      <td>1.259813</td>\n",
       "      <td>1.293996</td>\n",
       "      <td>-0.428290</td>\n",
       "    </tr>\n",
       "    <tr>\n",
       "      <th>53</th>\n",
       "      <td>1.119355</td>\n",
       "      <td>-0.240857</td>\n",
       "      <td>1.337469</td>\n",
       "      <td>1.205128</td>\n",
       "      <td>0.037834</td>\n",
       "      <td>1.183099</td>\n",
       "      <td>1.304688</td>\n",
       "      <td>-0.870183</td>\n",
       "      <td>1.304412</td>\n",
       "      <td>-1.672459</td>\n",
       "      <td>1.310734</td>\n",
       "      <td>-0.399832</td>\n",
       "      <td>1.273171</td>\n",
       "      <td>1.259813</td>\n",
       "      <td>1.293996</td>\n",
       "      <td>-0.428290</td>\n",
       "    </tr>\n",
       "    <tr>\n",
       "      <th>438</th>\n",
       "      <td>1.497537</td>\n",
       "      <td>1.750384</td>\n",
       "      <td>1.173333</td>\n",
       "      <td>1.266667</td>\n",
       "      <td>0.043505</td>\n",
       "      <td>1.369469</td>\n",
       "      <td>1.384615</td>\n",
       "      <td>0.918477</td>\n",
       "      <td>1.333333</td>\n",
       "      <td>1.046987</td>\n",
       "      <td>1.299595</td>\n",
       "      <td>2.590552</td>\n",
       "      <td>1.273171</td>\n",
       "      <td>1.259813</td>\n",
       "      <td>1.250000</td>\n",
       "      <td>-0.428290</td>\n",
       "    </tr>\n",
       "    <tr>\n",
       "      <th>670</th>\n",
       "      <td>1.119355</td>\n",
       "      <td>0.256953</td>\n",
       "      <td>1.173333</td>\n",
       "      <td>1.380282</td>\n",
       "      <td>0.307565</td>\n",
       "      <td>1.285714</td>\n",
       "      <td>1.304688</td>\n",
       "      <td>0.024147</td>\n",
       "      <td>1.304412</td>\n",
       "      <td>0.140505</td>\n",
       "      <td>1.310734</td>\n",
       "      <td>-0.751642</td>\n",
       "      <td>1.273171</td>\n",
       "      <td>1.259813</td>\n",
       "      <td>1.285714</td>\n",
       "      <td>-0.428290</td>\n",
       "    </tr>\n",
       "    <tr>\n",
       "      <th>113</th>\n",
       "      <td>1.119355</td>\n",
       "      <td>1.252574</td>\n",
       "      <td>1.173333</td>\n",
       "      <td>1.386740</td>\n",
       "      <td>1.624677</td>\n",
       "      <td>1.369469</td>\n",
       "      <td>1.304688</td>\n",
       "      <td>0.918477</td>\n",
       "      <td>1.304412</td>\n",
       "      <td>-0.765977</td>\n",
       "      <td>1.231132</td>\n",
       "      <td>-0.927547</td>\n",
       "      <td>1.382353</td>\n",
       "      <td>1.259813</td>\n",
       "      <td>1.293996</td>\n",
       "      <td>-0.428290</td>\n",
       "    </tr>\n",
       "    <tr>\n",
       "      <th>...</th>\n",
       "      <td>...</td>\n",
       "      <td>...</td>\n",
       "      <td>...</td>\n",
       "      <td>...</td>\n",
       "      <td>...</td>\n",
       "      <td>...</td>\n",
       "      <td>...</td>\n",
       "      <td>...</td>\n",
       "      <td>...</td>\n",
       "      <td>...</td>\n",
       "      <td>...</td>\n",
       "      <td>...</td>\n",
       "      <td>...</td>\n",
       "      <td>...</td>\n",
       "      <td>...</td>\n",
       "      <td>...</td>\n",
       "    </tr>\n",
       "    <tr>\n",
       "      <th>510</th>\n",
       "      <td>1.497537</td>\n",
       "      <td>-0.738668</td>\n",
       "      <td>1.337469</td>\n",
       "      <td>1.386740</td>\n",
       "      <td>-0.890453</td>\n",
       "      <td>1.369469</td>\n",
       "      <td>1.201613</td>\n",
       "      <td>0.918477</td>\n",
       "      <td>1.304412</td>\n",
       "      <td>-0.765977</td>\n",
       "      <td>1.231132</td>\n",
       "      <td>-0.839594</td>\n",
       "      <td>1.273171</td>\n",
       "      <td>1.259813</td>\n",
       "      <td>1.293996</td>\n",
       "      <td>-0.428290</td>\n",
       "    </tr>\n",
       "    <tr>\n",
       "      <th>176</th>\n",
       "      <td>1.497537</td>\n",
       "      <td>-0.738668</td>\n",
       "      <td>1.337469</td>\n",
       "      <td>1.300752</td>\n",
       "      <td>-0.246075</td>\n",
       "      <td>1.369469</td>\n",
       "      <td>1.304688</td>\n",
       "      <td>-0.870183</td>\n",
       "      <td>1.304412</td>\n",
       "      <td>-1.672459</td>\n",
       "      <td>1.299595</td>\n",
       "      <td>0.567645</td>\n",
       "      <td>1.273171</td>\n",
       "      <td>1.259813</td>\n",
       "      <td>1.293996</td>\n",
       "      <td>-0.428290</td>\n",
       "    </tr>\n",
       "    <tr>\n",
       "      <th>108</th>\n",
       "      <td>1.497537</td>\n",
       "      <td>0.256953</td>\n",
       "      <td>1.337469</td>\n",
       "      <td>1.300752</td>\n",
       "      <td>1.577182</td>\n",
       "      <td>1.183099</td>\n",
       "      <td>1.412214</td>\n",
       "      <td>-1.764514</td>\n",
       "      <td>1.304412</td>\n",
       "      <td>-0.765977</td>\n",
       "      <td>1.310734</td>\n",
       "      <td>-0.487784</td>\n",
       "      <td>1.273171</td>\n",
       "      <td>1.259813</td>\n",
       "      <td>1.293996</td>\n",
       "      <td>-0.428290</td>\n",
       "    </tr>\n",
       "    <tr>\n",
       "      <th>516</th>\n",
       "      <td>1.497537</td>\n",
       "      <td>-1.236478</td>\n",
       "      <td>1.173333</td>\n",
       "      <td>1.386740</td>\n",
       "      <td>-0.677078</td>\n",
       "      <td>1.369469</td>\n",
       "      <td>1.412214</td>\n",
       "      <td>-0.870183</td>\n",
       "      <td>1.304412</td>\n",
       "      <td>1.046987</td>\n",
       "      <td>1.231132</td>\n",
       "      <td>0.391740</td>\n",
       "      <td>1.273171</td>\n",
       "      <td>1.259813</td>\n",
       "      <td>1.285714</td>\n",
       "      <td>2.334869</td>\n",
       "    </tr>\n",
       "    <tr>\n",
       "      <th>916</th>\n",
       "      <td>1.119355</td>\n",
       "      <td>-0.904604</td>\n",
       "      <td>1.337469</td>\n",
       "      <td>1.205128</td>\n",
       "      <td>-0.150021</td>\n",
       "      <td>1.285714</td>\n",
       "      <td>1.304688</td>\n",
       "      <td>-1.764514</td>\n",
       "      <td>1.333333</td>\n",
       "      <td>-0.765977</td>\n",
       "      <td>1.231132</td>\n",
       "      <td>-0.311879</td>\n",
       "      <td>1.273171</td>\n",
       "      <td>1.259813</td>\n",
       "      <td>1.293996</td>\n",
       "      <td>2.334869</td>\n",
       "    </tr>\n",
       "  </tbody>\n",
       "</table>\n",
       "<p>750 rows × 16 columns</p>\n",
       "</div>"
      ],
      "text/plain": [
       "     checking_account_status  duration  credit_history   purpose  \\\n",
       "703                 1.398936  0.754763        1.307692  1.380282   \n",
       "53                  1.119355 -0.240857        1.337469  1.205128   \n",
       "438                 1.497537  1.750384        1.173333  1.266667   \n",
       "670                 1.119355  0.256953        1.173333  1.380282   \n",
       "113                 1.119355  1.252574        1.173333  1.386740   \n",
       "..                       ...       ...             ...       ...   \n",
       "510                 1.497537 -0.738668        1.337469  1.386740   \n",
       "176                 1.497537 -0.738668        1.337469  1.300752   \n",
       "108                 1.497537  0.256953        1.337469  1.300752   \n",
       "516                 1.497537 -1.236478        1.173333  1.386740   \n",
       "916                 1.119355 -0.904604        1.337469  1.205128   \n",
       "\n",
       "     credit_amount   savings  present_employment  installment_rate  \\\n",
       "703      -0.272304  1.285714            1.256684          0.918477   \n",
       "53        0.037834  1.183099            1.304688         -0.870183   \n",
       "438       0.043505  1.369469            1.384615          0.918477   \n",
       "670       0.307565  1.285714            1.304688          0.024147   \n",
       "113       1.624677  1.369469            1.304688          0.918477   \n",
       "..             ...       ...                 ...               ...   \n",
       "510      -0.890453  1.369469            1.201613          0.918477   \n",
       "176      -0.246075  1.369469            1.304688         -0.870183   \n",
       "108       1.577182  1.183099            1.412214         -1.764514   \n",
       "516      -0.677078  1.369469            1.412214         -0.870183   \n",
       "916      -0.150021  1.285714            1.304688         -1.764514   \n",
       "\n",
       "     other_debtors  present_residence  property       age  \\\n",
       "703       1.304412          -0.765977  1.310734  0.479693   \n",
       "53        1.304412          -1.672459  1.310734 -0.399832   \n",
       "438       1.333333           1.046987  1.299595  2.590552   \n",
       "670       1.304412           0.140505  1.310734 -0.751642   \n",
       "113       1.304412          -0.765977  1.231132 -0.927547   \n",
       "..             ...                ...       ...       ...   \n",
       "510       1.304412          -0.765977  1.231132 -0.839594   \n",
       "176       1.304412          -1.672459  1.299595  0.567645   \n",
       "108       1.304412          -0.765977  1.310734 -0.487784   \n",
       "516       1.304412           1.046987  1.231132  0.391740   \n",
       "916       1.333333          -0.765977  1.231132 -0.311879   \n",
       "\n",
       "     other_installment_plans   housing       job  dependents  \n",
       "703                 1.382353  1.259813  1.293996   -0.428290  \n",
       "53                  1.273171  1.259813  1.293996   -0.428290  \n",
       "438                 1.273171  1.259813  1.250000   -0.428290  \n",
       "670                 1.273171  1.259813  1.285714   -0.428290  \n",
       "113                 1.382353  1.259813  1.293996   -0.428290  \n",
       "..                       ...       ...       ...         ...  \n",
       "510                 1.273171  1.259813  1.293996   -0.428290  \n",
       "176                 1.273171  1.259813  1.293996   -0.428290  \n",
       "108                 1.273171  1.259813  1.293996   -0.428290  \n",
       "516                 1.273171  1.259813  1.285714    2.334869  \n",
       "916                 1.273171  1.259813  1.293996    2.334869  \n",
       "\n",
       "[750 rows x 16 columns]"
      ]
     },
     "execution_count": 26,
     "metadata": {},
     "output_type": "execute_result"
    }
   ],
   "source": [
    "te_scaled_train.iloc[:,rn<=11]\n"
   ]
  },
  {
   "cell_type": "code",
   "execution_count": 27,
   "metadata": {
    "pycharm": {
     "name": "#%%\n"
    },
    "scrolled": true
   },
   "outputs": [
    {
     "name": "stdout",
     "output_type": "stream",
     "text": [
      "[42  1 25  1  8 27 17 18 14  3  6 22 52 28 30 32  9 55 55 55 22 35 34  4\n",
      " 29  1 36 50  4 19  9 36 46 45 15  2 25 51  1 42 13 40 32 19 40  6 11 21\n",
      " 24 32 44 49 39 55 47 12 38 47 55 16 55]\n",
      "Treschold: 1   CV_score_mean:  0.7 Cv_score_std 0.0\n",
      "Treschold: 2   CV_score_mean:  0.709 Cv_score_std 0.003\n",
      "Treschold: 3   CV_score_mean:  0.709 Cv_score_std 0.009\n",
      "Treschold: 4   CV_score_mean:  0.72 Cv_score_std 0.028\n",
      "Treschold: 5   CV_score_mean:  0.72 Cv_score_std 0.028\n",
      "Treschold: 6   CV_score_mean:  0.696 Cv_score_std 0.017\n",
      "Treschold: 7   CV_score_mean:  0.696 Cv_score_std 0.017\n",
      "Treschold: 8   CV_score_mean:  0.721 Cv_score_std 0.01\n",
      "Treschold: 9   CV_score_mean:  0.716 Cv_score_std 0.018\n",
      "Treschold: 10   CV_score_mean:  0.716 Cv_score_std 0.018\n",
      "Treschold: 11   CV_score_mean:  0.72 Cv_score_std 0.013\n",
      "Treschold: 12   CV_score_mean:  0.719 Cv_score_std 0.022\n",
      "Treschold: 13   CV_score_mean:  0.724 Cv_score_std 0.03\n",
      "Treschold: 14   CV_score_mean:  0.721 Cv_score_std 0.025\n",
      "Treschold: 15   CV_score_mean:  0.728 Cv_score_std 0.027\n",
      "Treschold: 16   CV_score_mean:  0.723 Cv_score_std 0.022\n",
      "Treschold: 17   CV_score_mean:  0.725 Cv_score_std 0.029\n",
      "Treschold: 18   CV_score_mean:  0.737 Cv_score_std 0.02\n",
      "Treschold: 19   CV_score_mean:  0.737 Cv_score_std 0.032\n",
      "Treschold: 20   CV_score_mean:  0.737 Cv_score_std 0.032\n",
      "Treschold: 21   CV_score_mean:  0.737 Cv_score_std 0.02\n",
      "Treschold: 22   CV_score_mean:  0.76 Cv_score_std 0.03\n",
      "Treschold: 23   CV_score_mean:  0.76 Cv_score_std 0.03\n",
      "Treschold: 24   CV_score_mean:  0.752 Cv_score_std 0.028\n",
      "Treschold: 25   CV_score_mean:  0.741 Cv_score_std 0.029\n",
      "Treschold: 26   CV_score_mean:  0.741 Cv_score_std 0.029\n",
      "Treschold: 27   CV_score_mean:  0.745 Cv_score_std 0.034\n",
      "Treschold: 28   CV_score_mean:  0.756 Cv_score_std 0.028\n",
      "Treschold: 29   CV_score_mean:  0.753 Cv_score_std 0.039\n",
      "Treschold: 30   CV_score_mean:  0.753 Cv_score_std 0.036\n",
      "Treschold: 31   CV_score_mean:  0.753 Cv_score_std 0.036\n",
      "Treschold: 32   CV_score_mean:  0.747 Cv_score_std 0.053\n",
      "Treschold: 33   CV_score_mean:  0.747 Cv_score_std 0.053\n",
      "Treschold: 34   CV_score_mean:  0.775 Cv_score_std 0.04\n",
      "Treschold: 35   CV_score_mean:  0.759 Cv_score_std 0.039\n",
      "Treschold: 36   CV_score_mean:  0.747 Cv_score_std 0.037\n",
      "Treschold: 37   CV_score_mean:  0.747 Cv_score_std 0.037\n",
      "Treschold: 38   CV_score_mean:  0.756 Cv_score_std 0.035\n",
      "Treschold: 39   CV_score_mean:  0.744 Cv_score_std 0.04\n",
      "Treschold: 40   CV_score_mean:  0.751 Cv_score_std 0.031\n",
      "Treschold: 41   CV_score_mean:  0.751 Cv_score_std 0.031\n",
      "Treschold: 42   CV_score_mean:  0.74 Cv_score_std 0.031\n",
      "Treschold: 43   CV_score_mean:  0.74 Cv_score_std 0.031\n",
      "Treschold: 44   CV_score_mean:  0.745 Cv_score_std 0.025\n",
      "Treschold: 45   CV_score_mean:  0.737 Cv_score_std 0.04\n",
      "Treschold: 46   CV_score_mean:  0.748 Cv_score_std 0.04\n",
      "Treschold: 47   CV_score_mean:  0.745 Cv_score_std 0.028\n",
      "Treschold: 48   CV_score_mean:  0.745 Cv_score_std 0.028\n",
      "Treschold: 49   CV_score_mean:  0.757 Cv_score_std 0.036\n",
      "Treschold: 50   CV_score_mean:  0.741 Cv_score_std 0.028\n",
      "Treschold: 51   CV_score_mean:  0.744 Cv_score_std 0.026\n",
      "Treschold: 52   CV_score_mean:  0.74 Cv_score_std 0.028\n",
      "Treschold: 53   CV_score_mean:  0.74 Cv_score_std 0.028\n",
      "Treschold: 54   CV_score_mean:  0.74 Cv_score_std 0.028\n",
      "Treschold: 55   CV_score_mean:  0.743 Cv_score_std 0.027\n"
     ]
    }
   ],
   "source": [
    "# Xgb one hote encoding \n",
    "ranking=test(ohe_scaled_train,ohe_scaled_test,xgb.XGBClassifier())\n",
    "\n"
   ]
  },
  {
   "cell_type": "code",
   "execution_count": 28,
   "metadata": {
    "pycharm": {
     "name": "#%%\n"
    }
   },
   "outputs": [
    {
     "data": {
      "text/html": [
       "<div>\n",
       "<style scoped>\n",
       "    .dataframe tbody tr th:only-of-type {\n",
       "        vertical-align: middle;\n",
       "    }\n",
       "\n",
       "    .dataframe tbody tr th {\n",
       "        vertical-align: top;\n",
       "    }\n",
       "\n",
       "    .dataframe thead th {\n",
       "        text-align: right;\n",
       "    }\n",
       "</style>\n",
       "<table border=\"1\" class=\"dataframe\">\n",
       "  <thead>\n",
       "    <tr style=\"text-align: right;\">\n",
       "      <th></th>\n",
       "      <th>checking_account_status_2</th>\n",
       "      <th>checking_account_status_4</th>\n",
       "      <th>duration</th>\n",
       "      <th>credit_history_2</th>\n",
       "      <th>credit_history_3</th>\n",
       "      <th>credit_history_4</th>\n",
       "      <th>credit_history_5</th>\n",
       "      <th>purpose_1</th>\n",
       "      <th>purpose_2</th>\n",
       "      <th>purpose_7</th>\n",
       "      <th>...</th>\n",
       "      <th>personal_3</th>\n",
       "      <th>personal_4</th>\n",
       "      <th>other_debtors_3</th>\n",
       "      <th>property_1</th>\n",
       "      <th>property_4</th>\n",
       "      <th>other_installment_plans_1</th>\n",
       "      <th>other_installment_plans_2</th>\n",
       "      <th>other_installment_plans_3</th>\n",
       "      <th>job_4</th>\n",
       "      <th>foreign_worker_1</th>\n",
       "    </tr>\n",
       "  </thead>\n",
       "  <tbody>\n",
       "    <tr>\n",
       "      <th>703</th>\n",
       "      <td>0</td>\n",
       "      <td>0</td>\n",
       "      <td>0.754763</td>\n",
       "      <td>0</td>\n",
       "      <td>0</td>\n",
       "      <td>0</td>\n",
       "      <td>0</td>\n",
       "      <td>1</td>\n",
       "      <td>0</td>\n",
       "      <td>0</td>\n",
       "      <td>...</td>\n",
       "      <td>0</td>\n",
       "      <td>0</td>\n",
       "      <td>0</td>\n",
       "      <td>1</td>\n",
       "      <td>0</td>\n",
       "      <td>1</td>\n",
       "      <td>0</td>\n",
       "      <td>0</td>\n",
       "      <td>0</td>\n",
       "      <td>1</td>\n",
       "    </tr>\n",
       "    <tr>\n",
       "      <th>53</th>\n",
       "      <td>1</td>\n",
       "      <td>0</td>\n",
       "      <td>-0.240857</td>\n",
       "      <td>1</td>\n",
       "      <td>0</td>\n",
       "      <td>0</td>\n",
       "      <td>0</td>\n",
       "      <td>0</td>\n",
       "      <td>1</td>\n",
       "      <td>0</td>\n",
       "      <td>...</td>\n",
       "      <td>0</td>\n",
       "      <td>0</td>\n",
       "      <td>0</td>\n",
       "      <td>1</td>\n",
       "      <td>0</td>\n",
       "      <td>0</td>\n",
       "      <td>1</td>\n",
       "      <td>0</td>\n",
       "      <td>0</td>\n",
       "      <td>1</td>\n",
       "    </tr>\n",
       "    <tr>\n",
       "      <th>438</th>\n",
       "      <td>0</td>\n",
       "      <td>0</td>\n",
       "      <td>1.750384</td>\n",
       "      <td>0</td>\n",
       "      <td>1</td>\n",
       "      <td>0</td>\n",
       "      <td>0</td>\n",
       "      <td>0</td>\n",
       "      <td>0</td>\n",
       "      <td>0</td>\n",
       "      <td>...</td>\n",
       "      <td>0</td>\n",
       "      <td>0</td>\n",
       "      <td>0</td>\n",
       "      <td>0</td>\n",
       "      <td>0</td>\n",
       "      <td>0</td>\n",
       "      <td>1</td>\n",
       "      <td>0</td>\n",
       "      <td>0</td>\n",
       "      <td>1</td>\n",
       "    </tr>\n",
       "    <tr>\n",
       "      <th>670</th>\n",
       "      <td>1</td>\n",
       "      <td>0</td>\n",
       "      <td>0.256953</td>\n",
       "      <td>0</td>\n",
       "      <td>1</td>\n",
       "      <td>0</td>\n",
       "      <td>0</td>\n",
       "      <td>1</td>\n",
       "      <td>0</td>\n",
       "      <td>0</td>\n",
       "      <td>...</td>\n",
       "      <td>0</td>\n",
       "      <td>0</td>\n",
       "      <td>0</td>\n",
       "      <td>1</td>\n",
       "      <td>0</td>\n",
       "      <td>0</td>\n",
       "      <td>1</td>\n",
       "      <td>0</td>\n",
       "      <td>0</td>\n",
       "      <td>1</td>\n",
       "    </tr>\n",
       "    <tr>\n",
       "      <th>113</th>\n",
       "      <td>1</td>\n",
       "      <td>0</td>\n",
       "      <td>1.252574</td>\n",
       "      <td>0</td>\n",
       "      <td>1</td>\n",
       "      <td>0</td>\n",
       "      <td>0</td>\n",
       "      <td>0</td>\n",
       "      <td>0</td>\n",
       "      <td>0</td>\n",
       "      <td>...</td>\n",
       "      <td>0</td>\n",
       "      <td>0</td>\n",
       "      <td>0</td>\n",
       "      <td>0</td>\n",
       "      <td>0</td>\n",
       "      <td>1</td>\n",
       "      <td>0</td>\n",
       "      <td>0</td>\n",
       "      <td>0</td>\n",
       "      <td>1</td>\n",
       "    </tr>\n",
       "  </tbody>\n",
       "</table>\n",
       "<p>5 rows × 26 columns</p>\n",
       "</div>"
      ],
      "text/plain": [
       "     checking_account_status_2  checking_account_status_4  duration  \\\n",
       "703                          0                          0  0.754763   \n",
       "53                           1                          0 -0.240857   \n",
       "438                          0                          0  1.750384   \n",
       "670                          1                          0  0.256953   \n",
       "113                          1                          0  1.252574   \n",
       "\n",
       "     credit_history_2  credit_history_3  credit_history_4  credit_history_5  \\\n",
       "703                 0                 0                 0                 0   \n",
       "53                  1                 0                 0                 0   \n",
       "438                 0                 1                 0                 0   \n",
       "670                 0                 1                 0                 0   \n",
       "113                 0                 1                 0                 0   \n",
       "\n",
       "     purpose_1  purpose_2  purpose_7  ...  personal_3  personal_4  \\\n",
       "703          1          0          0  ...           0           0   \n",
       "53           0          1          0  ...           0           0   \n",
       "438          0          0          0  ...           0           0   \n",
       "670          1          0          0  ...           0           0   \n",
       "113          0          0          0  ...           0           0   \n",
       "\n",
       "     other_debtors_3  property_1  property_4  other_installment_plans_1  \\\n",
       "703                0           1           0                          1   \n",
       "53                 0           1           0                          0   \n",
       "438                0           0           0                          0   \n",
       "670                0           1           0                          0   \n",
       "113                0           0           0                          1   \n",
       "\n",
       "     other_installment_plans_2  other_installment_plans_3  job_4  \\\n",
       "703                          0                          0      0   \n",
       "53                           1                          0      0   \n",
       "438                          1                          0      0   \n",
       "670                          1                          0      0   \n",
       "113                          0                          0      0   \n",
       "\n",
       "     foreign_worker_1  \n",
       "703                 1  \n",
       "53                  1  \n",
       "438                 1  \n",
       "670                 1  \n",
       "113                 1  \n",
       "\n",
       "[5 rows x 26 columns]"
      ]
     },
     "execution_count": 28,
     "metadata": {},
     "output_type": "execute_result"
    }
   ],
   "source": [
    "# Najlepszy wynik dla th =23 ponad połowa zmiennych została odrzunoca.\n",
    "ohe_scaled_train.head().iloc[:,ranking<=23]"
   ]
  },
  {
   "cell_type": "markdown",
   "metadata": {},
   "source": [
    "Warto zauważyć, że nie wszystkie kolumny stworzone przez One-Hot dla konkretnej zmiennej zostały uwzględnione."
   ]
  },
  {
   "cell_type": "code",
   "execution_count": 31,
   "metadata": {
    "pycharm": {
     "name": "#%%\n"
    }
   },
   "outputs": [
    {
     "name": "stdout",
     "output_type": "stream",
     "text": [
      "[ 1  2  6  4  1  5  7  9 11 16 10  8  3 12 13 15 14 18 17 19]\n",
      "Treschold: 1   CV_score_mean:  0.657 Cv_score_std 0.026\n",
      "Treschold: 2   CV_score_mean:  0.699 Cv_score_std 0.011\n",
      "Treschold: 3   CV_score_mean:  0.727 Cv_score_std 0.017\n",
      "Treschold: 4   CV_score_mean:  0.732 Cv_score_std 0.026\n",
      "Treschold: 5   CV_score_mean:  0.759 Cv_score_std 0.02\n",
      "Treschold: 6   CV_score_mean:  0.744 Cv_score_std 0.022\n",
      "Treschold: 7   CV_score_mean:  0.743 Cv_score_std 0.024\n",
      "Treschold: 8   CV_score_mean:  0.749 Cv_score_std 0.027\n",
      "Treschold: 9   CV_score_mean:  0.768 Cv_score_std 0.034\n",
      "Treschold: 10   CV_score_mean:  0.757 Cv_score_std 0.032\n",
      "Treschold: 11   CV_score_mean:  0.743 Cv_score_std 0.031\n",
      "Treschold: 12   CV_score_mean:  0.764 Cv_score_std 0.012\n",
      "Treschold: 13   CV_score_mean:  0.759 Cv_score_std 0.032\n",
      "Treschold: 14   CV_score_mean:  0.767 Cv_score_std 0.021\n",
      "Treschold: 15   CV_score_mean:  0.739 Cv_score_std 0.01\n",
      "Treschold: 16   CV_score_mean:  0.765 Cv_score_std 0.019\n",
      "Treschold: 17   CV_score_mean:  0.744 Cv_score_std 0.022\n",
      "Treschold: 18   CV_score_mean:  0.759 Cv_score_std 0.031\n",
      "Treschold: 19   CV_score_mean:  0.753 Cv_score_std 0.015\n"
     ]
    },
    {
     "data": {
      "text/html": [
       "<div>\n",
       "<style scoped>\n",
       "    .dataframe tbody tr th:only-of-type {\n",
       "        vertical-align: middle;\n",
       "    }\n",
       "\n",
       "    .dataframe tbody tr th {\n",
       "        vertical-align: top;\n",
       "    }\n",
       "\n",
       "    .dataframe thead th {\n",
       "        text-align: right;\n",
       "    }\n",
       "</style>\n",
       "<table border=\"1\" class=\"dataframe\">\n",
       "  <thead>\n",
       "    <tr style=\"text-align: right;\">\n",
       "      <th></th>\n",
       "      <th>checking_account_status</th>\n",
       "      <th>duration</th>\n",
       "      <th>credit_history</th>\n",
       "      <th>purpose</th>\n",
       "      <th>credit_amount</th>\n",
       "      <th>savings</th>\n",
       "      <th>present_employment</th>\n",
       "      <th>installment_rate</th>\n",
       "      <th>personal</th>\n",
       "      <th>present_residence</th>\n",
       "      <th>property</th>\n",
       "      <th>age</th>\n",
       "      <th>other_installment_plans</th>\n",
       "      <th>housing</th>\n",
       "      <th>job</th>\n",
       "    </tr>\n",
       "  </thead>\n",
       "  <tbody>\n",
       "    <tr>\n",
       "      <th>703</th>\n",
       "      <td>1.398936</td>\n",
       "      <td>0.754763</td>\n",
       "      <td>1.307692</td>\n",
       "      <td>1.380282</td>\n",
       "      <td>-0.272304</td>\n",
       "      <td>1.285714</td>\n",
       "      <td>1.256684</td>\n",
       "      <td>0.918477</td>\n",
       "      <td>1.266010</td>\n",
       "      <td>-0.765977</td>\n",
       "      <td>1.310734</td>\n",
       "      <td>0.479693</td>\n",
       "      <td>1.382353</td>\n",
       "      <td>1.259813</td>\n",
       "      <td>1.293996</td>\n",
       "    </tr>\n",
       "    <tr>\n",
       "      <th>53</th>\n",
       "      <td>1.119355</td>\n",
       "      <td>-0.240857</td>\n",
       "      <td>1.337469</td>\n",
       "      <td>1.205128</td>\n",
       "      <td>0.037834</td>\n",
       "      <td>1.183099</td>\n",
       "      <td>1.304688</td>\n",
       "      <td>-0.870183</td>\n",
       "      <td>1.266010</td>\n",
       "      <td>-1.672459</td>\n",
       "      <td>1.310734</td>\n",
       "      <td>-0.399832</td>\n",
       "      <td>1.273171</td>\n",
       "      <td>1.259813</td>\n",
       "      <td>1.293996</td>\n",
       "    </tr>\n",
       "    <tr>\n",
       "      <th>438</th>\n",
       "      <td>1.497537</td>\n",
       "      <td>1.750384</td>\n",
       "      <td>1.173333</td>\n",
       "      <td>1.266667</td>\n",
       "      <td>0.043505</td>\n",
       "      <td>1.369469</td>\n",
       "      <td>1.384615</td>\n",
       "      <td>0.918477</td>\n",
       "      <td>1.266010</td>\n",
       "      <td>1.046987</td>\n",
       "      <td>1.299595</td>\n",
       "      <td>2.590552</td>\n",
       "      <td>1.273171</td>\n",
       "      <td>1.259813</td>\n",
       "      <td>1.250000</td>\n",
       "    </tr>\n",
       "    <tr>\n",
       "      <th>670</th>\n",
       "      <td>1.119355</td>\n",
       "      <td>0.256953</td>\n",
       "      <td>1.173333</td>\n",
       "      <td>1.380282</td>\n",
       "      <td>0.307565</td>\n",
       "      <td>1.285714</td>\n",
       "      <td>1.304688</td>\n",
       "      <td>0.024147</td>\n",
       "      <td>1.266010</td>\n",
       "      <td>0.140505</td>\n",
       "      <td>1.310734</td>\n",
       "      <td>-0.751642</td>\n",
       "      <td>1.273171</td>\n",
       "      <td>1.259813</td>\n",
       "      <td>1.285714</td>\n",
       "    </tr>\n",
       "    <tr>\n",
       "      <th>113</th>\n",
       "      <td>1.119355</td>\n",
       "      <td>1.252574</td>\n",
       "      <td>1.173333</td>\n",
       "      <td>1.386740</td>\n",
       "      <td>1.624677</td>\n",
       "      <td>1.369469</td>\n",
       "      <td>1.304688</td>\n",
       "      <td>0.918477</td>\n",
       "      <td>1.343348</td>\n",
       "      <td>-0.765977</td>\n",
       "      <td>1.231132</td>\n",
       "      <td>-0.927547</td>\n",
       "      <td>1.382353</td>\n",
       "      <td>1.259813</td>\n",
       "      <td>1.293996</td>\n",
       "    </tr>\n",
       "  </tbody>\n",
       "</table>\n",
       "</div>"
      ],
      "text/plain": [
       "     checking_account_status  duration  credit_history   purpose  \\\n",
       "703                 1.398936  0.754763        1.307692  1.380282   \n",
       "53                  1.119355 -0.240857        1.337469  1.205128   \n",
       "438                 1.497537  1.750384        1.173333  1.266667   \n",
       "670                 1.119355  0.256953        1.173333  1.380282   \n",
       "113                 1.119355  1.252574        1.173333  1.386740   \n",
       "\n",
       "     credit_amount   savings  present_employment  installment_rate  personal  \\\n",
       "703      -0.272304  1.285714            1.256684          0.918477  1.266010   \n",
       "53        0.037834  1.183099            1.304688         -0.870183  1.266010   \n",
       "438       0.043505  1.369469            1.384615          0.918477  1.266010   \n",
       "670       0.307565  1.285714            1.304688          0.024147  1.266010   \n",
       "113       1.624677  1.369469            1.304688          0.918477  1.343348   \n",
       "\n",
       "     present_residence  property       age  other_installment_plans   housing  \\\n",
       "703          -0.765977  1.310734  0.479693                 1.382353  1.259813   \n",
       "53           -1.672459  1.310734 -0.399832                 1.273171  1.259813   \n",
       "438           1.046987  1.299595  2.590552                 1.273171  1.259813   \n",
       "670           0.140505  1.310734 -0.751642                 1.273171  1.259813   \n",
       "113          -0.765977  1.231132 -0.927547                 1.382353  1.259813   \n",
       "\n",
       "          job  \n",
       "703  1.293996  \n",
       "53   1.293996  \n",
       "438  1.250000  \n",
       "670  1.285714  \n",
       "113  1.293996  "
      ]
     },
     "execution_count": 31,
     "metadata": {},
     "output_type": "execute_result"
    }
   ],
   "source": [
    "# Random Forest target encoding \n",
    "ranking_te=test(te_scaled_train,te_scaled_test,RandomForestClassifier())\n",
    "# Najlepszy wynik dla th =14\n",
    "te_scaled_train.head().iloc[:,ranking_te<=14]"
   ]
  },
  {
   "cell_type": "markdown",
   "metadata": {},
   "source": [
    "Zmienne są oczywiście inne niż dla XGB ale ponownie przy target encodingu różnica  między wartością maksymalną  a wszystkimi kolumnami nie jest duża."
   ]
  },
  {
   "cell_type": "code",
   "execution_count": 33,
   "metadata": {
    "pycharm": {
     "name": "#%%\n"
    },
    "scrolled": true
   },
   "outputs": [
    {
     "name": "stdout",
     "output_type": "stream",
     "text": [
      "[10  4  5 43  2 43 16  9 34 49 36 46 57 11 20 35 43 59 59 61  1 49 27  8\n",
      " 53 52 33 22 40 31 16  6 18 30 47 41 37 54 45  7 24 28 21 23  3 51 12 14\n",
      " 13 47 24 15 26 58 37 19 39 31 29 55 56]\n",
      "Treschold: 1   CV_score_mean:  0.601 Cv_score_std 0.019\n",
      "Treschold: 2   CV_score_mean:  0.621 Cv_score_std 0.037\n",
      "Treschold: 3   CV_score_mean:  0.656 Cv_score_std 0.021\n",
      "Treschold: 4   CV_score_mean:  0.724 Cv_score_std 0.023\n",
      "Treschold: 5   CV_score_mean:  0.719 Cv_score_std 0.02\n",
      "Treschold: 6   CV_score_mean:  0.731 Cv_score_std 0.032\n",
      "Treschold: 7   CV_score_mean:  0.729 Cv_score_std 0.034\n",
      "Treschold: 8   CV_score_mean:  0.747 Cv_score_std 0.021\n",
      "Treschold: 9   CV_score_mean:  0.735 Cv_score_std 0.018\n",
      "Treschold: 10   CV_score_mean:  0.749 Cv_score_std 0.009\n",
      "Treschold: 11   CV_score_mean:  0.752 Cv_score_std 0.028\n",
      "Treschold: 12   CV_score_mean:  0.757 Cv_score_std 0.01\n",
      "Treschold: 13   CV_score_mean:  0.753 Cv_score_std 0.029\n",
      "Treschold: 14   CV_score_mean:  0.741 Cv_score_std 0.029\n",
      "Treschold: 15   CV_score_mean:  0.756 Cv_score_std 0.03\n",
      "Treschold: 16   CV_score_mean:  0.744 Cv_score_std 0.035\n",
      "Treschold: 17   CV_score_mean:  0.744 Cv_score_std 0.035\n",
      "Treschold: 18   CV_score_mean:  0.745 Cv_score_std 0.043\n",
      "Treschold: 19   CV_score_mean:  0.764 Cv_score_std 0.017\n",
      "Treschold: 20   CV_score_mean:  0.755 Cv_score_std 0.031\n",
      "Treschold: 21   CV_score_mean:  0.752 Cv_score_std 0.027\n",
      "Treschold: 22   CV_score_mean:  0.743 Cv_score_std 0.018\n",
      "Treschold: 23   CV_score_mean:  0.729 Cv_score_std 0.029\n",
      "Treschold: 24   CV_score_mean:  0.748 Cv_score_std 0.041\n",
      "Treschold: 25   CV_score_mean:  0.748 Cv_score_std 0.041\n",
      "Treschold: 26   CV_score_mean:  0.74 Cv_score_std 0.04\n",
      "Treschold: 27   CV_score_mean:  0.748 Cv_score_std 0.043\n",
      "Treschold: 28   CV_score_mean:  0.748 Cv_score_std 0.022\n",
      "Treschold: 29   CV_score_mean:  0.749 Cv_score_std 0.014\n",
      "Treschold: 30   CV_score_mean:  0.748 Cv_score_std 0.028\n",
      "Treschold: 31   CV_score_mean:  0.74 Cv_score_std 0.043\n",
      "Treschold: 32   CV_score_mean:  0.74 Cv_score_std 0.043\n",
      "Treschold: 33   CV_score_mean:  0.761 Cv_score_std 0.018\n",
      "Treschold: 34   CV_score_mean:  0.745 Cv_score_std 0.043\n",
      "Treschold: 35   CV_score_mean:  0.747 Cv_score_std 0.02\n",
      "Treschold: 36   CV_score_mean:  0.743 Cv_score_std 0.02\n",
      "Treschold: 37   CV_score_mean:  0.759 Cv_score_std 0.024\n",
      "Treschold: 38   CV_score_mean:  0.759 Cv_score_std 0.024\n",
      "Treschold: 39   CV_score_mean:  0.719 Cv_score_std 0.011\n",
      "Treschold: 40   CV_score_mean:  0.747 Cv_score_std 0.024\n",
      "Treschold: 41   CV_score_mean:  0.731 Cv_score_std 0.028\n",
      "Treschold: 42   CV_score_mean:  0.731 Cv_score_std 0.028\n",
      "Treschold: 43   CV_score_mean:  0.747 Cv_score_std 0.03\n",
      "Treschold: 44   CV_score_mean:  0.747 Cv_score_std 0.03\n",
      "Treschold: 45   CV_score_mean:  0.749 Cv_score_std 0.03\n",
      "Treschold: 46   CV_score_mean:  0.751 Cv_score_std 0.035\n",
      "Treschold: 47   CV_score_mean:  0.744 Cv_score_std 0.009\n",
      "Treschold: 48   CV_score_mean:  0.744 Cv_score_std 0.009\n",
      "Treschold: 49   CV_score_mean:  0.749 Cv_score_std 0.039\n",
      "Treschold: 50   CV_score_mean:  0.749 Cv_score_std 0.039\n",
      "Treschold: 51   CV_score_mean:  0.752 Cv_score_std 0.026\n",
      "Treschold: 52   CV_score_mean:  0.756 Cv_score_std 0.034\n",
      "Treschold: 53   CV_score_mean:  0.747 Cv_score_std 0.018\n",
      "Treschold: 54   CV_score_mean:  0.761 Cv_score_std 0.018\n",
      "Treschold: 55   CV_score_mean:  0.751 Cv_score_std 0.007\n",
      "Treschold: 56   CV_score_mean:  0.74 Cv_score_std 0.014\n",
      "Treschold: 57   CV_score_mean:  0.741 Cv_score_std 0.04\n",
      "Treschold: 58   CV_score_mean:  0.756 Cv_score_std 0.037\n",
      "Treschold: 59   CV_score_mean:  0.744 Cv_score_std 0.023\n",
      "Treschold: 60   CV_score_mean:  0.744 Cv_score_std 0.023\n",
      "Treschold: 61   CV_score_mean:  0.748 Cv_score_std 0.036\n"
     ]
    },
    {
     "data": {
      "text/html": [
       "<div>\n",
       "<style scoped>\n",
       "    .dataframe tbody tr th:only-of-type {\n",
       "        vertical-align: middle;\n",
       "    }\n",
       "\n",
       "    .dataframe tbody tr th {\n",
       "        vertical-align: top;\n",
       "    }\n",
       "\n",
       "    .dataframe thead th {\n",
       "        text-align: right;\n",
       "    }\n",
       "</style>\n",
       "<table border=\"1\" class=\"dataframe\">\n",
       "  <thead>\n",
       "    <tr style=\"text-align: right;\">\n",
       "      <th></th>\n",
       "      <th>checking_account_status_1</th>\n",
       "      <th>checking_account_status_2</th>\n",
       "      <th>checking_account_status_3</th>\n",
       "      <th>checking_account_status_4</th>\n",
       "      <th>duration</th>\n",
       "      <th>credit_history_1</th>\n",
       "      <th>credit_history_2</th>\n",
       "      <th>credit_history_3</th>\n",
       "      <th>credit_history_4</th>\n",
       "      <th>credit_history_5</th>\n",
       "      <th>...</th>\n",
       "      <th>housing_1</th>\n",
       "      <th>housing_2</th>\n",
       "      <th>housing_3</th>\n",
       "      <th>existing_credits</th>\n",
       "      <th>job_1</th>\n",
       "      <th>job_3</th>\n",
       "      <th>job_4</th>\n",
       "      <th>dependents</th>\n",
       "      <th>telephone_1</th>\n",
       "      <th>telephone_2</th>\n",
       "    </tr>\n",
       "  </thead>\n",
       "  <tbody>\n",
       "    <tr>\n",
       "      <th>703</th>\n",
       "      <td>1</td>\n",
       "      <td>0</td>\n",
       "      <td>0</td>\n",
       "      <td>0</td>\n",
       "      <td>0.754763</td>\n",
       "      <td>1</td>\n",
       "      <td>0</td>\n",
       "      <td>0</td>\n",
       "      <td>0</td>\n",
       "      <td>0</td>\n",
       "      <td>...</td>\n",
       "      <td>1</td>\n",
       "      <td>0</td>\n",
       "      <td>0</td>\n",
       "      <td>1.027079</td>\n",
       "      <td>1</td>\n",
       "      <td>0</td>\n",
       "      <td>0</td>\n",
       "      <td>-0.42829</td>\n",
       "      <td>1</td>\n",
       "      <td>0</td>\n",
       "    </tr>\n",
       "    <tr>\n",
       "      <th>53</th>\n",
       "      <td>0</td>\n",
       "      <td>1</td>\n",
       "      <td>0</td>\n",
       "      <td>0</td>\n",
       "      <td>-0.240857</td>\n",
       "      <td>0</td>\n",
       "      <td>1</td>\n",
       "      <td>0</td>\n",
       "      <td>0</td>\n",
       "      <td>0</td>\n",
       "      <td>...</td>\n",
       "      <td>1</td>\n",
       "      <td>0</td>\n",
       "      <td>0</td>\n",
       "      <td>-0.704926</td>\n",
       "      <td>1</td>\n",
       "      <td>0</td>\n",
       "      <td>0</td>\n",
       "      <td>-0.42829</td>\n",
       "      <td>0</td>\n",
       "      <td>1</td>\n",
       "    </tr>\n",
       "    <tr>\n",
       "      <th>438</th>\n",
       "      <td>0</td>\n",
       "      <td>0</td>\n",
       "      <td>1</td>\n",
       "      <td>0</td>\n",
       "      <td>1.750384</td>\n",
       "      <td>0</td>\n",
       "      <td>0</td>\n",
       "      <td>1</td>\n",
       "      <td>0</td>\n",
       "      <td>0</td>\n",
       "      <td>...</td>\n",
       "      <td>1</td>\n",
       "      <td>0</td>\n",
       "      <td>0</td>\n",
       "      <td>1.027079</td>\n",
       "      <td>0</td>\n",
       "      <td>0</td>\n",
       "      <td>0</td>\n",
       "      <td>-0.42829</td>\n",
       "      <td>1</td>\n",
       "      <td>0</td>\n",
       "    </tr>\n",
       "    <tr>\n",
       "      <th>670</th>\n",
       "      <td>0</td>\n",
       "      <td>1</td>\n",
       "      <td>0</td>\n",
       "      <td>0</td>\n",
       "      <td>0.256953</td>\n",
       "      <td>0</td>\n",
       "      <td>0</td>\n",
       "      <td>1</td>\n",
       "      <td>0</td>\n",
       "      <td>0</td>\n",
       "      <td>...</td>\n",
       "      <td>1</td>\n",
       "      <td>0</td>\n",
       "      <td>0</td>\n",
       "      <td>1.027079</td>\n",
       "      <td>0</td>\n",
       "      <td>1</td>\n",
       "      <td>0</td>\n",
       "      <td>-0.42829</td>\n",
       "      <td>0</td>\n",
       "      <td>1</td>\n",
       "    </tr>\n",
       "    <tr>\n",
       "      <th>113</th>\n",
       "      <td>0</td>\n",
       "      <td>1</td>\n",
       "      <td>0</td>\n",
       "      <td>0</td>\n",
       "      <td>1.252574</td>\n",
       "      <td>0</td>\n",
       "      <td>0</td>\n",
       "      <td>1</td>\n",
       "      <td>0</td>\n",
       "      <td>0</td>\n",
       "      <td>...</td>\n",
       "      <td>1</td>\n",
       "      <td>0</td>\n",
       "      <td>0</td>\n",
       "      <td>1.027079</td>\n",
       "      <td>1</td>\n",
       "      <td>0</td>\n",
       "      <td>0</td>\n",
       "      <td>-0.42829</td>\n",
       "      <td>0</td>\n",
       "      <td>1</td>\n",
       "    </tr>\n",
       "  </tbody>\n",
       "</table>\n",
       "<p>5 rows × 54 columns</p>\n",
       "</div>"
      ],
      "text/plain": [
       "     checking_account_status_1  checking_account_status_2  \\\n",
       "703                          1                          0   \n",
       "53                           0                          1   \n",
       "438                          0                          0   \n",
       "670                          0                          1   \n",
       "113                          0                          1   \n",
       "\n",
       "     checking_account_status_3  checking_account_status_4  duration  \\\n",
       "703                          0                          0  0.754763   \n",
       "53                           0                          0 -0.240857   \n",
       "438                          1                          0  1.750384   \n",
       "670                          0                          0  0.256953   \n",
       "113                          0                          0  1.252574   \n",
       "\n",
       "     credit_history_1  credit_history_2  credit_history_3  credit_history_4  \\\n",
       "703                 1                 0                 0                 0   \n",
       "53                  0                 1                 0                 0   \n",
       "438                 0                 0                 1                 0   \n",
       "670                 0                 0                 1                 0   \n",
       "113                 0                 0                 1                 0   \n",
       "\n",
       "     credit_history_5  ...  housing_1  housing_2  housing_3  existing_credits  \\\n",
       "703                 0  ...          1          0          0          1.027079   \n",
       "53                  0  ...          1          0          0         -0.704926   \n",
       "438                 0  ...          1          0          0          1.027079   \n",
       "670                 0  ...          1          0          0          1.027079   \n",
       "113                 0  ...          1          0          0          1.027079   \n",
       "\n",
       "     job_1  job_3  job_4  dependents  telephone_1  telephone_2  \n",
       "703      1      0      0    -0.42829            1            0  \n",
       "53       1      0      0    -0.42829            0            1  \n",
       "438      0      0      0    -0.42829            1            0  \n",
       "670      0      1      0    -0.42829            0            1  \n",
       "113      1      0      0    -0.42829            0            1  \n",
       "\n",
       "[5 rows x 54 columns]"
      ]
     },
     "execution_count": 33,
     "metadata": {},
     "output_type": "execute_result"
    }
   ],
   "source": [
    "# Random Forest & One-Hot Encoding\n",
    "ranking_oh=test(ohe_scaled_train,ohe_scaled_test,RandomForestClassifier())\n",
    "# Najlepszy wynik dla th=54 prawie wszystkie kolumny zostały wybrane \n",
    "ohe_scaled_train.head().iloc[:,ranking_oh<=54]\n"
   ]
  },
  {
   "cell_type": "markdown",
   "metadata": {},
   "source": [
    "W przypadku Random Rorest, dla uzyskania dobrej jakości wyników, wymagana jest większa liczba zmiennych niż dla XGB. Ponadto w przypadku RF wynik, pomijając małe odstępstwa, konsekwentnie się poprawia wraz ze wzrostem liczby używanych zmiennych. Wyniki w XGB są takie tylko dla Target Encodingu. Dla One-Hot Encodingu wynik najlepszy usyskujemy przy około połowie zmiennych. Ogólnym faktem jest natomiast wynik zbliżony do najlepszego przy uzyciu wszyskich kolumn dla 4 sprawdzanych przypadków."
   ]
  }
 ],
 "metadata": {
  "kernelspec": {
   "display_name": "Python 3",
   "language": "python",
   "name": "python3"
  },
  "language_info": {
   "codemirror_mode": {
    "name": "ipython",
    "version": 3
   },
   "file_extension": ".py",
   "mimetype": "text/x-python",
   "name": "python",
   "nbconvert_exporter": "python",
   "pygments_lexer": "ipython3",
   "version": "3.7.6"
  },
  "pycharm": {
   "stem_cell": {
    "cell_type": "raw",
    "metadata": {
     "collapsed": false
    },
    "source": []
   }
  }
 },
 "nbformat": 4,
 "nbformat_minor": 2
}
