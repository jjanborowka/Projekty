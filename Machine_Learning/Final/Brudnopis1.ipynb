{
 "cells": [
  {
   "cell_type": "markdown",
   "metadata": {},
   "source": [
    "### Skalowanie & Kodowanie & Strojenie hiperparametrów modeli"
   ]
  },
  {
   "cell_type": "code",
   "execution_count": 1,
   "metadata": {},
   "outputs": [],
   "source": [
    "# Pakiety\n",
    "import pandas as pd \n",
    "import numpy as np\n",
    "\n",
    "import category_encoders as ce\n",
    "from sklearn.ensemble import RandomForestClassifier\n",
    "import xgboost as xgb\n",
    "from sklearn.model_selection import GridSearchCV, train_test_split, RandomizedSearchCV\n",
    "from datetime import datetime\n",
    "import matplotlib.pyplot as plt\n",
    "\n",
    "from sklearn import preprocessing \n",
    "from sklearn.preprocessing import StandardScaler,FunctionTransformer\n",
    "\n",
    "from sklearn import metrics\n",
    "from sklearn.metrics import recall_score\n",
    "from sklearn.metrics import accuracy_score\n",
    "from sklearn.pipeline import Pipeline, FeatureUnion\n",
    "from sklearn.metrics import precision_score\n",
    "\n",
    "np.random.seed(123) \n",
    "\n",
    "# Wczytywanie danych\n",
    "#data = pd.read_csv('/home/elzbieta/WUM_project1/Feature_Engineering/german_credit_data_dataset.csv')\n",
    "data = pd.read_csv('german_credit_data_dataset.csv')\n",
    "data = pd.DataFrame(data)"
   ]
  },
  {
   "cell_type": "code",
   "execution_count": 2,
   "metadata": {},
   "outputs": [],
   "source": [
    "# Kolumny z danymi numerycznymi\n",
    "num = data.select_dtypes(include=['float64', 'int']).drop('customer_type', axis = 1).columns\n",
    "\n",
    "# Kolumny z danymi kategorycznymi\n",
    "cat = data.select_dtypes(include=['object']).columns.tolist()"
   ]
  },
  {
   "cell_type": "markdown",
   "metadata": {},
   "source": [
    "### 1. Skalowanie danych numerycznych"
   ]
  },
  {
   "cell_type": "code",
   "execution_count": 3,
   "metadata": {},
   "outputs": [],
   "source": [
    "scaler = StandardScaler()\n",
    "scaled = data.copy()\n",
    "scaled[num] = scaler.fit_transform(data[num])"
   ]
  },
  {
   "cell_type": "markdown",
   "metadata": {},
   "source": [
    "### 2. Podział na zbiory trenigowe i testowe"
   ]
  },
  {
   "cell_type": "code",
   "execution_count": 4,
   "metadata": {},
   "outputs": [],
   "source": [
    "X_train, X_test, Y_train, Y_test = train_test_split(data.drop('customer_type', axis=1), data['customer_type'])"
   ]
  },
  {
   "cell_type": "markdown",
   "metadata": {},
   "source": [
    "### 3. Model"
   ]
  },
  {
   "cell_type": "markdown",
   "metadata": {},
   "source": [
    "#### 3.1. Random Forest  \n",
    "Hiperparametry:  \n",
    "\n",
    "**n_estimators** - ilość drzew składowych (int, domyślnie 100)  \n",
    "**criterion** - funkcja miary jakości podziału (string, domyślnie gini)  \n",
    "**max_depth** - maksymalna głębokość drzewa (int, domyślnie None)   \n",
    "**min_samples_split** - minimalna liczba obserwacji wymagana do podziału węzła wewnętrznego (int/float, domyślnie 2)  \n",
    "**min_samples_leaf** - minimalna liczba obserwacji wymagana względem liścia (int, domyślnie 1)  \n",
    "**min_weight_fraction_leaf** - minimalna frakcja wag wymagana względem liścia (domyślnie 0)  \n",
    "**max_features** - ilość cech branych pod uwagę podczas poszukiwania najlepszego podziału (string). Jeśli “sqrt”, to max_features=sqrt(n_features), jeśli “log2”, to max_features=log2(n_features).  \n",
    "**max_leaf_nodes** - maksymalna liczba liści (int, domyślnie None)  \n",
    "**min_impurity_decrease** - węzeł zostanie podzielony, jeśli podział ten spowoduje zmniejszenie miary impurity większe lub równe tej wartości. (float, domyślnie 0)  \n",
    "**min_impurity_split** - Próg zatrzymania wzrostu drzew. Węzeł rozdzieli się, jeśli jego impurity przekroczy próg, w przeciwnym razie będzie liściem. (float, default 1e-7)  \n",
    "**bootstrap** - stosowanie bootstrap (bool, domyślnie True)  \n",
    "**oob_score** - Gdy zestaw treningowy dla bieżącego drzewa jest rysowany przez próbkowanie z wymianą, około jedna trzecia przypadków jest pomijana. Te dane OOB są używane do uzyskania bezstronnego oszacowania błędu klasyfikacji (bool, domyślnie False)  \n",
    "**oob_score** - liczba powtórzeń instukcji fit, predict, ect.  \n",
    "**random_state** - kontroluje losowość procedury bootstrap   \n",
    "**verbose** - int, domyślnie 0 - im wyższa liczba tym więcej informacji uzyskami na temat procedur fit i predict  \n",
    "**warm_start** - Po ustawieniu wartości True ponownie użyje bieżącego rozwiązania, aby dopasować i dodać więcej estymatorów do zestawu, w przeciwnym razie po prostu zmieni cały nowy las. (bool, domyślnie False)  \n",
    "**ccp_alpha** - dotyczy przycinania, zostanie wybrane poddrzewo o największym koszcie, który jest mniejszy niż ccp_alpha. Domyślnie 0.0, czyli przycinanie nie jest wykonywane.  \n",
    "**max_samples** - dotyczy procedury bootstrap (domyślnie None)"
   ]
  },
  {
   "cell_type": "code",
   "execution_count": 9,
   "metadata": {},
   "outputs": [],
   "source": [
    "def makePipeline(cat_indices, num_indices, classificator, encoder, scaled = False):\n",
    "    \n",
    "    if scaled == True:\n",
    "        pipeline = Pipeline(steps = [\n",
    "        ('feature_processing', FeatureUnion(transformer_list = [\n",
    "                ('categorical', FunctionTransformer(lambda data: data[cat_indices])),\n",
    "\n",
    "                #numeric\n",
    "                ('numeric', Pipeline(steps = [\n",
    "                    ('select', FunctionTransformer(lambda data: data[num_indices])),\n",
    "                    ('scale', StandardScaler())\n",
    "                            ]))\n",
    "            ])),\n",
    "        ('encoder', encoder),\n",
    "        ('classifier', classificator)\n",
    "        ]\n",
    "    )\n",
    "    else:\n",
    "        pipeline = Pipeline([\n",
    "        ('encoder', encoder),\n",
    "        ('classifier', classificator)\n",
    "        ])\n",
    "    return pipeline\n",
    "        \n",
    "\n",
    "# Funkcja, która zmierzy nam ilsoc czasu potrzebna na wykonanie danej funkcji\n",
    "\n",
    "def timer(start_time=None):\n",
    "    if not start_time:\n",
    "        start_time = datetime.now()\n",
    "        return start_time\n",
    "    elif start_time:\n",
    "        thour, temp_sec = divmod((datetime.now() - start_time).total_seconds(), 3600)\n",
    "        tmin, tsec = divmod(temp_sec, 60)\n",
    "        print('\\n Time taken: %i hours %i minutes and %s seconds.' % (thour, tmin, round(tsec, 2)))"
   ]
  },
  {
   "cell_type": "code",
   "execution_count": 22,
   "metadata": {},
   "outputs": [],
   "source": [
    "# Model\n",
    "rf_classifier = RandomForestClassifier()\n",
    "\n",
    "# Hiperparametry\n",
    "rf_param_grid = {\n",
    "    'classifier__n_estimators' : [50, 100, 200],\n",
    "    'classifier__max_depth' : [None, 4, 8],\n",
    "    'classifier__min_samples_split' : [1.0, 2, 4],\n",
    "    'classifier__min_samples_leaf' : [1, 2, 3],\n",
    "    'classifier__min_weight_fraction_leaf' : [0, 0.2, 0.5],\n",
    "    'classifier__max_features' : ['sqrt', 'log2', 'auto'],\n",
    "    'classifier__max_leaf_nodes' : [None, 4, 10],\n",
    "    'classifier__min_impurity_decrease' : [1e-7, 1e-5, 1e-3],\n",
    "    'classifier__oob_score' : [True, False],\n",
    "    'classifier__random_state' : [None, 42],\n",
    "    'classifier__ccp_alpha' : [0.0, 0.1, 0.2],\n",
    "    'classifier__max_samples' : [None, 0.1, 0.5, 0.9]    \n",
    "}"
   ]
  },
  {
   "cell_type": "code",
   "execution_count": 38,
   "metadata": {},
   "outputs": [
    {
     "name": "stdout",
     "output_type": "stream",
     "text": [
      "{'classifier__random_state': None, 'classifier__oob_score': True, 'classifier__n_estimators': 200, 'classifier__min_weight_fraction_leaf': 0, 'classifier__min_samples_split': 2, 'classifier__min_samples_leaf': 2, 'classifier__min_impurity_decrease': 1e-07, 'classifier__max_samples': 0.1, 'classifier__max_leaf_nodes': 10, 'classifier__max_features': 'log2', 'classifier__max_depth': None, 'classifier__ccp_alpha': 0.0}\n"
     ]
    }
   ],
   "source": [
    "# one-hot-encoding random\n",
    "rf_ohe_pipeline = makePipeline(cat, num, rf_classifier, ce.OneHotEncoder(), False)\n",
    "\n",
    "rf_ohe_random_search = RandomizedSearchCV(rf_ohe_pipeline, param_distributions = rf_param_grid, n_iter = 1000,\n",
    "                                   scoring = 'roc_auc', n_jobs = -1, cv = 5, random_state = 1001 )\n",
    "\n",
    "# Here we go\n",
    "start_time = timer(None) # aktualna godzina\n",
    "rf_ohe_random_search.fit(X_train, Y_train)\n",
    "timer(start_time) # ile czasu minelo od start_time\n",
    "print(rf_ohe_random_search.best_score_)\n",
    "print(rf_ohe_random_search.best_params_)"
   ]
  },
  {
   "cell_type": "code",
   "execution_count": 39,
   "metadata": {},
   "outputs": [
    {
     "name": "stdout",
     "output_type": "stream",
     "text": [
      "{'classifier__random_state': 42, 'classifier__oob_score': False, 'classifier__n_estimators': 200, 'classifier__min_weight_fraction_leaf': 0, 'classifier__min_samples_split': 2, 'classifier__min_samples_leaf': 1, 'classifier__min_impurity_decrease': 0.001, 'classifier__max_samples': 0.1, 'classifier__max_leaf_nodes': 4, 'classifier__max_features': 'sqrt', 'classifier__max_depth': 4, 'classifier__ccp_alpha': 0.0}\n"
     ]
    }
   ],
   "source": [
    "# one-hot-encoding-scaled random\n",
    "rf_ohe_scaled_pipeline = makePipeline(cat, num, rf_classifier, ce.OneHotEncoder(), True)\n",
    "\n",
    "rf_ohe_scaled_random_search = RandomizedSearchCV(rf_ohe_scaled_pipeline, param_distributions = rf_param_grid, n_iter = 1000,\n",
    "                                   scoring = 'roc_auc', n_jobs = -1, cv = 5, random_state = 1001 )\n",
    "\n",
    "# Here we go\n",
    "start_time = timer(None) # aktualna godzina\n",
    "rf_ohe_scaled_random_search.fit(X_train, Y_train)\n",
    "timer(start_time) # ile czasu minelo od start_time\n",
    "print(rf_ohe_scaled_random_search.best_score_)\n",
    "print(rf_ohe_scaled_random_search.best_params_)"
   ]
  },
  {
   "cell_type": "code",
   "execution_count": 40,
   "metadata": {},
   "outputs": [
    {
     "name": "stdout",
     "output_type": "stream",
     "text": [
      "{'classifier__random_state': None, 'classifier__oob_score': True, 'classifier__n_estimators': 200, 'classifier__min_weight_fraction_leaf': 0, 'classifier__min_samples_split': 2, 'classifier__min_samples_leaf': 2, 'classifier__min_impurity_decrease': 1e-05, 'classifier__max_samples': 0.9, 'classifier__max_leaf_nodes': None, 'classifier__max_features': 'auto', 'classifier__max_depth': 8, 'classifier__ccp_alpha': 0.0}\n"
     ]
    }
   ],
   "source": [
    "# target random\n",
    "rf_target_pipeline = makePipeline(cat, num, rf_classifier, ce.TargetEncoder(), False)\n",
    "\n",
    "rf_target_random_search = RandomizedSearchCV(rf_target_pipeline, param_distributions = rf_param_grid, n_iter = 1000,\n",
    "                                   scoring = 'roc_auc', n_jobs = -1, cv = 5, random_state = 1001 )\n",
    "\n",
    "# Here we go\n",
    "start_time = timer(None) # aktualna godzina\n",
    "rf_target_random_search.fit(X_train, Y_train)\n",
    "timer(start_time) # ile czasu minelo od start_time\n",
    "print(rf_target_random_search.best_score_)\n",
    "print(rf_target_random_search.best_params_)"
   ]
  },
  {
   "cell_type": "code",
   "execution_count": 41,
   "metadata": {},
   "outputs": [
    {
     "name": "stdout",
     "output_type": "stream",
     "text": [
      "{'classifier__random_state': None, 'classifier__oob_score': True, 'classifier__n_estimators': 200, 'classifier__min_weight_fraction_leaf': 0, 'classifier__min_samples_split': 2, 'classifier__min_samples_leaf': 3, 'classifier__min_impurity_decrease': 1e-05, 'classifier__max_samples': 0.9, 'classifier__max_leaf_nodes': None, 'classifier__max_features': 'log2', 'classifier__max_depth': None, 'classifier__ccp_alpha': 0.0}\n"
     ]
    }
   ],
   "source": [
    "# target-scaled random\n",
    "rf_target_scaled_pipeline = makePipeline(cat, num, rf_classifier, ce.TargetEncoder(), True)\n",
    "\n",
    "rf_target_scaled_random_search = RandomizedSearchCV(rf_target_scaled_pipeline, param_distributions = rf_param_grid, n_iter = 1000,\n",
    "                                   scoring = 'roc_auc', n_jobs = -1, cv = 5, random_state = 1001 )\n",
    "\n",
    "# Here we go\n",
    "start_time = timer(None) # aktualna godzina\n",
    "rf_target_scaled_random_search.fit(X_train, Y_train)\n",
    "timer(start_time) # ile czasu minelo od start_time\n",
    "print(rf_target_scaled_random_search.best_score_)\n",
    "print(rf_target_scaled_random_search.best_params_)"
   ]
  },
  {
   "cell_type": "markdown",
   "metadata": {},
   "source": [
    "#### 3.2. XGBoost\n",
    "\n",
    "Hiperparametry:  \n",
    "\n",
    "-**n_estimators** - ilość drzew składowych (int, domyślnie 100)\n",
    "\n",
    "-**max_depth** - do uzpełnienia\n",
    "\n",
    "-**min_child_weight** - do uzpełnienia\n",
    "\n",
    "-**gamma** - do uzpełnieni\n",
    "\n",
    "-**subsample** - do uzpełnieni\n",
    "\n",
    "-**colsample_bytree** - do uzpełnieni\n",
    "\n",
    "-**learning_rate** - do uzpełnieni"
   ]
  },
  {
   "cell_type": "code",
   "execution_count": 10,
   "metadata": {},
   "outputs": [],
   "source": [
    "# Funkcja, która znajduje optymalną ilosć drzew (n_estimators parameter) uzywając funkcji cv xgboosta dla\n",
    "# danej wartosci learning_rate i zmienia wartosc n_estimators odpowiednio\n",
    "\n",
    "def modelfit(alg, dtrain, predictors, cv_folds = 5, early_stopping_rounds = 50):\n",
    "    xgb_param = alg.get_xgb_params()\n",
    "    xgtrain = xgb.DMatrix(dtrain[predictors].values, label=dtrain[target].values)\n",
    "    cvresult = xgb.cv(xgb_param, xgtrain, num_boost_round = alg.get_params()['n_estimators'],\n",
    "                      nfold=cv_folds, metrics='auc', early_stopping_rounds = early_stopping_rounds)\n",
    "    alg.set_params(n_estimators = cvresult.shape[0])"
   ]
  },
  {
   "cell_type": "code",
   "execution_count": 13,
   "metadata": {},
   "outputs": [],
   "source": [
    "# siatka parametrów do strojenia\n",
    "\n",
    "param_grid = {\n",
    "    'classifier__max_depth': range (2, 10, 1),\n",
    "    'classifier__min_child_weight': range(1,10,1),\n",
    "    'classifier__gamma': [i/10.0 for i in range(0,50,5)],\n",
    "    'classifier__subsample': [i/100.0 for i in range(50,100,5)],\n",
    "    'classifier__colsample_bytree': [i/100.0 for i in range(50,100,5)],\n",
    "    'classifier__learning_rate': [0.0001,0.01,0.1,0.2,0.3],\n",
    "    'classifier__n_estimators': [50,100,150,300,500,600,700,800,1000]\n",
    "    }\n",
    "\n",
    "# domyslny classifier\n",
    "\n",
    "xgb_classifier = xgb.XGBClassifier(learning_rate=0.02, n_estimators=600, objective='binary:logistic',\n",
    "                    silent=True, nthread=4)\n"
   ]
  },
  {
   "cell_type": "code",
   "execution_count": 42,
   "metadata": {},
   "outputs": [
    {
     "name": "stdout",
     "output_type": "stream",
     "text": [
      "{'classifier__subsample': 0.6, 'classifier__n_estimators': 700, 'classifier__min_child_weight': 3, 'classifier__max_depth': 2, 'classifier__learning_rate': 0.01, 'classifier__gamma': 1.0, 'classifier__colsample_bytree': 0.75}\n"
     ]
    }
   ],
   "source": [
    "# one-hot-encoding random\n",
    "xgb_ohe_pipeline = makePipeline(cat, num, xgb_classifier, ce.OneHotEncoder(), False)\n",
    "\n",
    "ohe_random_search = RandomizedSearchCV(xgb_ohe_pipeline, param_distributions = param_grid, n_iter = 1000,\n",
    "                                   scoring = 'roc_auc', n_jobs = 1, cv = 5, random_state = 1001 )\n",
    "\n",
    "# Here we go\n",
    "start_time = timer(None) # aktualna godzina\n",
    "ohe_random_search.fit(X_train, Y_train)\n",
    "timer(start_time) # ile czasu minelo od start_time\n",
    "print(ohe_random_search.best_score_)\n",
    "print(ohe_random_search.best_params_)"
   ]
  },
  {
   "cell_type": "code",
   "execution_count": 43,
   "metadata": {},
   "outputs": [
    {
     "name": "stdout",
     "output_type": "stream",
     "text": [
      "{'classifier__subsample': 0.6, 'classifier__n_estimators': 700, 'classifier__min_child_weight': 3, 'classifier__max_depth': 2, 'classifier__learning_rate': 0.01, 'classifier__gamma': 1.0, 'classifier__colsample_bytree': 0.75}\n"
     ]
    }
   ],
   "source": [
    "# one-hot-encoding-scaled random\n",
    "xgb_ohe_scaled_pipeline = makePipeline(cat, num, xgb_classifier, ce.OneHotEncoder(), True)\n",
    "\n",
    "ohe_scaled_random_search = RandomizedSearchCV(xgb_ohe_scaled_pipeline, param_distributions = param_grid, n_iter = 1000,\n",
    "                                   scoring = 'roc_auc', n_jobs = 1, cv = 5, random_state = 1001 )\n",
    "\n",
    "# Here we go\n",
    "start_time = timer(None) # aktualna godzina\n",
    "ohe_scaled_random_search.fit(X_train, Y_train)\n",
    "timer(start_time) # ile czasu minelo od start_time\n",
    "print(ohe_scaled_random_search.best_score_)\n",
    "print(ohe_scaled_random_search.best_params_)"
   ]
  },
  {
   "cell_type": "code",
   "execution_count": 44,
   "metadata": {},
   "outputs": [
    {
     "name": "stdout",
     "output_type": "stream",
     "text": [
      "{'classifier__subsample': 0.6, 'classifier__n_estimators': 50, 'classifier__min_child_weight': 3, 'classifier__max_depth': 4, 'classifier__learning_rate': 0.1, 'classifier__gamma': 4.5, 'classifier__colsample_bytree': 0.9}\n"
     ]
    }
   ],
   "source": [
    "# target random\n",
    "xgb_target_pipeline = makePipeline(cat, num, xgb_classifier, ce.TargetEncoder(), False)\n",
    "\n",
    "target_random_search = RandomizedSearchCV(xgb_target_pipeline, param_distributions = param_grid, n_iter = 1000,\n",
    "                                   scoring = 'roc_auc', n_jobs = 1, cv = 5, random_state = 1001 )\n",
    "\n",
    "# Here we go\n",
    "start_time = timer(None) # aktualna godzina\n",
    "target_random_search.fit(X_train, Y_train)\n",
    "timer(start_time) # ile czasu minelo od start_time\n",
    "print(target_random_search.best_score_)\n",
    "print(target_random_search.best_params_)"
   ]
  },
  {
   "cell_type": "code",
   "execution_count": 45,
   "metadata": {},
   "outputs": [
    {
     "name": "stdout",
     "output_type": "stream",
     "text": [
      "{'classifier__subsample': 0.95, 'classifier__n_estimators': 600, 'classifier__min_child_weight': 4, 'classifier__max_depth': 2, 'classifier__learning_rate': 0.2, 'classifier__gamma': 2.0, 'classifier__colsample_bytree': 0.75}\n"
     ]
    }
   ],
   "source": [
    "# target-scaled random\n",
    "xgb_target_scaled_pipeline = makePipeline(cat, num, xgb_classifier, ce.TargetEncoder(), True)\n",
    "\n",
    "target_scaled_random_search = RandomizedSearchCV(xgb_target_scaled_pipeline, param_distributions = param_grid, n_iter = 1000,\n",
    "                                   scoring = 'roc_auc', n_jobs = 1, cv = 5, random_state = 1001 )\n",
    "\n",
    "# Here we go\n",
    "start_time = timer(None) # aktualna godzina\n",
    "target_scaled_random_search.fit(X_train, Y_train)\n",
    "timer(start_time) # ile czasu minelo od start_time\n",
    "print(target_scaled_random_search.best_score_)\n",
    "print(target_scaled_random_search.best_params_)"
   ]
  },
  {
   "cell_type": "markdown",
   "metadata": {},
   "source": [
    "### 4. Ewaluacja modeli"
   ]
  },
  {
   "cell_type": "code",
   "execution_count": 26,
   "metadata": {},
   "outputs": [],
   "source": [
    "def evaluateModel(model, X_train, Y_train, X_test, Y_test):\n",
    "    model.fit(X_train, Y_train)\n",
    "    y_pred = model.predict(X_test)\n",
    "    y_proba = model.predict_proba(X_test)[:, 1]\n",
    "    y_true = Y_test\n",
    "    print(\"Accuracy: \" + str(accuracy_score(y_true, y_pred, normalize=False)))\n",
    "    print(\"Precision: \" + str(precision_score(y_true, y_pred, average='macro')))\n",
    "    print(\"Recall: \" + str(recall_score(y_true, y_pred)))\n",
    "    fpr, tpr, thresholds = metrics.roc_curve(y_true, y_proba, pos_label=2)\n",
    "    print(\"AUC: \" + str(metrics.auc(fpr, tpr)))\n",
    "    plt.figure()\n",
    "    plt.plot([0, 1], [0, 1], 'k--')\n",
    "    plt.plot(fpr, tpr)\n",
    "    plt.xlabel('False positive rate')\n",
    "    plt.ylabel('True positive rate')\n",
    "    plt.title('ROC curve')\n",
    "    plt.show()\n",
    "    \n",
    "def returnAUC(model, X_train, Y_train, X_test, Y_test):\n",
    "    model.fit(X_train, Y_train)\n",
    "    y_proba = model.predict_proba(X_test)[:, 1]\n",
    "    y_true = Y_test\n",
    "    fpr, tpr, thresholds = metrics.roc_curve(y_true, y_proba, pos_label=2)\n",
    "    return metrics.auc(fpr, tpr)"
   ]
  },
  {
   "cell_type": "code",
   "execution_count": 30,
   "metadata": {},
   "outputs": [],
   "source": [
    "rf_ohe = rf_ohe_random_search.best_estimator_\n",
    "\n",
    "rf_ohe_scaled = rf_ohe_scaled_random_search.best_estimator_\n",
    "\n",
    "rf_target = rf_target_random_search.best_estimator_\n",
    "\n",
    "rf_target_scaled = rf_target_scaled_random_search.best_estimator_"
   ]
  },
  {
   "cell_type": "code",
   "execution_count": 28,
   "metadata": {},
   "outputs": [],
   "source": [
    "xgb_ohe = ohe_random_search.best_estimator_\n",
    "\n",
    "xgb_ohe_scaled = ohe_scaled_random_search.best_estimator_\n",
    "\n",
    "xgb_target = target_random_search.best_estimator_\n",
    "\n",
    "xgb_target_scaled = target_scaled_random_search.best_estimator_"
   ]
  },
  {
   "cell_type": "code",
   "execution_count": 46,
   "metadata": {},
   "outputs": [
    {
     "data": {
      "text/html": [
       "<div>\n",
       "<style scoped>\n",
       "    .dataframe tbody tr th:only-of-type {\n",
       "        vertical-align: middle;\n",
       "    }\n",
       "\n",
       "    .dataframe tbody tr th {\n",
       "        vertical-align: top;\n",
       "    }\n",
       "\n",
       "    .dataframe thead th {\n",
       "        text-align: right;\n",
       "    }\n",
       "</style>\n",
       "<table border=\"1\" class=\"dataframe\">\n",
       "  <thead>\n",
       "    <tr style=\"text-align: right;\">\n",
       "      <th></th>\n",
       "      <th>Model</th>\n",
       "      <th>AUC</th>\n",
       "    </tr>\n",
       "  </thead>\n",
       "  <tbody>\n",
       "    <tr>\n",
       "      <th>0</th>\n",
       "      <td>rf_ohe</td>\n",
       "      <td>0.819251</td>\n",
       "    </tr>\n",
       "    <tr>\n",
       "      <th>1</th>\n",
       "      <td>rf_ohe_scaled</td>\n",
       "      <td>0.805096</td>\n",
       "    </tr>\n",
       "    <tr>\n",
       "      <th>2</th>\n",
       "      <td>rf_target</td>\n",
       "      <td>0.815621</td>\n",
       "    </tr>\n",
       "    <tr>\n",
       "      <th>3</th>\n",
       "      <td>rf_target_scaled</td>\n",
       "      <td>0.823969</td>\n",
       "    </tr>\n",
       "    <tr>\n",
       "      <th>4</th>\n",
       "      <td>xgb_ohe</td>\n",
       "      <td>0.812427</td>\n",
       "    </tr>\n",
       "    <tr>\n",
       "      <th>5</th>\n",
       "      <td>xgb_ohe_scaled</td>\n",
       "      <td>0.812427</td>\n",
       "    </tr>\n",
       "    <tr>\n",
       "      <th>6</th>\n",
       "      <td>xgb_target</td>\n",
       "      <td>0.816057</td>\n",
       "    </tr>\n",
       "    <tr>\n",
       "      <th>7</th>\n",
       "      <td>xgb_target_scaled</td>\n",
       "      <td>0.799724</td>\n",
       "    </tr>\n",
       "  </tbody>\n",
       "</table>\n",
       "</div>"
      ],
      "text/plain": [
       "               Model       AUC\n",
       "0             rf_ohe  0.819251\n",
       "1      rf_ohe_scaled  0.805096\n",
       "2          rf_target  0.815621\n",
       "3   rf_target_scaled  0.823969\n",
       "4            xgb_ohe  0.812427\n",
       "5     xgb_ohe_scaled  0.812427\n",
       "6         xgb_target  0.816057\n",
       "7  xgb_target_scaled  0.799724"
      ]
     },
     "execution_count": 46,
     "metadata": {},
     "output_type": "execute_result"
    }
   ],
   "source": [
    "model = [\"rf_ohe\",\"rf_ohe_scaled\",\"rf_target\",\"rf_target_scaled\",\n",
    "        \"xgb_ohe\", \"xgb_ohe_scaled\", \"xgb_target\", \"xgb_target_scaled\"]\n",
    "auc_values = []\n",
    "\n",
    "for i in model:\n",
    "    current_model = eval(i)\n",
    "    auc_values.append(returnAUC(current_model, X_train, Y_train, X_test, Y_test))\n",
    "\n",
    "\n",
    "pd.DataFrame({\n",
    "    \"Model\" : model,\n",
    "    \"AUC\": auc_values\n",
    "})"
   ]
  },
  {
   "cell_type": "code",
   "execution_count": 47,
   "metadata": {},
   "outputs": [
    {
     "name": "stdout",
     "output_type": "stream",
     "text": [
      "Accuracy: 185\n",
      "Precision: 0.7268642782121602\n",
      "Recall: 0.9285714285714286\n",
      "AUC: 0.8281068524970964\n"
     ]
    },
    {
     "data": {
      "image/png": "[encoded data removed]",
      "text/plain": [
       "<Figure size 432x288 with 1 Axes>"
      ]
     },
     "metadata": {
      "needs_background": "light"
     },
     "output_type": "display_data"
    }
   ],
   "source": [
    "evaluateModel(rf_target, X_train, Y_train, X_test, Y_test)"
   ]
  },
  {
   "cell_type": "code",
   "execution_count": 48,
   "metadata": {},
   "outputs": [
    {
     "name": "stdout",
     "output_type": "stream",
     "text": [
      "Accuracy: 193\n",
      "Precision: 0.755944055944056\n",
      "Recall: 0.9107142857142857\n",
      "AUC: 0.8160569105691057\n"
     ]
    },
    {
     "data": {
      "image/png": "[encoded data removed]",
      "text/plain": [
       "<Figure size 432x288 with 1 Axes>"
      ]
     },
     "metadata": {
      "needs_background": "light"
     },
     "output_type": "display_data"
    }
   ],
   "source": [
    "evaluateModel(xgb_target, X_train, Y_train, X_test, Y_test)"
   ]
  },
  {
   "cell_type": "code",
   "execution_count": 49,
   "metadata": {},
   "outputs": [
    {
     "name": "stdout",
     "output_type": "stream",
     "text": [
      "Accuracy: 185\n",
      "Precision: 0.7172728225552877\n",
      "Recall: 0.9107142857142857\n",
      "AUC: 0.8304297328687572\n"
     ]
    },
    {
     "data": {
      "image/png": "[encoded data removed]",
      "text/plain": [
       "<Figure size 432x288 with 1 Axes>"
      ]
     },
     "metadata": {
      "needs_background": "light"
     },
     "output_type": "display_data"
    }
   ],
   "source": [
    "evaluateModel(rf_target_scaled, X_train, Y_train, X_test, Y_test)"
   ]
  },
  {
   "cell_type": "code",
   "execution_count": 50,
   "metadata": {},
   "outputs": [
    {
     "name": "stdout",
     "output_type": "stream",
     "text": [
      "Accuracy: 188\n",
      "Precision: 0.7228070175438597\n",
      "Recall: 0.8809523809523809\n",
      "AUC: 0.7997241579558653\n"
     ]
    },
    {
     "data": {
      "image/png": "[encoded data removed]",
      "text/plain": [
       "<Figure size 432x288 with 1 Axes>"
      ]
     },
     "metadata": {
      "needs_background": "light"
     },
     "output_type": "display_data"
    }
   ],
   "source": [
    "evaluateModel(xgb_target_scaled, X_train, Y_train, X_test, Y_test)"
   ]
  },
  {
   "cell_type": "code",
   "execution_count": 52,
   "metadata": {},
   "outputs": [
    {
     "data": {
      "text/plain": [
       "('classifier',\n",
       " XGBClassifier(base_score=0.5, booster=None, colsample_bylevel=1,\n",
       "               colsample_bynode=1, colsample_bytree=0.75, gamma=2.0, gpu_id=-1,\n",
       "               importance_type='gain', interaction_constraints=None,\n",
       "               learning_rate=0.2, max_delta_step=0, max_depth=2,\n",
       "               min_child_weight=4, missing=nan, monotone_constraints=None,\n",
       "               n_estimators=600, n_jobs=4, nthread=4, num_parallel_tree=1,\n",
       "               objective='binary:logistic', random_state=0, reg_alpha=0,\n",
       "               reg_lambda=1, scale_pos_weight=1, silent=True, subsample=0.95,\n",
       "               tree_method=None, validate_parameters=False, verbosity=None))"
      ]
     },
     "execution_count": 52,
     "metadata": {},
     "output_type": "execute_result"
    }
   ],
   "source": [
    "xgb_target_scaled.steps[2]"
   ]
  },
  {
   "cell_type": "code",
   "execution_count": 53,
   "metadata": {},
   "outputs": [
    {
     "data": {
      "text/plain": [
       "('classifier',\n",
       " RandomForestClassifier(bootstrap=True, ccp_alpha=0.0, class_weight=None,\n",
       "                        criterion='gini', max_depth=None, max_features='log2',\n",
       "                        max_leaf_nodes=None, max_samples=0.9,\n",
       "                        min_impurity_decrease=1e-05, min_impurity_split=None,\n",
       "                        min_samples_leaf=3, min_samples_split=2,\n",
       "                        min_weight_fraction_leaf=0, n_estimators=200,\n",
       "                        n_jobs=None, oob_score=True, random_state=None,\n",
       "                        verbose=0, warm_start=False))"
      ]
     },
     "execution_count": 53,
     "metadata": {},
     "output_type": "execute_result"
    }
   ],
   "source": [
    "rf_target_scaled.steps[2]"
   ]
  },
  {
   "cell_type": "code",
   "execution_count": 56,
   "metadata": {},
   "outputs": [
    {
     "data": {
      "text/plain": [
       "('classifier',\n",
       " RandomForestClassifier(bootstrap=True, ccp_alpha=0.0, class_weight=None,\n",
       "                        criterion='gini', max_depth=8, max_features='auto',\n",
       "                        max_leaf_nodes=None, max_samples=0.9,\n",
       "                        min_impurity_decrease=1e-05, min_impurity_split=None,\n",
       "                        min_samples_leaf=2, min_samples_split=2,\n",
       "                        min_weight_fraction_leaf=0, n_estimators=200,\n",
       "                        n_jobs=None, oob_score=True, random_state=None,\n",
       "                        verbose=0, warm_start=False))"
      ]
     },
     "execution_count": 56,
     "metadata": {},
     "output_type": "execute_result"
    }
   ],
   "source": [
    "rf_target.steps[1]"
   ]
  },
  {
   "cell_type": "code",
   "execution_count": 57,
   "metadata": {},
   "outputs": [
    {
     "data": {
      "text/plain": [
       "('classifier',\n",
       " XGBClassifier(base_score=0.5, booster=None, colsample_bylevel=1,\n",
       "               colsample_bynode=1, colsample_bytree=0.9, gamma=4.5, gpu_id=-1,\n",
       "               importance_type='gain', interaction_constraints=None,\n",
       "               learning_rate=0.1, max_delta_step=0, max_depth=4,\n",
       "               min_child_weight=3, missing=nan, monotone_constraints=None,\n",
       "               n_estimators=50, n_jobs=4, nthread=4, num_parallel_tree=1,\n",
       "               objective='binary:logistic', random_state=0, reg_alpha=0,\n",
       "               reg_lambda=1, scale_pos_weight=1, silent=True, subsample=0.6,\n",
       "               tree_method=None, validate_parameters=False, verbosity=None))"
      ]
     },
     "execution_count": 57,
     "metadata": {},
     "output_type": "execute_result"
    }
   ],
   "source": [
    "xgb_target.steps[1]"
   ]
  },
  {
   "cell_type": "code",
   "execution_count": null,
   "metadata": {},
   "outputs": [],
   "source": []
  }
 ],
 "metadata": {
  "kernelspec": {
   "display_name": "Python 3",
   "language": "python",
   "name": "python3"
  },
  "language_info": {
   "codemirror_mode": {
    "name": "ipython",
    "version": 3
   },
   "file_extension": ".py",
   "mimetype": "text/x-python",
   "name": "python",
   "nbconvert_exporter": "python",
   "pygments_lexer": "ipython3",
   "version": "3.7.6"
  }
 },
 "nbformat": 4,
 "nbformat_minor": 4
}
